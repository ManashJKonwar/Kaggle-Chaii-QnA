{
 "cells": [
  {
   "cell_type": "markdown",
   "id": "5ba114f3",
   "metadata": {
    "papermill": {
     "duration": 0.038355,
     "end_time": "2021-09-03T13:47:51.805853",
     "exception": false,
     "start_time": "2021-09-03T13:47:51.767498",
     "status": "completed"
    },
    "tags": []
   },
   "source": [
    "# Install Module"
   ]
  },
  {
   "cell_type": "code",
   "execution_count": 1,
   "id": "0912c45f",
   "metadata": {
    "execution": {
     "iopub.execute_input": "2021-09-03T13:47:51.893270Z",
     "iopub.status.busy": "2021-09-03T13:47:51.892754Z",
     "iopub.status.idle": "2021-09-03T13:48:45.629331Z",
     "shell.execute_reply": "2021-09-03T13:48:45.628332Z"
    },
    "papermill": {
     "duration": 53.786601,
     "end_time": "2021-09-03T13:48:45.629511",
     "exception": false,
     "start_time": "2021-09-03T13:47:51.842910",
     "status": "completed"
    },
    "tags": []
   },
   "outputs": [
    {
     "name": "stdout",
     "output_type": "stream",
     "text": [
      "Processing /kaggle/input/chaii-python-module-installers/xxhash-2.0.2-cp37-cp37m-manylinux2010_x86_64.whl\r\n",
      "Installing collected packages: xxhash\r\n",
      "Successfully installed xxhash-2.0.2\r\n",
      "\u001b[33mWARNING: Running pip as root will break packages and permissions. You should install packages reliably by using venv: https://pip.pypa.io/warnings/venv\u001b[0m\r\n",
      "Processing /kaggle/input/chaii-python-module-installers/datasets-1.11.0-py3-none-any.whl\r\n",
      "Requirement already satisfied: packaging in /opt/conda/lib/python3.7/site-packages (from datasets==1.11.0) (20.9)\r\n",
      "Requirement already satisfied: numpy>=1.17 in /opt/conda/lib/python3.7/site-packages (from datasets==1.11.0) (1.19.5)\r\n",
      "Requirement already satisfied: tqdm>=4.42 in /opt/conda/lib/python3.7/site-packages (from datasets==1.11.0) (4.61.1)\r\n",
      "Requirement already satisfied: pandas in /opt/conda/lib/python3.7/site-packages (from datasets==1.11.0) (1.2.4)\r\n",
      "Requirement already satisfied: xxhash in /opt/conda/lib/python3.7/site-packages (from datasets==1.11.0) (2.0.2)\r\n",
      "Requirement already satisfied: importlib-metadata in /opt/conda/lib/python3.7/site-packages (from datasets==1.11.0) (3.4.0)\r\n",
      "Requirement already satisfied: multiprocess in /opt/conda/lib/python3.7/site-packages (from datasets==1.11.0) (0.70.12.2)\r\n",
      "Requirement already satisfied: requests>=2.19.0 in /opt/conda/lib/python3.7/site-packages (from datasets==1.11.0) (2.25.1)\r\n",
      "Requirement already satisfied: dill in /opt/conda/lib/python3.7/site-packages (from datasets==1.11.0) (0.3.4)\r\n",
      "Requirement already satisfied: fsspec>=2021.05.0 in /opt/conda/lib/python3.7/site-packages (from datasets==1.11.0) (2021.6.1)\r\n",
      "Requirement already satisfied: pyarrow!=4.0.0,>=1.0.0 in /opt/conda/lib/python3.7/site-packages (from datasets==1.11.0) (1.0.1)\r\n",
      "Requirement already satisfied: huggingface-hub<0.1.0 in /opt/conda/lib/python3.7/site-packages (from datasets==1.11.0) (0.0.8)\r\n",
      "Requirement already satisfied: filelock in /opt/conda/lib/python3.7/site-packages (from huggingface-hub<0.1.0->datasets==1.11.0) (3.0.12)\r\n",
      "Requirement already satisfied: idna<3,>=2.5 in /opt/conda/lib/python3.7/site-packages (from requests>=2.19.0->datasets==1.11.0) (2.10)\r\n",
      "Requirement already satisfied: certifi>=2017.4.17 in /opt/conda/lib/python3.7/site-packages (from requests>=2.19.0->datasets==1.11.0) (2021.5.30)\r\n",
      "Requirement already satisfied: urllib3<1.27,>=1.21.1 in /opt/conda/lib/python3.7/site-packages (from requests>=2.19.0->datasets==1.11.0) (1.26.5)\r\n",
      "Requirement already satisfied: chardet<5,>=3.0.2 in /opt/conda/lib/python3.7/site-packages (from requests>=2.19.0->datasets==1.11.0) (4.0.0)\r\n",
      "Requirement already satisfied: typing-extensions>=3.6.4 in /opt/conda/lib/python3.7/site-packages (from importlib-metadata->datasets==1.11.0) (3.7.4.3)\r\n",
      "Requirement already satisfied: zipp>=0.5 in /opt/conda/lib/python3.7/site-packages (from importlib-metadata->datasets==1.11.0) (3.4.1)\r\n",
      "Requirement already satisfied: pyparsing>=2.0.2 in /opt/conda/lib/python3.7/site-packages (from packaging->datasets==1.11.0) (2.4.7)\r\n",
      "Requirement already satisfied: python-dateutil>=2.7.3 in /opt/conda/lib/python3.7/site-packages (from pandas->datasets==1.11.0) (2.8.1)\r\n",
      "Requirement already satisfied: pytz>=2017.3 in /opt/conda/lib/python3.7/site-packages (from pandas->datasets==1.11.0) (2021.1)\r\n",
      "Requirement already satisfied: six>=1.5 in /opt/conda/lib/python3.7/site-packages (from python-dateutil>=2.7.3->pandas->datasets==1.11.0) (1.15.0)\r\n",
      "Installing collected packages: datasets\r\n",
      "Successfully installed datasets-1.11.0\r\n",
      "\u001b[33mWARNING: Running pip as root will break packages and permissions. You should install packages reliably by using venv: https://pip.pypa.io/warnings/venv\u001b[0m\r\n"
     ]
    }
   ],
   "source": [
    "! pip install ../input/chaii-python-module-installers/xxhash-2.0.2-cp37-cp37m-manylinux2010_x86_64.whl\n",
    "! pip install ../input/chaii-python-module-installers/datasets-1.11.0-py3-none-any.whl"
   ]
  },
  {
   "cell_type": "markdown",
   "id": "2c1dc0c4",
   "metadata": {
    "papermill": {
     "duration": 0.039982,
     "end_time": "2021-09-03T13:48:45.709955",
     "exception": false,
     "start_time": "2021-09-03T13:48:45.669973",
     "status": "completed"
    },
    "tags": []
   },
   "source": [
    "# Importing Libraries"
   ]
  },
  {
   "cell_type": "markdown",
   "id": "2e296f7c",
   "metadata": {
    "papermill": {
     "duration": 0.039974,
     "end_time": "2021-09-03T13:48:45.789871",
     "exception": false,
     "start_time": "2021-09-03T13:48:45.749897",
     "status": "completed"
    },
    "tags": []
   },
   "source": []
  },
  {
   "cell_type": "code",
   "execution_count": 2,
   "id": "863a5559",
   "metadata": {
    "execution": {
     "iopub.execute_input": "2021-09-03T13:48:45.875857Z",
     "iopub.status.busy": "2021-09-03T13:48:45.875061Z",
     "iopub.status.idle": "2021-09-03T13:48:52.923846Z",
     "shell.execute_reply": "2021-09-03T13:48:52.922949Z"
    },
    "papermill": {
     "duration": 7.09429,
     "end_time": "2021-09-03T13:48:52.923999",
     "exception": false,
     "start_time": "2021-09-03T13:48:45.829709",
     "status": "completed"
    },
    "tags": []
   },
   "outputs": [],
   "source": [
    "import torch\n",
    "import random\n",
    "import collections\n",
    "import transformers\n",
    "import numpy as np\n",
    "import pandas as pd\n",
    "from tqdm.auto import tqdm\n",
    "from datasets import ClassLabel, Sequence, Dataset\n",
    "from IPython.display import display, HTML\n",
    "from transformers import AutoTokenizer\n",
    "from transformers import AutoModelForQuestionAnswering, TrainingArguments, Trainer\n",
    "from transformers import default_data_collator"
   ]
  },
  {
   "cell_type": "markdown",
   "id": "d8486999",
   "metadata": {
    "papermill": {
     "duration": 0.040621,
     "end_time": "2021-09-03T13:48:53.005668",
     "exception": false,
     "start_time": "2021-09-03T13:48:52.965047",
     "status": "completed"
    },
    "tags": []
   },
   "source": [
    "# Setting Model Based Parameters"
   ]
  },
  {
   "cell_type": "code",
   "execution_count": 3,
   "id": "b4aae39b",
   "metadata": {
    "execution": {
     "iopub.execute_input": "2021-09-03T13:48:53.091303Z",
     "iopub.status.busy": "2021-09-03T13:48:53.090063Z",
     "iopub.status.idle": "2021-09-03T13:48:53.092837Z",
     "shell.execute_reply": "2021-09-03T13:48:53.092430Z"
    },
    "papermill": {
     "duration": 0.046727,
     "end_time": "2021-09-03T13:48:53.092946",
     "exception": false,
     "start_time": "2021-09-03T13:48:53.046219",
     "status": "completed"
    },
    "tags": []
   },
   "outputs": [],
   "source": [
    "squad_v2 = False\n",
    "model_checkpoint_name = '../input/chaii-pretrained-models/deepset/xlm-roberta-large-squad2'\n",
    "batch_size = 4"
   ]
  },
  {
   "cell_type": "markdown",
   "id": "054841eb",
   "metadata": {
    "papermill": {
     "duration": 0.040498,
     "end_time": "2021-09-03T13:48:53.173453",
     "exception": false,
     "start_time": "2021-09-03T13:48:53.132955",
     "status": "completed"
    },
    "tags": []
   },
   "source": [
    "# Loading Train, Test and Sample data"
   ]
  },
  {
   "cell_type": "code",
   "execution_count": 4,
   "id": "e4ccca5d",
   "metadata": {
    "execution": {
     "iopub.execute_input": "2021-09-03T13:48:53.259238Z",
     "iopub.status.busy": "2021-09-03T13:48:53.258743Z",
     "iopub.status.idle": "2021-09-03T13:48:54.078751Z",
     "shell.execute_reply": "2021-09-03T13:48:54.078092Z"
    },
    "papermill": {
     "duration": 0.865066,
     "end_time": "2021-09-03T13:48:54.078971",
     "exception": false,
     "start_time": "2021-09-03T13:48:53.213905",
     "status": "completed"
    },
    "tags": []
   },
   "outputs": [],
   "source": [
    "train = pd.read_csv(\"../input/chaii-hindi-and-tamil-question-answering/train.csv\")\n",
    "test = pd.read_csv(\"../input/chaii-hindi-and-tamil-question-answering/test.csv\")\n",
    "sample_submission = pd.read_csv(\"../input/chaii-hindi-and-tamil-question-answering/sample_submission.csv\")"
   ]
  },
  {
   "cell_type": "markdown",
   "id": "a7337a8e",
   "metadata": {
    "papermill": {
     "duration": 0.040114,
     "end_time": "2021-09-03T13:48:54.160675",
     "exception": false,
     "start_time": "2021-09-03T13:48:54.120561",
     "status": "completed"
    },
    "tags": []
   },
   "source": [
    "# Data Exploration"
   ]
  },
  {
   "cell_type": "code",
   "execution_count": 5,
   "id": "aff89efa",
   "metadata": {
    "execution": {
     "iopub.execute_input": "2021-09-03T13:48:54.255481Z",
     "iopub.status.busy": "2021-09-03T13:48:54.254931Z",
     "iopub.status.idle": "2021-09-03T13:48:54.274588Z",
     "shell.execute_reply": "2021-09-03T13:48:54.275351Z"
    },
    "papermill": {
     "duration": 0.074649,
     "end_time": "2021-09-03T13:48:54.275553",
     "exception": false,
     "start_time": "2021-09-03T13:48:54.200904",
     "status": "completed"
    },
    "tags": []
   },
   "outputs": [
    {
     "data": {
      "text/html": [
       "<div>\n",
       "<style scoped>\n",
       "    .dataframe tbody tr th:only-of-type {\n",
       "        vertical-align: middle;\n",
       "    }\n",
       "\n",
       "    .dataframe tbody tr th {\n",
       "        vertical-align: top;\n",
       "    }\n",
       "\n",
       "    .dataframe thead th {\n",
       "        text-align: right;\n",
       "    }\n",
       "</style>\n",
       "<table border=\"1\" class=\"dataframe\">\n",
       "  <thead>\n",
       "    <tr style=\"text-align: right;\">\n",
       "      <th></th>\n",
       "      <th>id</th>\n",
       "      <th>context</th>\n",
       "      <th>question</th>\n",
       "      <th>answer_text</th>\n",
       "      <th>answer_start</th>\n",
       "      <th>language</th>\n",
       "    </tr>\n",
       "  </thead>\n",
       "  <tbody>\n",
       "    <tr>\n",
       "      <th>0</th>\n",
       "      <td>903deec17</td>\n",
       "      <td>ஒரு சாதாரண வளர்ந்த மனிதனுடைய எலும்புக்கூடு பின...</td>\n",
       "      <td>மனித உடலில் எத்தனை எலும்புகள் உள்ளன?</td>\n",
       "      <td>206</td>\n",
       "      <td>53</td>\n",
       "      <td>tamil</td>\n",
       "    </tr>\n",
       "    <tr>\n",
       "      <th>1</th>\n",
       "      <td>d9841668c</td>\n",
       "      <td>காளிதாசன் (தேவநாகரி: कालिदास) சமஸ்கிருத இலக்கி...</td>\n",
       "      <td>காளிதாசன் எங்கு பிறந்தார்?</td>\n",
       "      <td>காசுமீரில்</td>\n",
       "      <td>2358</td>\n",
       "      <td>tamil</td>\n",
       "    </tr>\n",
       "    <tr>\n",
       "      <th>2</th>\n",
       "      <td>29d154b56</td>\n",
       "      <td>சர் அலெக்ஸாண்டர் ஃபிளெமிங் (Sir Alexander Flem...</td>\n",
       "      <td>பென்சிலின் கண்டுபிடித்தவர் யார்?</td>\n",
       "      <td>சர் அலெக்ஸாண்டர் ஃபிளெமிங்</td>\n",
       "      <td>0</td>\n",
       "      <td>tamil</td>\n",
       "    </tr>\n",
       "    <tr>\n",
       "      <th>3</th>\n",
       "      <td>41660850a</td>\n",
       "      <td>குழந்தையின் அழுகையை  நிறுத்தவும், தூங்க வைக்கவ...</td>\n",
       "      <td>தமிழ்நாட்டில் குழந்தைகளை தூங்க வைக்க பாடும் பா...</td>\n",
       "      <td>தாலாட்டு</td>\n",
       "      <td>68</td>\n",
       "      <td>tamil</td>\n",
       "    </tr>\n",
       "    <tr>\n",
       "      <th>4</th>\n",
       "      <td>b29c82c22</td>\n",
       "      <td>சூரியக் குடும்பம் \\nசூரியக் குடும்பம் (Solar S...</td>\n",
       "      <td>பூமியின் அருகில் உள்ள விண்மீன் எது?</td>\n",
       "      <td>சூரியனும்</td>\n",
       "      <td>585</td>\n",
       "      <td>tamil</td>\n",
       "    </tr>\n",
       "    <tr>\n",
       "      <th>...</th>\n",
       "      <td>...</td>\n",
       "      <td>...</td>\n",
       "      <td>...</td>\n",
       "      <td>...</td>\n",
       "      <td>...</td>\n",
       "      <td>...</td>\n",
       "    </tr>\n",
       "    <tr>\n",
       "      <th>1109</th>\n",
       "      <td>26f356026</td>\n",
       "      <td>स्वामी निगमानन्द परमहंस (18 अगस्त 1880 - 29 नव...</td>\n",
       "      <td>स्वामी निगमानन्द परमहंस के तन्त्र गुरु कौन थे?</td>\n",
       "      <td>बामाक्षेपा</td>\n",
       "      <td>2691</td>\n",
       "      <td>hindi</td>\n",
       "    </tr>\n",
       "    <tr>\n",
       "      <th>1110</th>\n",
       "      <td>31179f1bb</td>\n",
       "      <td>भरत मुनि ने नाट्यशास्त्र नामक प्रसिद्ध ग्रन्थ ...</td>\n",
       "      <td>नित्यशास्त्र किसने लिखा है?</td>\n",
       "      <td>भरत मुनि</td>\n",
       "      <td>0</td>\n",
       "      <td>hindi</td>\n",
       "    </tr>\n",
       "    <tr>\n",
       "      <th>1111</th>\n",
       "      <td>0d35dc007</td>\n",
       "      <td>अग्नि पंचम (अग्नि-५) भारत की अन्तरमहाद्वीपीय ब...</td>\n",
       "      <td>अग्नि पंचम(५) मिसाइल की लम्बाई कितने मीटर है?</td>\n",
       "      <td>17</td>\n",
       "      <td>155</td>\n",
       "      <td>hindi</td>\n",
       "    </tr>\n",
       "    <tr>\n",
       "      <th>1112</th>\n",
       "      <td>7f997884d</td>\n",
       "      <td>जलाल उद्दीन मोहम्मद अकबर () (१५ अक्तूबर, १५४२-...</td>\n",
       "      <td>मुगल सम्राट अकबर की मृत्यु किस वर्ष में हुई थी?</td>\n",
       "      <td>२७ अक्तूबर, १६०५</td>\n",
       "      <td>46</td>\n",
       "      <td>hindi</td>\n",
       "    </tr>\n",
       "    <tr>\n",
       "      <th>1113</th>\n",
       "      <td>ee569fe45</td>\n",
       "      <td>अमेरिका में जन्मीं अभिनेत्री तथा फैशन डिज़ाइनर...</td>\n",
       "      <td>लीजा रे की पहली फिल्म का नाम क्या था?</td>\n",
       "      <td>नेताजी</td>\n",
       "      <td>2017</td>\n",
       "      <td>hindi</td>\n",
       "    </tr>\n",
       "  </tbody>\n",
       "</table>\n",
       "<p>1114 rows × 6 columns</p>\n",
       "</div>"
      ],
      "text/plain": [
       "             id                                            context  \\\n",
       "0     903deec17  ஒரு சாதாரண வளர்ந்த மனிதனுடைய எலும்புக்கூடு பின...   \n",
       "1     d9841668c  காளிதாசன் (தேவநாகரி: कालिदास) சமஸ்கிருத இலக்கி...   \n",
       "2     29d154b56  சர் அலெக்ஸாண்டர் ஃபிளெமிங் (Sir Alexander Flem...   \n",
       "3     41660850a  குழந்தையின் அழுகையை  நிறுத்தவும், தூங்க வைக்கவ...   \n",
       "4     b29c82c22  சூரியக் குடும்பம் \\nசூரியக் குடும்பம் (Solar S...   \n",
       "...         ...                                                ...   \n",
       "1109  26f356026  स्वामी निगमानन्द परमहंस (18 अगस्त 1880 - 29 नव...   \n",
       "1110  31179f1bb  भरत मुनि ने नाट्यशास्त्र नामक प्रसिद्ध ग्रन्थ ...   \n",
       "1111  0d35dc007  अग्नि पंचम (अग्नि-५) भारत की अन्तरमहाद्वीपीय ब...   \n",
       "1112  7f997884d  जलाल उद्दीन मोहम्मद अकबर () (१५ अक्तूबर, १५४२-...   \n",
       "1113  ee569fe45  अमेरिका में जन्मीं अभिनेत्री तथा फैशन डिज़ाइनर...   \n",
       "\n",
       "                                               question  \\\n",
       "0                  மனித உடலில் எத்தனை எலும்புகள் உள்ளன?   \n",
       "1                            காளிதாசன் எங்கு பிறந்தார்?   \n",
       "2                      பென்சிலின் கண்டுபிடித்தவர் யார்?   \n",
       "3     தமிழ்நாட்டில் குழந்தைகளை தூங்க வைக்க பாடும் பா...   \n",
       "4                   பூமியின் அருகில் உள்ள விண்மீன் எது?   \n",
       "...                                                 ...   \n",
       "1109     स्वामी निगमानन्द परमहंस के तन्त्र गुरु कौन थे?   \n",
       "1110                        नित्यशास्त्र किसने लिखा है?   \n",
       "1111      अग्नि पंचम(५) मिसाइल की लम्बाई कितने मीटर है?   \n",
       "1112    मुगल सम्राट अकबर की मृत्यु किस वर्ष में हुई थी?   \n",
       "1113              लीजा रे की पहली फिल्म का नाम क्या था?   \n",
       "\n",
       "                     answer_text  answer_start language  \n",
       "0                            206            53    tamil  \n",
       "1                     காசுமீரில்          2358    tamil  \n",
       "2     சர் அலெக்ஸாண்டர் ஃபிளெமிங்             0    tamil  \n",
       "3                       தாலாட்டு            68    tamil  \n",
       "4                      சூரியனும்           585    tamil  \n",
       "...                          ...           ...      ...  \n",
       "1109                  बामाक्षेपा          2691    hindi  \n",
       "1110                    भरत मुनि             0    hindi  \n",
       "1111                          17           155    hindi  \n",
       "1112            २७ अक्तूबर, १६०५            46    hindi  \n",
       "1113                      नेताजी          2017    hindi  \n",
       "\n",
       "[1114 rows x 6 columns]"
      ]
     },
     "execution_count": 5,
     "metadata": {},
     "output_type": "execute_result"
    }
   ],
   "source": [
    "train"
   ]
  },
  {
   "cell_type": "code",
   "execution_count": 6,
   "id": "ff0a8625",
   "metadata": {
    "execution": {
     "iopub.execute_input": "2021-09-03T13:48:54.367233Z",
     "iopub.status.busy": "2021-09-03T13:48:54.366732Z",
     "iopub.status.idle": "2021-09-03T13:48:54.371773Z",
     "shell.execute_reply": "2021-09-03T13:48:54.371353Z"
    },
    "papermill": {
     "duration": 0.055022,
     "end_time": "2021-09-03T13:48:54.371883",
     "exception": false,
     "start_time": "2021-09-03T13:48:54.316861",
     "status": "completed"
    },
    "tags": []
   },
   "outputs": [
    {
     "data": {
      "text/html": [
       "<div>\n",
       "<style scoped>\n",
       "    .dataframe tbody tr th:only-of-type {\n",
       "        vertical-align: middle;\n",
       "    }\n",
       "\n",
       "    .dataframe tbody tr th {\n",
       "        vertical-align: top;\n",
       "    }\n",
       "\n",
       "    .dataframe thead th {\n",
       "        text-align: right;\n",
       "    }\n",
       "</style>\n",
       "<table border=\"1\" class=\"dataframe\">\n",
       "  <thead>\n",
       "    <tr style=\"text-align: right;\">\n",
       "      <th></th>\n",
       "      <th>id</th>\n",
       "      <th>context</th>\n",
       "      <th>question</th>\n",
       "      <th>language</th>\n",
       "    </tr>\n",
       "  </thead>\n",
       "  <tbody>\n",
       "    <tr>\n",
       "      <th>0</th>\n",
       "      <td>22bff3dec</td>\n",
       "      <td>ज्वाला गुट्टा (जन्म: 7 सितंबर 1983; वर्धा, महा...</td>\n",
       "      <td>ज्वाला गुट्टा की माँ का नाम क्या है</td>\n",
       "      <td>hindi</td>\n",
       "    </tr>\n",
       "    <tr>\n",
       "      <th>1</th>\n",
       "      <td>282758170</td>\n",
       "      <td>गूगल मानचित्र (Google Maps) (पूर्व में गूगल लो...</td>\n",
       "      <td>गूगल मैप्स कब लॉन्च किया गया था?</td>\n",
       "      <td>hindi</td>\n",
       "    </tr>\n",
       "    <tr>\n",
       "      <th>2</th>\n",
       "      <td>d60987e0e</td>\n",
       "      <td>गुस्ताव रॉबर्ट किरचॉफ़ (१२ मार्च १८२४ - १७ अक्...</td>\n",
       "      <td>गुस्ताव किरचॉफ का जन्म कब हुआ था?</td>\n",
       "      <td>hindi</td>\n",
       "    </tr>\n",
       "    <tr>\n",
       "      <th>3</th>\n",
       "      <td>f99c770dc</td>\n",
       "      <td>அலுமினியம் (ஆங்கிலம்: அலுமினியம்; வட அமெரிக்க ...</td>\n",
       "      <td>அலுமினியத்தின் அணு எண் என்ன?</td>\n",
       "      <td>tamil</td>\n",
       "    </tr>\n",
       "    <tr>\n",
       "      <th>4</th>\n",
       "      <td>40dec1964</td>\n",
       "      <td>கூட்டுறவு இயக்க வரலாறு, இங்கிலாந்து  நாட்டில் ...</td>\n",
       "      <td>இந்தியாவில் பசுமை புரட்சியின் தந்தை என்று கருத...</td>\n",
       "      <td>tamil</td>\n",
       "    </tr>\n",
       "  </tbody>\n",
       "</table>\n",
       "</div>"
      ],
      "text/plain": [
       "          id                                            context  \\\n",
       "0  22bff3dec  ज्वाला गुट्टा (जन्म: 7 सितंबर 1983; वर्धा, महा...   \n",
       "1  282758170  गूगल मानचित्र (Google Maps) (पूर्व में गूगल लो...   \n",
       "2  d60987e0e  गुस्ताव रॉबर्ट किरचॉफ़ (१२ मार्च १८२४ - १७ अक्...   \n",
       "3  f99c770dc  அலுமினியம் (ஆங்கிலம்: அலுமினியம்; வட அமெரிக்க ...   \n",
       "4  40dec1964  கூட்டுறவு இயக்க வரலாறு, இங்கிலாந்து  நாட்டில் ...   \n",
       "\n",
       "                                            question language  \n",
       "0                ज्वाला गुट्टा की माँ का नाम क्या है    hindi  \n",
       "1                   गूगल मैप्स कब लॉन्च किया गया था?    hindi  \n",
       "2                  गुस्ताव किरचॉफ का जन्म कब हुआ था?    hindi  \n",
       "3                       அலுமினியத்தின் அணு எண் என்ன?    tamil  \n",
       "4  இந்தியாவில் பசுமை புரட்சியின் தந்தை என்று கருத...    tamil  "
      ]
     },
     "execution_count": 6,
     "metadata": {},
     "output_type": "execute_result"
    }
   ],
   "source": [
    "test"
   ]
  },
  {
   "cell_type": "code",
   "execution_count": 7,
   "id": "ae54ebac",
   "metadata": {
    "execution": {
     "iopub.execute_input": "2021-09-03T13:48:54.463181Z",
     "iopub.status.busy": "2021-09-03T13:48:54.462688Z",
     "iopub.status.idle": "2021-09-03T13:48:54.467180Z",
     "shell.execute_reply": "2021-09-03T13:48:54.467554Z"
    },
    "papermill": {
     "duration": 0.053988,
     "end_time": "2021-09-03T13:48:54.467689",
     "exception": false,
     "start_time": "2021-09-03T13:48:54.413701",
     "status": "completed"
    },
    "tags": []
   },
   "outputs": [
    {
     "data": {
      "text/plain": [
       "hindi    746\n",
       "tamil    368\n",
       "Name: language, dtype: int64"
      ]
     },
     "execution_count": 7,
     "metadata": {},
     "output_type": "execute_result"
    }
   ],
   "source": [
    "train.language.value_counts()"
   ]
  },
  {
   "cell_type": "code",
   "execution_count": 8,
   "id": "51987660",
   "metadata": {
    "execution": {
     "iopub.execute_input": "2021-09-03T13:48:54.557978Z",
     "iopub.status.busy": "2021-09-03T13:48:54.556858Z",
     "iopub.status.idle": "2021-09-03T13:48:54.560964Z",
     "shell.execute_reply": "2021-09-03T13:48:54.561355Z"
    },
    "papermill": {
     "duration": 0.051834,
     "end_time": "2021-09-03T13:48:54.561493",
     "exception": false,
     "start_time": "2021-09-03T13:48:54.509659",
     "status": "completed"
    },
    "tags": []
   },
   "outputs": [
    {
     "data": {
      "text/plain": [
       "'ஒரு சாதாரண வளர்ந்த மனிதனுடைய எலும்புக்கூடு பின்வரும் 206 (மார்பெலும்பு மூன்று பகுதிகளாகக் கருதப்பட்டால் 208) எண்ணிக்கையான எலும்புகளைக் கொண்டிருக்கும். இந்த எண்ணிக்கை உடற்கூட்டியல் வேறுபாடுகளைப் பொறுத்து மாறுபடக்கூடும். எடுத்துக்காட்டாக, மிகக் குறைந்த எண்ணிக்கையான மனிதர்களில், ஒரு மேலதிக விலா எலும்பு (கழுத்துவில்) அல்லது ஒரு மேலதிகமான கீழ் முதுகெலும்பு காணப்படுவதுண்டு; இணைந்த சில எலும்புகளைத் தனி எலும்பாகக் கருதாவிடின், ஐந்து இணைந்த திருவெலும்பு; மூன்று (3 - 5) குயிலலகு எலும்புகள் சேர்ந்து 26 எண்ணிக்கையிலான முதுகெலும்புகள் 33 ஆகக் கருதப்படலாம்.\\nமனித மண்டையோட்டில் 22 எலும்புகள் (காதுச் சிற்றென்புகளைத் தவிர) உள்ளன; இவை எட்டு மண்டையறை (cranium) எலும்புகளாகவும் 14 முக எலும்புகளாகவும் (facial bones) பிரிக்கப்பட்டுள்ளன. (தடித்த எண்கள் அருகிலுள்ள படத்தில் காணும் எண்களைக் குறிக்கின்றன.)\\n\\n\\n\\nமண்டையறை எலும்புகள் (8)\\n 1 நுதலெலும்பு (frontal bone) \\n 2 சுவரெலும்பு (parietal bone) (2)\\n 3 கடைநுதலெலும்பு (temporal bone) (2)\\n 4 பிடர் எலும்பு (occipital bone)\\n ஆப்புரு எலும்பு (sphenoid bone)\\n நெய்யரியெலும்பு (ethmoid bone)\\nமுக எலும்புகள் (14)\\n 7 கீழ்த்தாடை எலும்பு (mandible)\\n 6 மேற்றாடை எலும்பு (maxilla) (2)\\n அண்ணவெலும்பு (palatine bone) (2)\\n 5 கன்ன எலும்பு (zygomatic bone) (2)\\n 9 நாசி எலும்பு (nasal bone) (2)\\n கண்ணீர் எலும்பு (lacrimal bone) (2)\\n மூக்குச் சுவர் எலும்பு (vomer)\\n கீழ் மூக்குத் தடுப்பெலும்பு (inferior nasal conchae) (2)\\nநடுக்காதுகளில் (6):\\n சம்மட்டியுரு (malleus)\\n பட்டையுரு (incus) \\n ஏந்தியுரு (stapes)\\nதொண்டையில் (1):\\n தொண்டை எலும்பு (நாவடி எலும்பு) (hyoid)\\nதோள் பட்டையில் (4):\\n 25. காறை எலும்பு (clavicle)\\n 29. தோள் எலும்பு (scapula)\\nமார்புக்கூட்டில் thorax(25): \\n 10. மார்பெலும்பு (sternum) (1)\\n மேலும் மூன்று என்புகளாகக் கருதப்படலாம்: பிடியுரு (manubrium), உடல் மார்பெலும்பு (body of sternum), வாள்வடிவ நீட்டம் (xiphoid process)\\n 28. விலா எலும்புகள் (rib) (24)\\n முதுகெலும்புத் தூண் (vertebral column) (33): \\n 8. கழுத்து முள்ளெலும்புகள் (cervical vertebra) (7)\\n மார்பு முள்ளெலும்புகள் (thoracic vertebra) (12)\\n 14. நாரிமுள்ளெலும்புகள் (lumbar vertebra) (5)\\n 16. திரிகம் (திருவெலும்பு) (sacrum)\\n வால் எலும்பு (குயிலலகு) (coccyx)\\nமேற்கைகளில் (arm) (1): \\n 11. புய எலும்பு (மேல்கை எலும்பு) (humerus)\\n 26. புய எலும்புப் புடைப்பு (மேல்கை எலும்புப் புடைப்பு) (condyles of humerus)\\nமுன்கைகளில் (forearm) (4): \\n 12. அரந்தி (ulna) (2)\\n 13. ஆரை எலும்பு (radius) (2)\\n 27. ஆரை எலும்புத் தலை (head of radius)\\nகைகளில் (hand) (54): \\n மணிக்கட்டுகள் (carpal):\\n படகெலும்பு (scaphoid) (2)\\n பிறைக்குழி எலும்பு (lunate) (2)\\n முப்பட்டை எலும்புtriquetrum) (2)\\n பட்டாணி எலும்பு (pisiform) (2)\\n சரிவக எலும்பு (trapezium) (2)\\n நாற்புறவுரு எலும்பு (trapezoid) (2)\\n தலையுரு எலும்பு (capitate) (2)\\n கொக்கி எலும்பு (hamate) (2)\\n அங்கை முன்னெலும்புகள் (அனுமணிக்கட்டு எலும்புகள்) (metacarpal): (5 × 2)\\n விரலெலும்புகள் (phalange): \\n அண்மை விரலெலும்புகள் (proximal phalanges) (5 × 2)\\n நடு விரலெலும்புகள் (Intermediate phalanges) (4 × 2)\\n தொலை விரலெலும்புகள் (distal phalanges) (5 × 2)\\nஇடுப்பு வளையம் (pelvis) (2):\\n 15. இடுப்பெலும்பு (ilium) மற்றும் கீழ் இடுப்பெலும்பு (ischium)\\n\\n\\nகால்கள் (leg) (8): \\n 18. தொடையெலும்பு (femur) (2)\\n 17. இடுப்பு மூட்டு (hip joint) (மூட்டு, எலும்பல்ல) \\n 22. பெரிய தொடையெலும்புக் கொண்டை (greater trochanter of femur)\\n 23. தொடையெலும்புப் புடைப்பு (condyles of femur)\\n 19. சில்லெலும்பு (patella) (2)\\n 20. கால் முன்னெலும்பு (கணைக்காலலுள்ளெலும்பு) (tibia) (2)\\n 21. சிம்பு எலும்பு (கணைக்கால்வெளியெலும்பு) (fibula) (2)\\nகாலடிகளில் (52): \\n கணுக்காலெலும்புகள் (tarsal):\\n குதிகால் (calcaneus) (2)\\n முட்டி (talus) (2)\\n படகுரு எலும்பு (navicular bone) (2)\\n உள் ஆப்புவடிவ எலும்பு (2) \\n இடை ஆப்புவடிவ எலும்பு (2)\\n வெளி ஆப்புவடிவ எலும்பு (2)\\n கனசதுர எலும்பு (cuboidal bone) (2)\\n அனுகணுக்காலெலும்புகள் (metatarsal) (5 × 2)\\n விரலெலும்புகள் (phalange):\\n அண்மை விரலெலும்புகள் (proximal phalanges) (5 × 2)\\n நடு விரலெலும்புகள் (intermediate phalanges) (4 × 2)\\n தொலை விரலெலும்புகள் (distal phalanges) (5 × 2)\\n குழந்தை எலும்புக்கூடு \\nகுழந்தைகளின் எலும்புக்கூடுகளில் கீழ் வரும் எலும்புகள் மேலதிகமாக உள்ளன:\\n மண்டையறை மற்றும் மண்டையோட்டு எலும்புகள் (21), இவை ஒன்றாகி மண்டையறையை உருவாக்குகின்றன.\\n திரிக முள்ளெலும்புகள் (sacral vertebrae) (4 or 5), வளர்ந்தோரில் இவை ஒன்றாகி திரிகத்தை உருவாக்குகின்றன \\n coccygeal vertebrae (3 to 5), வளர்ந்தோரில் இவை ஒன்றாகி வாலெலும்பை உருவாக்குகின்றன\\n இடுப்பெலும்பு, கீழ் இடுப்பெலும்பு மற்றும் பொச்செலும்பு (pubis), என்பவை வளர்ந்தோரில் ஒன்றாகி இடுப்பெலும்பை உருவாக்குகின்றன\\n\\nபகுப்பு:மனித உடற்கூற்றியல்\\nபகுப்பு:எலும்புகள்'"
      ]
     },
     "execution_count": 8,
     "metadata": {},
     "output_type": "execute_result"
    }
   ],
   "source": [
    "train.iloc[0].context"
   ]
  },
  {
   "cell_type": "code",
   "execution_count": 9,
   "id": "e7fc2934",
   "metadata": {
    "execution": {
     "iopub.execute_input": "2021-09-03T13:48:54.655257Z",
     "iopub.status.busy": "2021-09-03T13:48:54.653973Z",
     "iopub.status.idle": "2021-09-03T13:48:54.656176Z",
     "shell.execute_reply": "2021-09-03T13:48:54.656662Z"
    },
    "papermill": {
     "duration": 0.052966,
     "end_time": "2021-09-03T13:48:54.656798",
     "exception": false,
     "start_time": "2021-09-03T13:48:54.603832",
     "status": "completed"
    },
    "tags": []
   },
   "outputs": [],
   "source": [
    "def show_random_elements(dataset, num_examples=5):\n",
    "    assert num_examples <= len(dataset), \"Can't pick more elements than there are in the dataset.\"\n",
    "    picks = []\n",
    "    for _ in range(num_examples):\n",
    "        pick = random.randint(0, len(dataset)-1)\n",
    "        while pick in picks:\n",
    "            pick = random.randint(0, len(dataset)-1)\n",
    "        picks.append(pick)\n",
    "    \n",
    "    df = pd.DataFrame(dataset.iloc[picks])\n",
    "    dtypes = df.dtypes.to_dict()\n",
    "    for column, typ in dtypes.items():\n",
    "        if isinstance(typ, ClassLabel):\n",
    "            df[column] = df[column].transform(lambda i: typ.names[i])\n",
    "        elif isinstance(typ, Sequence) and isinstance(typ.feature, ClassLabel):\n",
    "            df[column] = df[column].transform(lambda x: [typ.feature.names[i] for i in x])\n",
    "    display(HTML(df.to_html()))"
   ]
  },
  {
   "cell_type": "code",
   "execution_count": 10,
   "id": "2d77de8c",
   "metadata": {
    "execution": {
     "iopub.execute_input": "2021-09-03T13:48:54.752769Z",
     "iopub.status.busy": "2021-09-03T13:48:54.752097Z",
     "iopub.status.idle": "2021-09-03T13:48:54.761926Z",
     "shell.execute_reply": "2021-09-03T13:48:54.762325Z"
    },
    "papermill": {
     "duration": 0.062581,
     "end_time": "2021-09-03T13:48:54.762470",
     "exception": false,
     "start_time": "2021-09-03T13:48:54.699889",
     "status": "completed"
    },
    "tags": []
   },
   "outputs": [
    {
     "data": {
      "text/html": [
       "<table border=\"1\" class=\"dataframe\">\n",
       "  <thead>\n",
       "    <tr style=\"text-align: right;\">\n",
       "      <th></th>\n",
       "      <th>id</th>\n",
       "      <th>context</th>\n",
       "      <th>question</th>\n",
       "      <th>answer_text</th>\n",
       "      <th>answer_start</th>\n",
       "      <th>language</th>\n",
       "    </tr>\n",
       "  </thead>\n",
       "  <tbody>\n",
       "    <tr>\n",
       "      <th>594</th>\n",
       "      <td>95e24ac44</td>\n",
       "      <td>Coordinates: चारमीनार (उर्दू: چار مینار) 1591) ई. में बनाया, हैदराबाद, भारत में स्थित एक ऐतिहासिक स्मारक है। दो शब्द उर्दू भाषा के चार मीनार जो यह चारमीनार (: चार टावर्स अंग्रेजी) के रूप में जाना जाता है संयुक्त रहे हैं। ये चार अलंकृत मीनारों संलग्न और चार भव्य मेहराब के द्वारा समर्थित हैं, यह हैदराबाद की वैश्विक आइकन बन गया है और सबसे ज्यादा मान्यता प्राप्त India.चारमीनार की संरचनाओं मूसी नदी के पूर्वी तट पर है के बीच में सूचीबद्ध है। पूर्वोत्तर Laad बाज़ार झूठ और पश्चिम अंत में स्थित ग्रेनाइट बनाया बड़े पैमाने पर मक्का मस्जिद मंडित.\\nthumbnail|चारमीनार\\nइतिहास सुल्तान मुहम्मद क़ुली क़ुतुब शाह, क़ुतुब शाही वंश के पांचवें शासक 1591 ई. में चारमीनार का निर्माण किया है, के बाद शीघ्र ही वह गोलकुंडा से क्या अब हैदराबाद के रूप में जाना जाता है अपनी राजधानी को स्थानांतरित कर दिया था। वह इस प्रसिद्ध संरचना का निर्माण के उन्मूलन को मनानेइस शहर से एक प्लेग महामारी. उन्होंने कहा जाता है कि अपने शहर ravaging था प्लेग के अंत के लिए प्रार्थना ejfgigकी है और बहुत जगह है जहाँ वह प्रार्थना कर रही थी पर एक मस्जिद (इस्लामी मस्जिद) का निर्माण की कसम खाई. चारमीनार की नींव बिछाने, जबकि 1591 में कुली कुतुब शाह प्रार्थना की: \"ओह अल्लाह, इस शहर की शांति और समृद्धि के इधार प्रदान सभी जातियों के पुरुषों के लाखों चलो और धर्मों यह उनके निवास बनाने के लिए, पानी में मछली की तरह.\"\\nमस्जिद बन गए लोकप्रिय अपने चार की वजह से चारमीनार के रूप में जाना जाता है (फ़ारसी हिन्दी = चार) मीनारों (मीनार (अरबी Manara) = मीनार/टॉवर).\\nयह कहा जाता है कि, कुतुब शाही और आसफ Jahi शासन के बीच मुगल गवर्नर के दौरान, दक्षिण पश्चिमी मीनार बिजली गिरी जा रहा है और 60,000 रु की लागत पर तत्काल मरम्मत था \"के बाद\" टुकड़े करने के लिए गिर गया \". 1824 में, स्मारक 100.000 रुपये की लागत पर replastered था।\\nअपने सुनहरे दिनों में, चारमीनार बाजार १४,००० कुछ दुकानें था। आज प्रसिद्ध Laad Baazar और पाथेर Gatti चारमीनार के पास, के रूप में जाना जाता है बाजार, पर्यटकों और आभूषण के लिए स्थानीय लोगों के समान के एक एहसान, विशेष रूप से उत्तम चूड़ियाँ और मोती क्रमशः के लिए जाना जाता हैं।\\n2007 में, हैदराबादी पाकिस्तान में रहने वाले मुसलमानों के एक छोटे से छोटा कराची में बहादुराबाद पड़ोस के मुख्य क्रासिंग पर चारमीनार के अर्ध प्रतिकृति का निर्माण किया।\\nसंरचना संरचना ग्रेनाइट, चूना पत्थर, मोर्टार और चूर्णित संगमरमर से बना है। शुरू में इसके चार मेहराब के साथ स्मारक इतना अनुपात की योजना बनाई थी कि जब किले खोला गया था एक हलचल हैदराबाद शहर की एक झलक पाने के रूप में इन चारमीनार मेहराब सबसे सक्रिय शाही पैतृक सड़कों का सामना कर रहे थे। वहाँ भी एक भूमिगत सुरंग चारमीनार, संभवतः एक घेराबंदी के मामले में कुतुब शाही शासकों के लिए एक भागने मार्ग के रूप में इरादा गोलकुंडा को जोड़ने के एक किंवदंती है, हालांकि सुरंग के स्थान अज्ञात है।\\nचारमीनार प्रत्येक पक्ष के साथ एक वर्ग के 20 मीटर (लगभग 66 फुट) लंबा भवन चार भव्य मेहराब प्रत्येक चार सड़कों में एक कार्डिनल कि खुले बिंदु का सामना करना पड़ के साथ है। प्रत्येक कोने पर एक उत्कृष्ट आकार मीनार, 56 मीटर (लगभग 184 फुट) एक डबल छज्जे के साथ उच्च खड़ा है। प्रत्येक मीनार आधार पर डिजाइन की तरह मिठाइयां पत्ती के साथ एक बल्बनुमा गुंबद द्वारा ताज पहनाया है।\\nएक खूबसूरत मस्जिद खुले छत के पश्चिमी छोर पर स्थित है और छत के शेष भाग कुतुब शाही समय के दौरान एक अदालत के रूप में सेवा की.\\nवहाँ 149 घुमावदार कदम ऊपरी मंजिल तक पहुँचने हैं। ऊपर एक बार और सुंदर इंटीरियर के एकांत और शांति ताज़ा है। मीनारों के बीच ऊपरी मंजिल में अंतरिक्ष के लिए शुक्रवार की नमाज के लिए किया गया था। पैंतालीस प्रार्थना रिक्त स्थान हैं।\\nवाणिज्य क्षेत्र चारमीनार कई चीजें हैं, जो हैदराबाद के लोगों की सभी जरूरतों को पूरा करने के लिए प्रसिद्ध है। क्षेत्र Laad बाजार जो चूड़ियाँ, भी \"Chudiyaan\" कहा जाता है, मुख्य रूप से महिलाओं द्वारा पहना के लिए बहुत प्रसिद्ध है के लिए प्रसिद्ध है। क्षेत्र में भी दुकानों की अपनी विविधता मुख्य रूप से स्वर्ण आभूषण, मिठाई के लिए अन्य मिठाई भंडार और इतने पर के लिए कई सोने की दुकाननें प्रसिद्ध है। संक्रांति के मौसम के दौरान, इस क्षेत्र पूरी तरह से पतंग बेचने विक्रेताओं के साथ भीड़ है। और चारमीनार और रमजान के दौरान खरीदारी के लिए आते हैं कोई नहीं के आसपास कुछ भी नहीं है।\\nबाहरी कड़ियाँ श्रेणी:हैदराबाद की इमारतें\\nश्रेणी:तेलंगाना में स्थापत्य</td>\n",
       "      <td>चारमीनार किसने बनाया था?</td>\n",
       "      <td>सुल्तान मुहम्मद क़ुली क़ुतुब शाह</td>\n",
       "      <td>567</td>\n",
       "      <td>hindi</td>\n",
       "    </tr>\n",
       "    <tr>\n",
       "      <th>1026</th>\n",
       "      <td>cb48055cd</td>\n",
       "      <td>विलियम वर्द्स्व्र्थ (७ अप्रैल,१७७०-२३ अप्रैल १८५०) एक प्रमुख रोमचक कवि थे और उन्होने सैम्युअल टेलर कॉलरिज कि सहायता से अंरेज़ि सहित्य में सयुक्त प्रकाशन गीतात्मक गथागीत के साथ रोमन्चक युग क आरम्भ किया। वर्द्स्वर्थ कि प्रसिध रचना 'द प्रेल्युद' हे जो कि एक अर्ध-आत्म चरितात्मक कवित माना जाता है। वर्द्स्वर्थ १८४३ से १८५० में अप्नि म्रित्यु तक ब्रिटेन के महाकवि थे।[1]\\n प्रारम्भिक जीवन \\nजॉन वर्ड्सवर्थ और ऐन कूक्सन के ५ बच्चो में से दूसरे, विलियम वर्द्स्वर्थ का जन्म ७ अप्रैल १७७० को कौकरमाउथ, कंबरलैंड, इंग्लैंड के उत्तर पश्चिम क्षेत्र में हुआ था। उनके पिता जेम्स लौथर, अर्ल ओफ लोन्स्डेल के कानूनी प्रतिनिधि थे और अपने सम्पर्क से छोटे शेहेर के बङे मकान में रह्ते थे। उनकी मृत्यु १७८३ में हुइ थी। वर्ड्सवर्थ के पिता अक्सर व्यापार के सम्बन्ध में घर से बाहर रेह्ते थे, हालांकि उसे पढने के लिये प्रोत्साहित करते थे और विशेश रूप से मिलटन, शेक्सपियर और स्पेंसर द्वारा रचित कविता प्रतिबध, इसके अतिरिक्त उसे अपने पिता के पुस्तकालय का उपयोग करने के लिए अनुमति दी गई थी। उनके चार भाई-बहन थे। डोरोथी वर्ड्सवर्थ, जिस्से वें सबसे ज़्यादा करीब थे, वह एक कवीत्री थी। रिचर्ड, सबसे ज्येष्ठ, वकील थे, जॉन अलॆ आफॅ ऎबरगेवनी जहाज के कप्तान थे और क्रिस्टोफर, कैंब्रिज के ट्रिनिटी कॉलेज का मास्टर था। उनकी माँ के मृत्यु के बाद, १७७८ में, उनके पिता ने उन्हे हॉक्शीड ग्रामर स्कूल्लं, काशायर (अब कम्ब्रीया मे) और डोरोथी को यॉर्कशायर में रिश्तेदारों के साथ रहने भेज दिया था। वह और वर्ड्सवर्थ ९ सालों तक एक दूसरे से नहीं मिल पाए। कॉकरमाउथ में कम गुणवत्ता के एक छोटे से विद्यालय में पढने के बाद, हॉकशीड शिक्षा साथ वर्ड्सवर्थ का पहला गंभीर अनुभव था। कॉकरमाउथ विद्यालय के पश्चात, उन्हे पैनरिथ में उच्च श्रेणी के परिवारों के बच्चों के लिए बनाए गए विद्यालय भेजा गया था। वर्ड्सवर्थ नें एक लेखक के रूप में अपनी शुरुआत १७८७ में किया जब यूरोपीय पत्रिका में उन्की कविता प्रकाशित हुइ। उसी वर्ष वह सेंट जॉन्स कॉलेज, कैम्ब्रिज जाने लगे और १७९१ में उन्हें बी॰ए॰ की डिग्री प्राप्त हुइ। पहले दो साल की गर्मियों की छुट्टियों के लिए वें हॉकशीड लौट आते थे और अक्सर अपने परिदृश्य की सुंदरता के लिए प्रसिद्ध स्थानों पर जाकर, पर्यटन चलकर अपनी छुट्टियां बिताते थे। १७९० में, उन्होने यूरोप की एक पैदल यात्रा किया, फिर् विस्तृत रूप में आल्प्स कि यात्रा की, फ्रांस, स्विट्जरलैंड और इटली के आसपास के इलाकों की यात्रा की।[2]\\n पहला प्रकाशन और गीतात्मक गाथागीत \\nसन १७९३ में वर्ड्सवर्थ द्वारा लिखी गई कविता संग्रह 'एन इव्निन्गं वकॅ' और 'डिस्क्रिप्टिव स्केचस' पहली बार प्रकाशित हुई। १७९५ में रेस्ली कैलवटॆ से उन्हे ९०० विरासत में मिला ताकि वें लेखक बनने का लक्ष्य पूरा कर सकें। उस वर्ष, समरसेट में उनकी मुलाकात सैम्युल् टेलर कौलरिज से हुई।. वें दोनो जल्दी एक करीबी दोस्त बन गए। १७९७ में वर्ड्सवर्थ और उनकी बहन डोरोथी बस कुछ ही मील दूर नीचे का स्टोवी में कोलेरिज के घर से, अल्फोक्सटन हाउस, समरसेट में स्थानांतरण किया। साथ में, वर्ड्सवर्थ और (डोरोथी से अंतर्दृष्टि के साथ) कोलेरिज गीतात्मक गाथागीत (1798), अंग्रेजी प्रेमपूर्ण आंदोलन में एक महत्वपूर्ण काम का उत्पादन किया। वर्ड्सवर्थ के सबसे प्रसिद्ध कविताओं में से एक, \"टिन्टॆन् एब्यय \", और कौलेरिज की \"राइम आफॅ एन्शियंट मेरिनर प्रकाशित हुई। गीतात्मक गाथागीत के लिए इस प्रस्तावना प्रेमपूर्ण साहित्यिक सिद्धांत का एक केंद्रीय काम माना जाता है। इसे में, वर्ड्सवर्थ वह कविता के एक नए प्रकार के तत्वों, \"असली मर्द की भाषा\" और ज्यादा अठारवीं सदी की कविता का काव्य शैली का प्रयोग न करने की चर्चा करतें हैं। इस कविता में, वर्ड्सवर्थ ने 'कविता' की अपनी प्रसिद्ध परिभाषा दिया है \"शक्तिशाली भावनाओं की सहज अतिप्रवाह: यह शांति में याद आया भावना से अपने मूल लेता है।\" गीतात्मक गाथागीत की एक चौथी और अंतिम संस्करण 1805 में प्रकाशित हुई थी।[3]\\n साहित्यिक सम्मान \\nवर्ड्सवर्थ को १८३८ में, डरहम विश्वविद्यालय से सिविल लॉ कि डिग्री प्राप्त हुइ और अग्ले साल ऑक्सफोर्ड विश्वविद्यालय से भि वही सम्मान प्राप्त हुइ। सन १८४२ में सर्कार ने उन्हे ३०० कि राशी के नाग्रिक सूची पेन्शन से सम्मानित किया था। १८४३ में, रॉबर्ट सौदी के मृत्यु के बाद, वें राज-कवि बन गये। प्रारंभिक रूप से उन्होने यह सम्मान लेने से इनकार कर दिया, यह केह के कि वें बहुत बुढ़े है, लेकिन प्रधानमंत्री रॉबर्ट पील के आश्वासन देने पर उन्होने सम्मान स्विकार कर लिया।\\n मृत्यु\\nविलियम वर्ड्सवर्थ कि मृत्यु २३ अप्रैल १८५० में, परिफुफ्फुसशोथ के गम्भीर होने से हुइ थी और उन्हें ग्रेस्मेर के सेंट ओसवाल्ड चर्च में दफनाया गया था। उनकी मृत्यु के कई महीनौ बाद, उनकी पत्नी मैरी ने उनके द्वारा लिखी गई आत्म-कथात्मक कविता ' द प्रेल्युड' प्रकाशित किया। १८५० में यह कविता रुची जगाने में विफल रहा, हालांकि अब यह कविता उनकी सर्वोत्कृष्ट रचना मानी जाती हैं।[4]\\n प्रमुख रचनाएँ\\n साईमन ली\\n वी आर सेवन\\n लाईन्स रिटन इन अर्ली स्प्रिगं\\n लाईन्स क्म्पोस्ड अ फ्यू माइल्स अबव टिन्टर्न ऐबे\\n गीतात्मक गाथागीत की प्रस्तावना\\n ओड टू ड्यूटी (१८०७)\\n द सोलिटरी रीपर\\n लन्दन १८०२\\n द वर्ल्ड इज़ टू मच वित अस \\n माई हार्ट लीप्स अप\\n डैफोडिल्स (आई वान्डर्ड लोनली ऐज़ अ चाईल्ड)\\n द प्रेल्यूड\\n गाईड टू द लेक्स (१८१०)\\nइनकी चर्चित रचनाओं में से लिरिकल बैलेड्स भी है। जिसमे गद्य और पद्य की भाषा तथा गद्य और बोलचाल की भाषा में के बारे में लिखा है।\\nसन्दर्भ</td>\n",
       "      <td>विलियम वर्ड्सवर्थ की पहली कविता का नाम क्या था?</td>\n",
       "      <td>एन इव्निन्गं वकॅ' और 'डिस्क्रिप्टिव स्केचस'</td>\n",
       "      <td>2254</td>\n",
       "      <td>hindi</td>\n",
       "    </tr>\n",
       "    <tr>\n",
       "      <th>305</th>\n",
       "      <td>09ce55b23</td>\n",
       "      <td>வில்லியம் சேக்சுபியர் (திருமுழுக்கு: 26 ஏப்ரல் 1564 - இறப்பு: 23 ஏப்ரல் 1616)[a] ஒரு ஆங்கிலக் கவிஞரும் நாடக ஆசிரியருமாவார். ஆங்கில மொழியின் மிகப்பெரும் எழுத்தாளர் என்றும் உலகின் மிகப் புகழ்வாய்ந்த நாடக ஆசிரியர் என்றும் இவர்  குறிப்பிடப்படுகிறார்.[1] அநேக சந்தர்ப்பங்களில் இங்கிலாந்தின் தேசியக் கவிஞர் என்றும் இவர் அழைக்கப்படுகிறார். வாழும் அவரது படைப்புகளில் 38 நாடகங்கள், 154 செய்யுள் வரிசைகள், இரண்டு நெடும் விவரிப்பு கவிதைகள், மற்றும் பல பிற கவிதைகள் அடங்கும். அவரது நாடகங்கள் உலகில் ஒவ்வொரு பெரிய மொழியிலும் மொழிபெயர்க்கப்பட்டிருக்கிறது. வருடந்தோறும் வேறு எந்த ஒரு நாடகாசிரியரின் நாடகங்களை விடவும் அதிகமாக நடத்தப்படுகிறது.[2]\\nஸ்ட்ராட்ஃபோர்டு-அபான்-அவான் என்கிற இடத்தில் தான் சேக்சுபியர் பிறந்தார், வளர்ந்தார். 18 வயதில், அவர் ஆனி ஹதாவேயை திருமணம் செய்து கொண்டார். இவர்களுக்கு மூன்று குழந்தைகள்: சுசானா, மற்றும் இரட்டையர்களான ஹேம்னட் மற்றும் ஜூடித்.1585 மற்றும் 1592 ஆம் ஆண்டுகளுக்கு இடையே, லண்டனில் ஒரு நடிகர், எழுத்தாளர் மற்றும் லார்டு சாம்பர்ளின்'ஸ் மென் என்ற நாடக நிறுவனத்தின் பங்குதார் என வெற்றிகரமாகத் தன் வாழ்க்கையைத் துவங்கினார். இந்த நாடக நிறுவனம் பின்னாளில் கிங்'ஸ் மென் நாடக நிறுவனம் என்று ஆனது. 1613 ஆம் ஆண்டு வாக்கில் அவர் ஸ்ட்ராட்போர்டில் ஓய்வுற்றதாக கருதப்படுகிறது. மூன்று வருடங்களுக்குப் பின் அங்கு அவர் மரணமெய்தினார். சேக்சுபியரின் அந்தரங்க வாழ்க்கை குறித்த சில பதிவுகளே பிழைத்திருக்கின்றன. எனவே அவரது உடல் தோற்றம், பாலின விருப்பம், மத நம்பிக்கைகள், மற்றும் அவரது படைப்புகளாகக் கூறப்படுவன மற்றவர்களால் எழுதப்பட்டதா போன்ற விடயங்களில் குறிப்பிடத்தக்க அளவு ஊகங்கள் நிலவுகின்றன.[3]\\nசேக்சுபியர் தனது அறியப்பட்ட படைப்புகளில் அநேகமானவற்றை 1589 மற்றும் 1613 ஆம் ஆண்டுகளுக்கு இடையில் தான் உருவாக்கினார்.[4][c]\\nஅவரது ஆரம்ப நாடகங்கள் முக்கியமாக நகைச்சுவை மற்றும் வரலாறுகள் என பல பிரிவுகளைத் தொட்டது. பின் சுமார் 1608 வரை அவர் துன்பியல் நாடகங்களை பிரதானமாக எழுதினார். ஹேம்லட் , கிங் லியர் , மற்றும் மெகாபெத் ஆகிய ஆங்கில மொழியின் மிகச் சிறந்த படைப்புகளாகக் கருதப்படும் சிலவும் இதில் அடங்கும். தனது இறுதிக் காலகட்ட சமயத்தில், அவர் துன்பியல்நகைச்சுவைகளை எழுதினார். இவை அரிய நிகழ்வுகளுடனான வீரக் காதல் காவியங்கள் என்றும் கூறலாம். மற்ற நாடகாசிரியர்களுடனும் இணைந்து பணியாற்றினார். அவரது நாடகங்களில் பலவும் அவரது ஆயுள்காலத்தில் பல்வேறு தரம் மற்றும் துல்லியங்களுடனான பதிப்புகளில் வெளியானது. 1623 ஆம் ஆண்டில், அவரது முன்னாள் நாடக அரங்க சகாக்களில் இருவர் ஃபர்ஸ்ட் ஃபோலியோ என்னும் அவரது நாடகப் படைப்புகளின் தொகுப்பை வெளியிட்டனர். இதில் இப்போது சேக்சுபியரது படைப்புகள் என்று அறியப்படும் நாடகப் படைப்புகளில் இரண்டைத் தவிர மற்ற அனைத்தும் அடங்கியிருந்தது.\\nசேக்சுபியர் தனது காலத்திலேயே மதிப்புமிகுந்த கவிஞராகவும் நாடக ஆசிரியராகவும் இருந்தார். எனினும் பத்தொன்பதாவது நூற்றாண்டின் இறுதி வரை அவரது மதிப்பு இன்றைய உயரத்தில் இருக்கவில்லை. குறிப்பாக காதல்வீரக் காவியங்கள் சேக்சுபியரின் திறமையைப் போற்றின. விக்டோரியா காலத்தவர்கள் சேக்சுபியரை மரியாதையுடன் புகழ்ந்து போற்றினர்.[5] இருபதாம் நூற்றாண்டில் அவரது படைப்புகள் பல்வேறு இயக்கங்கள் மூலமும் எடுத்தாளப் பெற்றன. அவரது நாடகங்கள் இன்று மிகவும் புகழ்மிக்கவையாக திகழ்வதோடு, உலகெங்கிலும் பன்முக கலாச்சார மற்றும் அரசியல் பொருளில் தொடர்ந்து படிக்கப்பட்டும், மறுபுரிதல் கொள்ளப்பட்டும் வருகின்றன.\\n வாழ்க்கை \\n ஆரம்பகால வாழ்க்கை \\nவெற்றிகரமான கையுறை உற்பத்தியாளராகவும் அரசியல்மன்ற உறுப்பினராகவும் திகழ்ந்த ஜான் சேக்சுபியருக்கும், செல்வமிகுந்த நில அதிபரின் மகளான மேரி ஆர்டனுக்கும் மகனாக வில்லியம் சேக்சுபியர் பிறந்தார்.[6] அவரது உண்மையான பிறந்த தேதி அறியப்பட முடியவில்லை. ஆனால் மரபுவழியாக 23, ஏப்ரல், செயின்ட் ஜார்ஜ் தினத்தன்று கொண்டாடப்படுகிறது.[7] சேக்சுபியர் 23 ஏப்ரல் 1616 அன்று இறந்தார்.[8] எட்டு குழந்தைகளில் மூன்றாவதாகப் பிறந்த அவர் பிழைத்திருந்தவர்களில் மூத்தவராகத் திகழ்ந்தார்.[9]\\nஅவர் வாழ்ந்த காலத்திற்கான பதிவேடுகள் எதுவும் இல்லை என்றாலும் கூட, தனது வீட்டில் இருந்து கால் மைல் தூரத்தில் இருந்த 1553 ஆம் ஆண்டின் பட்டியலிடப்பட்ட இலவசப் பள்ளிகளில்[10] ஒன்றான ஸ்ட்ராட்போர்டில் இருக்கும் [[கிங் எட்வர்ட் VI பள்ளியில் [11] சேக்சுபியர் கல்வி பெற்றார் என்பதை அநேக வாழ்க்கை வரலாற்று ஆசிரியர்கள் ஒப்புக் கொள்கிறார்கள். எலிசபெத் காலத்தில் இலக்கண பள்ளிகள் தரத்தில் வேறுபட்டதாக இருந்தன. ஆனால் பாடத்திட்டம் சட்டத்தின் மூலம் இங்கிலாந்து முழுவதும் வரையறுக்கப்பட்டதாக இருந்தது.[12] பள்ளியானது லத்தீன் இலக்கணம் மற்றும் செவ்வியலில் தீவிரக் கல்வியை வழங்கியிருக்க வேண்டும்.\\n\\n18 வயதில், சேக்சுபியர் 26 வயதான ஆன் ஹேதாவே  திருமணம் செய்து கொண்டார்.வார்செஸ்டர் டயாசிஸ் திருச்சபை மன்றம் திருமண உரிமத்தை 27 நவம்பர் 1582 அன்று வழங்கியது. ஹதாவேயின் அண்டைவீட்டார் இருவர் உத்தரவாத பிணையை அளித்ததை தொடர்ந்து திருமணத்திற்கு ஏதும் தடை இருக்கவில்லை.[13] தம்பதிகள் திருமண ஏற்பாட்டினை சற்று துரிதமாக நடத்தியிருக்கலாம் எனக் கருதப்படுகிறது.[14] ஆனியின் கர்ப்பம் இதற்குக் காரணமாக இருந்திருக்கலாம். திருமணம் முடிந்த ஆறு மாதங்களில், அவர் சுசானா எனும் பெண் குழந்தையை பெற்றெடுத்தார்.[15] சுமார் இரண்டு வருடங்கள் கழித்து இரட்டைக் குழந்தைகளாக மகன் ஹேம்னெட்டும் மகள் ஜூடித்தும் பிறந்தனர்.[16] ஹேம்னெட் புரியாத காரணங்களால் 11 வயதில் இறந்து போனான்.[17]\\nஇரட்டைக் குழந்தைகள் பிறந்தபின், 1592 ஆம் ஆண்டில் லண்டன் நாடக அரங்கின் ஒரு பாகமாக அவர் அறியப்படும் காலம் வரை சேக்சுபியர் குறித்த வரலாற்று குறிப்புகள் குறைவாகவே உள்ளன. இந்த இடைவெளியின் காரணமாக, 1585 மற்றும் 1592 ஆண்டுகளுக்கு இடையிலான காலத்தை சேக்சுபியரின் \"தொலைந்த காலம்\" என்று அறிஞர்கள் குறிப்பிடப்படுகின்றனர்.[18] இந்த காலகட்டம் குறித்து எழுத முற்படும் வாழ்க்கைவரலாற்று ஆசிரியர்கள் பல உறுதிப்படாத கதைகளைக் கூறுகிறார்கள். மான்வேட்டையாடியதற்கான தண்டனையில் இருந்து தப்பிக்க நகரில் இருந்து சேக்சுபியர் லண்டனுக்கு தப்பி ஓடியதாக ஸ்ட்ராட்போர்டு மேதை ஒருவர் நினைவுகூர்ந்ததை சேக்சுபியரின் வாழ்க்கைவரலாற்றை முதலில் எழுதிய ஆசிரியரான நிகோலஸ் ரோவ் தெரிவிக்கிறார்.[19] சேக்சுபியர் லண்டனில் இருந்த நாடக புரவலர்களை மனதில் கொண்டு தனது நாடக வாழ்க்கையை துவங்கினார் என்று மற்றொரு பதினெட்டாம் நூற்றாண்டு கதை கூறுகிறது.[20] சேக்சுபியர் ஒரு கிராம பள்ளிவாத்தியாராக இருந்தார் என்று ஜான் ஆப்ரி தெரிவித்தார்.[21] லங்காஷயரைச் சேர்ந்த அலெக்ஸாண்டர் ஹவ்டன் என்னும் கத்தோலிக்க நிலப்பிரபு சேக்சுபியரை பள்ளியாசிரியராக பணியமர்த்தியிருக்கலாம் என்று சில இருபதாம் நூற்றாண்டு அறிஞர்கள் தெரிவிக்கின்றனர். இந்த நிலப்பிரபு தனது உயிலில் \"வில்லியம் ஷேக் ஷாஃப்டெ\" என்று ஒரு பெயரைக் குறிப்பிட்டிருந்தார்.[22] சேக்சுபியரின் மரணத்திற்கு பிந்தைய வாய்வழிச் செய்திகளைத் தவிர்த்து இத்தகைய கதைகளை உறுதிப்படுத்த எந்த ஆதாரமும் இல்லை.[23]\\n இலண்டனும் நாடக வாழ்க்கையும் \\nசேக்சுபியர் எப்போது எழுதத் துவங்கினார் என்று துல்லியமாகத் தெரியவில்லை. ஆனால் சமகாலத்திய குறிப்புகளும் நாடக நிகழ்ச்சிகளின் பதிவுகளும் அவரது பல நாடகங்கள் லண்டன் அரங்கில் 1592 ஆம் ஆண்டில் நிகழ்ந்திருக்கலாம் எனக் காட்டுகின்றன.[24] அப்போது நாடக ஆசிரியரான ராபர்ட் கிரீன் சேக்சுபியரை பின்வரும் வகையில் அவமதித்துப் பேசும் அளவுக்கு சேக்சுபியர் லண்டனில் போதுமான அளவு அறியப்பட்டவராயிருந்தார்:\\n....புதிதாய் ஒரு காகம் கிளம்பியிருக்கிறது. உங்களில் சிறந்தவர்களில் ஒருவரைப் போல தனக்கும் திறனுண்டு என்பதைப் போல வெற்று செய்யுளைக் கொண்டு அது பகட்டு செய்கிறது. முழுக்க எல்லாம்-தெரிந்த ஆசாமி யாக இது அலட்டிக் கொள்கிறது.[25]\\nஇந்த வார்த்தைகளின் துல்லியமான பொருளில் அறிஞர்கள் வேறுபடுகிறார்கள்.[26] ஆனால் கிறிஸ்டோபர் மர்லோ, தாமஸ் நஷெ மற்றும் கிரீனும் போன்ற பல்கலைக்கழக கல்வி பெற்ற எழுத்தாளர்கள் அளவுக்கு தன்னை உயர்த்தி நிறுத்திக் கொள்ள சேக்சுபியர் தனது தகுதிக்கு மீறி முயற்சிப்பதாக கிரீன் குற்றம் சாட்டுகிறார் என்பதை மட்டும் அநேகமானோர் ஒப்புக் கொள்கின்றனர்.[27][28]\\nகிரீனின் தாக்குதல் தான் நாடக வாழ்க்கையில் சேக்சுபியர் குறித்த முதல் பதிவு பெற்ற குறிப்பாகும். அவரது தொழில்வாழ்க்கை கிரீனது கருத்துகளுக்கு கொஞ்சம் முன்னால் 1580களின் மத்தியில் ஏதோ ஒரு சமயத்தில் துவங்கியிருக்க வேண்டும் என்று வாழ்க்கைவரலாற்று ஆசிரியர்கள் குறிப்பிடுகிறார்கள்.[29] 1594 ஆம் ஆண்டு முதல், சேக்சுபியரின் நாடகங்கள் லார்டு சாம்பர்லெய்ன்'ஸ் மென் குழுவினால் மட்டுமே நடத்தப்பட்டன. இது சேக்சுபியர் உள்ளிட்ட ஒரு குழுவினர் பங்குபெற்று நடத்தி வந்த ஒரு நிறுவனமாகும். இது விரைவில் லண்டனின் முன்னணி நாடக நிறுவனமானது.[30] 1603 ஆம் ஆண்டில் ராணி எலிசபெத்தின் மறைவுக்குப் பிறகு, புதிய மன்னரான முதலாம் ஜேம்ஸ் இந்நிறுவனத்திற்கு அரச உரிமத்தை வழங்கி, அதன் பெயரையும் கிங்'ஸ் மென் என்பதாக மாற்றினார்.[31]\\n1599 ஆம் ஆண்டில், நிறுவன உறுப்பினர்களின் ஒரு கூட்டணி தேம்ஸ் நதியின் தெற்குக் கரையில் தங்களது சொந்த நாடக அரங்கைக் கட்டியது. இதனை அவர்கள் குளோப் என்று அழைத்தனர். 1608 ஆம் ஆண்டில், இந்த கூட்டணி பிளாக்ஃபிரையர்ஸ் உள் அரங்கத்தையும் கைவசமாக்கியது. சேக்சுபியரின் சொத்து வாங்கல்கள் மற்றும் முதலீடுகள் குறித்த பதிவுகள் நிறுவனம் அவரை ஒரு பணக்காரராக்கி இருப்பதை சுட்டிக் காட்டுகின்றன.[32] 1597 ஆம் ஆண்டில், ஸ்ட்ராட்ஃபோர்டில் இரண்டாவது மிகப்பெரிய வீடான நியூ ப்ளேஸை அவர் வாங்கினார். 1605 ஆம் ஆண்டில், ஸ்ட்ராட்ஃபோர்டு திருச்சபை வருவாய் பங்கில்அவர் முதலீடு செய்தார்.[33]\\n1594 ஆம் ஆண்டு முதல் சேக்சுபியரின் சில நாடகங்கள் குவார்டோ பதிப்புகளாக வெளியாகின. 1598 வாக்கில், அவரது பெயர் விற்பனை அம்சமாக மாறி முகப்பு பக்கங்களில் தோன்றத் துவங்கியிருந்தது.[34] நாடக ஆசிரியராக வெற்றி பெற்ற பிறகு சேக்சுபியர் தனது சொந்த நாடகங்கள் மற்றும் பிறரது நாடகங்களில் நடிப்பதைத் தொடர்ந்தார். பென் ஜான்சன் படைப்பு களின் 1616 ஆம் ஆண்டு பதிப்பு எவரி மேன் இன் ஹிஸ் ஹியூமர் (1598) மற்றும் செஜானஸ், அவரது வீழ்ச்சி (1603) ஆகிய நாடகங்களின் நடித்தவர் பட்டியலில் சேக்சுபியரின் பெயரைக் குறிப்பிடுகிறது.[35] 1605 ஆம் ஆண்டின் ஜான்சன்'ஸ் வோல்போன் நடிகர் பட்டியலில் அவர் பெயர் இல்லாதிருப்பது, அவரது நடிப்பு வாழ்க்கை முடிவை நெருங்கியதன் அடையாளம் என்று சில அறிஞர்கள் எடுத்துக் கூறுகின்றனர்.[36] ஆயினும், 1623 ஆம் ஆண்டின் தி ஃபர்ஸ்ட் ஃபோலியோ சேக்சுபியரை \"இந்த அனைத்து நாடகங்களின் பிரதான நடிகர்களில்\" ஒருவர் என்று பட்டியலிடுகிறது. இவற்றில் சில வோல்போனுக்கு பிறகு தான் முதன்முறையாக அரங்கேற்றப்பட்டவை, ஆயினும் அவர் ஏற்ற பாத்திரங்கள் என்ன என்பது நமக்கு உறுதிபடத் தெரியவில்லை.[37][38] 1709 ஆம் ஆண்டில், சேக்சுபியர் ஹேம்லெட்டின் அப்பாவின் ஆவி பாத்திரத்தை ஏற்றதாக ஒரு கூற்றும் பிறந்தது.[39] அவர் அஸ் யூ லைக் இட் நாடகத்தில் ஆதாம் வேடமும் ஹென்றி V நாடகத்தில் கோரஸ் வேடமும் கூட ஏற்றிருக்கிறார் என்பதாக பிந்தைய கூற்றுகள் கூறி வந்தன,[40] ஆனால் இந்த தகவல்களின் மூலங்கள் குறித்து அறிஞர்கள் சந்தேகம் கொள்கிறார்கள்.[41]\\nசேக்சுபியர் தனது தொழில் வாழ்க்கையின் போது தனது காலத்தை லண்டன் மற்றும் ஸ்ட்ராட்ஃபோர்டுக்கு இடையில் பிரித்துக் கொண்டார். 1596 ஆம் ஆண்டில், அவர் ஸ்ட்ராட்ஃபோர்டில் தனது குடும்ப இல்லமான நியூ ப்ளேஸை வாங்குவதற்கு ஒரு வருடம் முன்னதாக, தேம்ஸ் நதிக்கரையின் வடக்குப் பகுதியில் வசித்து வந்தார்.[42] 1599 வாக்கில், நதியைக் கடந்து சவுத்வார்க்கிற்கு நகர்ந்தார். அவரது நிறுவனம் அந்த ஆண்டில் அங்கு குளோப் தியேட்டரை கட்டியிருந்தது.[43] 1604 வாக்கில், அவர் மீண்டும் நதியின் தெற்கில் சென்று விட்டார். அங்கே அவர் கிறிஸ்டோபர் மவுண்ட்ஜாய் எனும் பெண்களின் தலையலங்காரங்கள் தயாரிப்பாளரான பிரெஞ்சு ஹயூக்னாட்டிடம் வாடகைக்கு அறைகளை அமர்த்திக் கொண்டார்.[44]\\n பிந்தைய வருடங்களும் இறப்பும் \\nசேக்சுபியர் தான் இறப்பதற்கு சில வருடங்களுக்கு முன்னதாக ஸ்ட்ராட்போர்டில் ஓய்வுற்றார் என்பதான கருத்தினை முதல்முதலில் வாழ்க்கைவரலாற்று ஆசிரியர் ரோவ் குறிப்பிட்டார்.[45] ஆனால் அனைத்து வேலைகளில் இருந்தும் ஓய்வு என்பது அந்த சமயத்தில் சாதாரண நிகழ்வு அல்ல.[46] சேக்சுபியர் தொடர்ந்து லண்டனுக்கு பயணம் செய்து கொண்டிருந்தார்.[45] 1612 ஆம் ஆண்டில் மவுண்ட்ஜாயின் மகளான மேரியின் திருமணம் குறித்த நீதிமன்ற வழக்கில் அவர் ஒரு சாட்சியாக அழைக்கப்பட்டார்.[47][48] 1614 ஆம் ஆண்டு நவம்பர் மாதத்தில் இருந்து தனது மருமகனான ஜான் ஹால் உடன் பல வாரங்கள் லண்டனில் இருந்தார்.[49]\\n\\n1606-1607 காலத்துக்குப் பிறகு, சேக்சுபியர் சில நாடகங்கள் மட்டுமே எழுதினார். 1613 காலத்துக்கு பிந்தையவற்றில் எதுவும் அவர் எழுதியதாகத் தெரியவில்லை.[50] அவரது கடைசி மூன்று நாடகங்கள் கூட்டுமுயற்சிகளாக இருந்தன. அநேகமாக கிங்'ஸ் மென் குழுவுக்கு குழு நாடக ஆசிரியராக அவருக்கு பின் வந்த ஜான் பிளட்சர்,[51] உடன் சேர்ந்து உருவாக்கியதாக இருக்கலாம் எனக் கருதப்படுகிறது.[52]\\nசேக்சுபியர் 23 ஏப்ரல் 1616[53] அன்று இறந்தார். அவருக்கு ஒரு மனைவியும் இரண்டு குழந்தைகளும் இருந்தனர். சுசானா ஜான் ஹால் என்னும் ஒரு மருத்துவரைத் திருமணம் செய்து கொண்டார்.[54] ஜூடித் சேக்சுபியர் இறப்பதற்கு இரண்டு மாதங்கள் முன்னதாக தாமஸ் குவினி என்னும் தேறல் விற்பவரை திருமணம் செய்து கொண்டார்.[55]\\nதனது உயிலில், சேக்சுபியர் தனது பெரிய மலைத்தோட்டத்தின் பெரும்பகுதியை தனது மூத்த மகளான சுசான்னாவுக்கு எழுதி வைத்தார்.[56] அதன் வாசகங்கள் அதனை சுசானா தனது \"உடல்வழியான முதல் மகனுக்கு\" வழங்க வேண்டும் என்று தெரிவித்தன.[57] குவினிஸ்க்கு மூன்று குழந்தைகள். அனைவருமே திருமணமாகாமலேயே இறந்து விட்டனர்.[58] ஹால்ஸுக்கு எலிசபெத் என்னும் ஒரு பிள்ளை இருந்தார். இவர் இருமுறை திருமணம் செய்தும் குழந்தை எதுவும் இன்றி 1670 ஆம் ஆண்டில் இறந்து, சேக்சுபியரின் நேரடி வாரிசு வரிசையை முடித்து வைத்தார்.[59] சேக்சுபியரின் உயில் அவரது மனைவி ஆனி குறித்து குறைவான இடங்களிலேயே குறிப்பிடுகிறது. அவருக்கு அநேகமாக அவரது தேயிலைத் தோட்டத்தில் மூன்றில் ஒரு பகுதி தானாக சென்று சேர்ந்திருக்க வேண்டும். ஆயினும் அவருக்கு \"எனது இரண்டாவது சிறந்த படுக்கை\"யை விட்டுச் செல்வதாக சேக்சுபியர் குறிப்பிட்டிருந்தார், சேக்சுபியரின் இந்த உயில்வாசகம் நிறைய ஊகங்களுக்கு இட்டுச் செல்கிறது.[60] சில அறிஞர்கள் இது ஆனியை அவமதிக்கும் வகையில் எழுதப்பட்டது என்கிறார்கள். மற்றவர்கள் இரண்டாவது சிறந்த படுக்கை என்பது திருமண படுக்கை என்பதாக இருக்க வேண்டும். எனவே முக்கியத்துவத்தில் செறிவானதாக இருக்க வேண்டும் என்று கருதுகின்றனர்.[61]\\nஇறந்த இரண்டு நாட்களுக்குப் பின் சேக்சுபியர் புதைக்கப்பட்டார்.[62] அவரது கல்லறையில் இருக்கும் கல்லில் அவரது எலும்புகளை நகர்த்துவதற்கு எதிரான சாபம் பொறிக்கப்பட்டுள்ளது:\\n\\n1623 ஆம் ஆண்டுக்கு முந்தைய ஒரு காலத்தில், அவரது நினைவாக வடக்கு சுவரில் நினைவுச்சின்னம் ஒன்று எழுப்பப்பட்டது. அதில் அவரது பாதி உருவம் எழுதிக் கொண்டிருப்பது போல் இருந்தது. அதில் பொறிக்கப்பட்டிருக்கும் தகடு அவரை நெஸ்டர், சாக்ரடீஸ், மற்றும் வர்ஜில் உடன் ஒப்பிடுகிறது.[63][64]\\nசேக்சுபியர் உலகெங்கிலும் உள்ள பல்வேறு சிலைகள் மற்றும் நினைவகங்களில் போற்றப்படுகிறார்.\\n நாடகங்கள் \\nசேக்சுபியரின் எழுத்து வாழ்க்கையில் அறிஞர்கள் அடிக்கடி நான்கு காலகட்டங்களைக் குறிப்பிடுகின்றனர்.[65] 1590களின் மத்தியகாலம் வரை, ரோமானிய மற்றும் இத்தாலிய மாதிரிகளின் பாதிப்புடனான நகைச்சுவை நாடகங்களையும், காலக்கிரம மரபிலான வரலாற்று நாடகங்களையும் தான் அவர் பிரதானமாக எழுதினார் என்று பரவலாக நம்பப்படுகிறது. அவரது இரண்டாவது காலகட்டம் சுமார் 1595 வாக்கில் ரோமியோ ஜூலியட் என்னும் துன்பியல் நாடகத்துடன் தொடங்கி 1599 ஆம் ஆண்டில் ஜூலியஸ் சீசர் என்னும் துன்பியல் நாடகத்துடன் முடிந்தது. இந்த காலகட்டத்தின் போது தான், அவர் அவரின் மிகப்பெரும் படைப்புகளாகக் கருதப்படும் மிகப்பெரும் நகைச்சுவைகள் மற்றும் வரலாறுகளை எழுதினார். சுமார் 1600 ஆம் ஆண்டுக் காலம் தொடங்கி சுமார் 1608 ஆம் ஆண்டுக் காலம் வரையிலும், தனது \"துன்பியல் காலகட்ட\"த்தில் சேக்சுபியர் பெரும்பாலும் துன்பியலையே எழுதினார். சுமார் 1608 ஆம் ஆண்டுக் காலம் முதல் 1613 ஆம் ஆண்டுக் காலம் வரை துன்பியல்நகைச்சுவைகளை அவர் பிரதானமாக எழுதினார்.\\nசேக்சுபியரின் முதல் பதிவு செய்த படைப்புகள் ரிச்சர்டு III மற்றும் ஹென்றி VI படைப்பின் மூன்று பாகங்கள் ஆகும். இது 1590களின் ஆரம்பத்தில் வரலாற்று நாடகம் வழக்கத்தில் இருந்த ஒரு காலகட்ட சமயத்தில் எழுதப்பட்டதாகும். சேக்சுபியரின் நாடகங்கள் தேதி குறிப்பிட சிரமமானவை. ஆனால்[66] டைடஸ் ஆன்ட்ரோனிகஸ் , தி காமெடி ஆஃப் எரர்ஸ் , தி டேமிங் ஆஃப் தி ஷ்ரூ மற்றும் டூ ஜென்டில்மென் ஆஃப் வெரோனா ஆகிய நாடகங்களும் சேக்சுபியரின் ஆரம்ப காலத்தை சேர்ந்தவையாகவே இருக்க வேண்டும் என்று ஆய்வுகள் காட்டுகின்றன.[67] அவரது முதல் வரலாற்று படைப்புகள் [68] பலவீனமான அல்லது ஊழல் ஆட்சியின் சீரழிவான விளைவுகளை நாடகப்படுத்துகின்றன. இவை ட்யூடர் வம்ச மூலங்களை நியாயப்படுத்துவதாக அமைந்திருந்ததாக பொருள்கொள்ளப்படுகிறது.[69] ஆரம்ப நாடகங்கள் பிற எலிசபெத் நாடக ஆசிரியர்கள், குறிப்பாக தாமஸ் கிட் மற்றும் கிறிஸ்டோபர் மர்லோ ஆகியோர், மற்றும் மத்தியகால நாடகங்களின் மரபுகள் மற்றும் செனகாவின் நாடகங்கள் ஆகியவற்றில் இருந்தான பாதிப்புகளைக் கொண்டிருந்தன.[70] தி காமெடி ஆஃப் எரர்ஸ் நாடகமும் செவ்வியல் மாதிரிகளை அடிப்படையாகக் கொண்டிருந்தது.[71] இரண்டு நண்பர்கள் பாலியல் பலாத்காரத்திற்கு ஒப்புதலளிப்பது போல் தோன்றக் கூடிய டூ ஜென்டில்மென் ஆஃப் வெரோனா போலவே,[72] ஒரு ஆணால் ஒரு பெண்ணின் சுயாதீனமான மனம் முடக்கப்படுவதை சொல்லும் ஷ்ரூ வின் கதையும் சில சமயங்களில் நவீன கால விமர்சகர்களையும் இயக்குநர்களையும் பாதிக்கிறது.[73]\\nசேக்சுபியரின் ஆரம்ப கால செவ்வியல் மற்றும் இத்தாலிய வகை நகைச்சுவை நாடகங்கள், 1590களின் மத்தியில் அவரது மிகப்பெரும் நகைச்சுவைக் காதல் காவிய சூழல்வகைக்கு வழிவிட்டது.[74][75] தி மெர்ச்சன்ட் ஆஃப் வெனிஸ் , வஞ்சகமான யூத வட்டிக்கடைக்காரரான ஷைலாக்கின் சித்தரிப்பை கொண்டிருந்தது. இது எலிசபெத்திய பார்வைகளைப் பிரதிபலித்தது ஆனால் நவீனகால பார்வையாளர்களுக்கு இது அவமதிப்பான சித்தரிப்பாக தோன்றலாம்.[76] மச் அடூ அபவுட் நத்திங் கின் நகைச்சுவை மற்றும் வார்த்தை வசனம்,[77] அஸ் யூ லைக் இட் டின் மனதை மயக்கும் கிராம அமைப்பு, மற்றும் ட்வெல்த் நைட் டின் உயிரோட்டமான ஆனந்தம் ஆகியவை சேக்சுபியரின் பெரும் நகைச்சுவை நாடக வரிசையை நிறைவு செய்கின்றன.[78] ஏறக்குறைய முழுமையாக செய்யுள் கொண்டே எழுதப்பட்ட கவிதைவயமான ரிச்சர்டு II க்கு பிறகு, சேக்சுபியர் 1590களின் பிற்பகுதியில் வரலாறுகளில் ஹென்றி IV, பகுதிகள் 1 மற்றும் 2 , மற்றும் ஹென்றி V ஆகிய உரை நகைச்சுவையை அறிமுகம் செய்தார். நகைச்சுவை காட்சிகளுக்கும் தீவிர காட்சிகளுக்கும் இடையில், உரை மற்றும் கவிதைக்கு இடையில் என அவர் நுட்பமாக திருப்பக் கூடியவர் என்பதால் அவரது பாத்திரங்கள் கூடுதல் சிக்கலானவையாகவும் நுட்பமானவையாகவும் இருந்தன. அத்துடன் அவரது முதிர்ந்த படைப்பின் விவரிப்பில் பன்முகத்தன்மையையும் இருந்தது.[79] இந்த காலகட்டத்தின் தொடக்கமும் முடிவுமாய் இரண்டு துன்பியல் நாடகங்கள் இருந்தன. ரோமியோ ஜூலியட் நாடகம் பாலியல் எண்ணம் செறிந்த பருவகால வயது, காதல் மற்றும் மரணம் இவற்றினாலான புகழ்பெற்ற காதல் வீரத்  துன்பியல் நாடகம் ஆகும்;[80] மற்றும் ஜூலியஸ் சீசர் - இது சர் தாமஸ் நார்த் 1579 ஆம் ஆண்டில் எழுதிய புளூடார்க்கின் பேரலல் லைவ்ஸ் மொழிபெயர்ப்பை அடிப்படையாகக் கொண்டது - ஒரு புதிய வகை நாடகத்தை அறிமுகம் செய்தது.[81] சேக்சுபியர் குறித்த ஆராய்ச்சி அறிஞரான ஜேம்ஸ் ஷப்ரியோ கூற்றுப்படி, ஜூலியஸ் சீசரில் \"அரசியல், பாத்திரப்படைப்பு, உள்முகப்பார்வை, சமகால நிகழ்வுகள், இன்னும் எழுதுவதில் சேக்சுபியரின் சொந்த பிரதிபலிப்புகள் இவற்றின் வெவ்வேறு பரிமாணங்களும் ஒன்றுடன் ஒன்று பின்னிக் கொண்டிருந்தன\".[82]\\nசேக்சுபியரின் \"துன்பியல் காலகட்டம்\" சுமார் 1600 தொடங்கி 1608 வரை நீடித்தது,[d] மெஷர் ஃபார் மெஷர் , டிராய்லஸ் மற்றும் கிரெசிடா , மற்றும் ஆல்'ஸ் வெல் தேட் என்ட்ஸ் வெல் ஆகிய \"பிரச்சினை நாடகங்கள்\" என்பனவற்றையும் அவர் இதே காலத்தில் எழுதினார்.[83] சேக்சுபியரின் மகத்தான துன்பியல்கள் தான் அவரது கலையின் உச்சத்தை பிரதிநிதித்துவப்படுத்துவதாக பல விமர்சகர்கள் கருதுகின்றனர். முதலாவதன் நாயகன் ஹேம்லெட் தான் வேறு எந்த சேக்சுபியர் பாத்திரத்தை விடவும் அதிகமாக விவாதிக்கப்பட்ட ஒரு பாத்திரப் படைப்பு. குறிப்பாக \"இப்படி இருப்பதா அல்லது வேண்டாமா; அது தான் கேள்வி\" என்று தனக்குத் தானே அவன் கூறி கொள்ளும் மனவொலி மிகப் பிரபலமானது.[84] தனக்குத்தானே மருகிக் கொள்ளும் ஹேம்லெட் - தயக்கம் தான் இவனது மரணத் தவறு - போலல்லாமல் அடுத்து வந்த துன்பியல்களின் நாயகன்களான, ஓதெல்லோ மற்றும் கிங் லியர், அவசர முடிவுகளின் தவறுகளால் மாட்டிக் கொண்டார்கள்.[85] சேக்சுபியரின் துன்பியல்களின் கதைக்களம் பெரும்பாலும் இத்தகைய மரணத் தவறுகள் அல்லது பிழைகளின் மீது தொங்குகின்றன. இவை ஒழுங்கைப் புரட்டுவதுடன் நாயகனையும் அவன் நேசிப்பவர்களையும் சீரழிக்கின்றன.[86] ஓதெல்லோ வில், தன்னை நேசிக்கும் அப்பாவி மனைவியை தான் கொலை செய்யும் அளவுக்கு ஓதெல்லோவின் பாலியல் பொறாமையுணர்வை வில்லன் லகோ தூண்டிவிடுகிறான்.[87] கிங் லியரில் , பழைய ராஜா தனது அதிகாரங்களைத் துறப்பது என்னும் துன்பியல் தவறை செய்து விடுகிறார். இது அவரது மகளின் கொலைக்கும் கிளவ்செஸ்டர் இயர்ல் சித்திரவதை செய்யப்பட்டு குருடாக்கப்படுவதற்கும் இட்டுச் செல்லும் நிகழ்வுகளுக்குத் துவக்கமளிக்கிறது. விமர்சகரான ஃபிராங்க் கெர்மோடேயின் கூற்றுப்படி, \"இந்த நாடகம் தனது நல்ல பாத்திரங்களுக்கும் சரி தனது பார்வையாளர்களுக்கும் சரி கொடூரத்தில் இருந்து எந்த நிவாரணமும் அளிப்பதில்லை.[88] சேக்சுபியரின் துன்பியல் நாடகமான  மக்பெத்  தில்,[89] கட்டுப்படுத்தமுடியாத ஆசை மெகாபெத் மற்றும் அவரது மனைவியான லேடி மக்பெத்தை, உரிமையுள்ள அரசரைக் கொன்று அவரது மகுடத்தை அபகரிக்கத் தூண்டுகிறது. பதிலுக்கு அவர்களது சொந்த குற்ற உணர்ச்சியே அவர்களை சீரழிக்கிறது.[90] இந்த நாடகத்தில், துன்பியல் கட்டமைப்புக்கு ஒரு அமானுடக் கூறினை சேக்சுபியர் சேர்க்கிறார். அவரது இறுதிப் பெரும் துன்பியல்களான, அந்தோனி கிளியோபாட்ரா மற்றும் கோரியாலானஸ் , ஆகியவை சேக்சுபியரின் மிகச்சிறந்த கவிதைகளில் சிலவற்றைக் கொண்டிருக்கின்றன. இவை தான் அவரது மிகவும் வெற்றிகரமான துன்பியல்களாக கவிஞர் மற்றும் விமர்சகரான டி.எஸ்.எலியட் கருதினார்.[91]\\nதனது இறுதிக் காலகட்டத்தில் சேக்சுபியர் சிம்பிலைன் , தி வின்டர்'ஸ் டேல் மற்றும் தி டெம்பஸ்ட் ஆகிய மூன்று பெரும் நாடகங்களையும் அத்துடன் கூட்டுப்படைப்பான பெரிகிள்ஸ், பிரின்ஸ் ஆஃப் டயர் நாடகத்தையும் நிறைவு செய்தார்.[92] சேக்சுபியர் தன் பங்குக்கு வாழ்க்கையை அமைதியாகப் பார்க்கத் தொடங்கியிருந்ததற்கு இந்த நாடகங்களின் மனோநிலை மாற்றம் ஒரு சான்று என்று சில வர்ணனையாளர்கள் குறிப்பிடுகிறார்கள். ஆனால் அது அந்நாளின் நாடக அரங்கு பாணியை மட்டுமே பிரதிநிதித்துவப்படுத்துபவையாகவும் இருந்திருக்கலாம்.[93] அதற்குப் பின்னும் ஹென்றி VIII மற்றும் தி டூ நோபிள் கின்ஸ்மென் ஆகிய இரண்டு நாடகங்களில் சேக்சுபியர் அநேகமாக ஜான் ஃபிளெட்சர் என்கிற நாடகாசிரியருடன் இணைந்து பணியாற்றினார்.[94]\\n நாடக நிகழ்ச்சிகள் \\nசேக்சுபியர் தனது ஆரம்ப நாடகங்களை எந்த நிறுவனங்களுக்காக எழுதினார் என்பது தெளிவாகத் தெரியவில்லை. டைடஸ் ஆன்ட்ரோனிகஸின் 1594 ஆம் ஆண்டுப் பதிப்பின் முகப்புப் பக்கம் இந்த நாடகம் மூன்று வெவ்வேறு நாடகக்குழுக்களால் அரங்கேற்றப்பட்டதை வெளிப்படுத்துகிறது.[95] 1592-3 பிளேக் பாதிப்புகளுக்குப் பிறகு, சேக்சுபியரின் நாடகங்கள் தேம்ஸின் வடக்கில் ஷோர்டிச்சில் உள்ள தி கர்டெயின் அரங்கில் அவரது சொந்த நிறுவனத்தாலேயே நடத்தப்பட்டன.[96] ஹென்றி IV நாடகத்தை அங்கு காண லண்டன்வாசிகள் இந்நாடகங்களுக்கு கூட்டம் கூட்டமாய் திரண்டனர்.[97] இந்த நிறுவனம் இடமுதலாளியுடன் மோதலுக்கு பிறகு, தி தியேட்டர் அரங்கை மூடிவிட்டு அதன் பலகைகளைக் கொண்டே குளோப் திரையரங்கைக் கட்டியது. தேம்ஸின் தெற்குக் கரையில் சவுத்வார்க்கில் கட்டப்பட்டதான இந்த நாடக அரங்கு தான் நடிகர்களுக்காக நடிகர்களால் எழுப்பப்பட்ட முதல் நாடக அரங்காகும்.[98] 1599 ஆம் ஆண்டின் வசந்த காலத்தில் குளோப் திரையரங்கு திறக்கப்பட்டது. அதில் அரங்கேற்றப்பட்ட முதல் நாடகங்களில் ஒன்று ஜூலியஸ் சீசர் ஆகும். 1599 ஆம் ஆண்டுக்குப் பிந்தைய சேக்சுபியரின் மகத்தான நாடகங்களில் பலவும் குளோப் திரையரங்கிற்காக எழுதப்பட்டவையே. ஹேம்லெட் , ஓதெல்லோ மற்றும் கிங் லியர் ஆகிய நாடகங்களும் இதில் அடங்கும்.[99]\\n\\nலார்டு சாம்பர்ளின்'ஸ் மென் என்பது 1603 ஆம் ஆண்டில் கிங்'ஸ் மென் என்பதாக பெயர்மாற்றம் கண்டபின், புதிய அரசரான ஜேம்ஸ் உடன் அவர்கள் ஒரு சிறப்பான உறவுக்குள் நுழைந்தனர். நாடக நிகழ்ச்சிப் பதிவுகள் தெளிவின்றியே இருக்கின்றன எனினும், நவம்பர் 1, 1604 மற்றும் அக்டோபர் 31, 1605 ஆகிய காலத்துக்கு இடையே அவையில் சேக்சுபியரின் நாடகங்களில் ஏழு நடத்திக் காட்டப்பட்டதாய் தெரிகிறது. தி மெர்ச்சென்ட் ஆஃப் வெனிஸின் இரு நிகழ்ச்சிகளும் இதில் அடங்கும்.[100] 1608 ஆம் ஆண்டுக்குப் பிறகு, குளிர்காலத்தில் அவர்கள் பிளாக்ஃபிரையர்ஸ் உள்ளரங்கில் நிகழ்ச்சிகள் நடத்தினர். கோடைகாலத்தின் போது குளோப் திரையரங்கில் நடத்தினர்.[101] ஆடம்பரமான மேடையமைப்புகளுடனான ஜேகோபியன் வகை உள்புற அமைவு, விரிவான நாடக சாதனங்களை அறிமுகப்படுத்துவதற்கு சேக்சுபியரை அனுமதித்தது. உதாரணமாக, சிம்பிலைனில் ஜூபிடர்  கழுகில் அமர்ந்து இடி மற்றும் மின்னல் மீது இறங்குகிறார். அவர் ஒரு மின்னலைத் தூக்கியெறிகிறார். பேய்கள் மண்டியிடுகின்றன.[102]\\nபிரபலமான ரிச்சர்டு புர்பேஜ், வில்லியம் கெம்பெ, ஹென்றி கோன்டெல் மற்றும் ஜான் ஹெமிங்ஸ் ஆகியோர் சேக்சுபியர் நிறுவன நடிகர்களில் நன்கறியப்பட்டவர்கள் ஆவர். ரிச்சர்டு III , ஹேம்லட், ஓதெல்லோ மற்றும் கிங் லியர் உள்ளிட்ட சேக்சுபியரின் நாடகங்கள் பலவற்றின் முதல் நிகழ்ச்சிகளில் முன்னணிப் பாத்திரத்தை புர்பேஜ் தான் ஏற்றார்.[103] பிரபலமான நகைச்சுவை நடிகரான வில் கெம்பெ ரோமியோ ஜூலியட் டில் பீட்டர் எனும் வேலைக்காரன் வேடமும் மச் அடூ எபவுட் நத்திங் நாடகத்தில் டாக்பெரி பாத்திரமும் ஏற்றார்.[104] பதினாறாம் நூற்றாண்டின் திருப்பவாக்கில் அவர் இடத்தில் ராபர்ட் ஆர்மின் இடம்பெற்றார்.[105] ஹென்றி VIII \"செழுமை மற்றும் கொண்டாட்டத்தின் பல அசாதாரண சூழ்நிலைகள் கொண்டு அமைக்கப்பட்டிருந்ததாக\" 1613 ஆம் ஆண்டில் சர் ஹென்றி வோட்டன் பதிவு செய்தார்.[106] ஆயினும் 29 ஜூன் அன்று, ஒரு ரவை குளோப் அரங்கின் கூரையை தீக்கிரையாக்கி நாடக அரங்கை தரைமட்டமாக்கியது. சேக்சுபியரின் நாடகம் ஒன்றை துல்லியமான தேதியுடன் குறிப்பிடும் ஒரு நிகழ்வாகும் இது.[106]\\n மூலஉரை \\n\\n1623 ஆம் ஆண்டில், கிங்'ஸ் மென் குழுவில் சேக்சுபியரின் நண்பர்களாக இருந்த ஜான் ஹெமிங்க்ஸ் மற்றும் ஹென்றி கோன்டெல் ஆகிய இருவரும் ஃபர்ஸ்ட் ஃபோலியோ என்னும் சேக்சுபியர் நாடகத் தொகுப்பை வெளியிட்டனர். இது 36 மூல உரைகளைக் கொண்டது.[107] பல நாடகங்கள் ஏற்கனவே குவார்டோ - காகிதம் இருமுறை மடிக்கப்பட்டு நான்கு இதழ்களாக ஆக்கப்பட்டு உருவாக்கப்படும் புத்தகங்கள் - பதிப்புகளில் தோன்றியிருந்தன.[108] சேக்சுபியர் இந்த பதிப்புகளுக்கு ஒப்புதலளித்தற்கு எந்த ஆதாரமுமில்லை. இதனை ஃபர்ஸ்ட் ஃபோலியோ \"திருடப்பட்ட அதிகாரப்பூர்வமற்ற நகல்கள்\" என்று விவரிக்கிறது.[109] ஆல்பிரட் போலார்டு சிலவற்றை \"மோசமான குவார்டோக்கள்\" என்று குறிப்பிட்டார்.[110] ஒரு நாடகத்தின் பல்வேறு பதிப்புகள் வாழ்ந்தாலும் கூட, ஒவ்வொன்றும் மற்றொன்றில் இருந்து வேறுபடுவதாய் இருக்கிறது. நகலெடுப்பது அல்லது அச்செடுப்பதிலான பிழைகளில் இருந்து, நடிகர்கள் அல்லது பார்வையாளர் உறுப்பினர்களிடமிருந்தான குறிப்புகளில் இருந்து, அல்லது சேக்சுபியரின் சொந்த தாள்களில் இருந்தே கூட இந்த வேறுபாடுகள் தோன்றியிருக்கலாம்.[111][112]\\n கவிதைகள் \\n1593 மற்றும் 1594 ஆம் ஆண்டில், பிளேக் நோய் பரவியதன் காரணமாக நாடக அரங்குகள் எல்லாம் மூடப்பட்டபோது, காமக் கருப்பொருளுடனான வீனஸ் அன் அடோனிஸ் மற்றும் தி ரேப் ஆஃப் லுக்ரிஸ் ஆகிய இரண்டு விவரிப்பு கவிதைகளை சேக்சுபியர் வெளியிட்டார்.  வீனஸ் அன் அடோனிஸில் , அப்பாவியான அடோனிஸ் வீனஸின் பாலியல் முன்னேற்றங்களை நிராகரிக்கிறார். தி ரேப் ஆஃப் லுக்ரிஸில் , கற்புடை மனைவியான லுக்ரிஸ் காமம் கொண்ட டர்குவினால் பாலியல் பலாத்காரம் செய்யப்படுகிறார்.[113] ஓவிடின் கற்பனைக் கவிதைக் கதை களின் பாதிப்பில்,[114] இந்த கவிதைகள் கட்டுப்படுத்த முடியாத காமத்தினால் விளையும் குற்ற உணர்வையும் அறவியல் குழப்பத்தையும் காட்டுகின்றன.[115] இரண்டுமே பிரபலமானதோடு, சேக்சுபியரின் வாழ்நாள் காலத்திலேயே மறுபிரசுரம் செய்யப்பட்டன. மூன்றாவது விவரிப்பு கவிதையான, எ லவர்' ஸ் கம்ப்ளெயின்ட் டில் ஒரு இளம் பெண் தான் பாலியல் ஆசைக்கு தூண்டப்படுவது குறித்து புலம்புகிறாள். இது 1609 ஆம் ஆண்டில் செய்யுள் கவிதை வடிவில் முதல் பதிப்பு அச்சிடப்பட்டது. அநேக அறிஞர்கள் இப்போது சேக்சுபியர் தான் எ லவர்'ஸ் கம்ப்ளெயின்ட் எழுதினார் என ஒப்புக் கொள்கிறார்கள்.[116]  1599 ஆம் ஆண்டில் 138 மற்றும் 144 செய்யுள்களின் இரண்டு ஆரம்ப வரைவுகள் சேக்சுபியரின் அனுமதியின்றி அவரது பெயரைப் போட்டு தி பாசனெட் பில்கிரிமில் தோன்றின.[117]\\n செய்யுள் கவிதைகள் \\n\\nசெய்யுள் கவிதை கள் தான் அச்சிலேறிய சேக்சுபியரின் நாடகமல்லாத படைப்புகளில் இறுதியானவை. 154 செய்யுள் கவிதைகளில் ஒவ்வொன்றும் எப்போது தொகுக்கப்பட்டவை என்பதை அறிஞர்களால் உறுதியாகக் கூற முடியவில்லை. ஆனால் தனிப்பட்ட வாசகர்களுக்காக தனது தொழில் வாழ்க்கைக் காலம் முழுவதும் சேக்சுபியர் செய்யுள் கவிதைகளை எழுதினார் என்பதை ஆதாரங்கள் வெளிப்படுத்துகின்றன.[118] உரிய அனுமதியின்றி இரண்டு செய்யுள் கவிதைகள் 1599 தி பாஸனேட் பில்கிரிம் படைப்பில் தோன்றி விடுவதற்கு முன்பே, சேக்சுபியரின் \"தனிப்பட்ட நண்பர்களுக்கான செய்யுள் கவிதைகள்\" குறித்து பிரான்சிஸ் மெரிஸ் 1598 ஆம் ஆண்டில் குறிப்பு வெளியிட்டிருக்கிறார்.[119] \\nவெளியிடப்பட்ட தொகுப்பு சேக்சுபியர் விரும்பிய வரிசையில் அமைந்தது என்பதை குறைவான ஆய்வாளர்களே நம்புகின்றனர்.[120] அவர் இரண்டு வேறுபாடான வரிசைகளை திட்டமிட்டதாகத் தோன்றுகிறது. கருப்பு நிற தோற்றத்துடனான திருமணமான பெண் ஒருவரின் கட்டுப்படுத்த முடியாத காமம் குறித்த (தி \"டார்க் லேடி\") என்கிற ஒரு படைப்பையும், இன்னொன்று ஒரு சிவப்பான இளம் ஆணின் மோதலுக்குட்படும் காதல் குறித்த (தி \"ஃபேர் யூத்\") என்னும் படைப்பையும் அவர் உருவாக்கினார். இந்த பாத்திரங்கள் உண்மையான தனிநபர்களைக் குறிக்கிறதா, அல்லது \"நான்\" என்று அவர்களைக் குறிப்பிடும் தொனியில், சேக்சுபியர் தன்னைத் தானே பிரதிநிதித்துவப்படுத்துகிறாரா என்பது தெளிவாகத் தெரியவில்லை. ஆனால் இந்த செய்யுள்கள் கொண்டு \"சேக்சுபியர் தனது இதயத்தைத் திறந்தார்\" என்று வேர்ட்ஸ்வொர்த் நம்பினார்.[121][122] காதல், பாலியல் நேசம், புனருற்பத்தி, மரணம் மற்றும் காலம் ஆகியவற்றின் மீதான ஆழமான தியானம் என்பதாக இந்த செய்யுள் கவிதை&lt;/i&gt;களை விமர்சர்கள் புகழ்கிறார்கள்.[123]\\n நடை \\nசேக்சுபியரின் முதல் நாடகங்கள் அன்றைய நாளின் வழக்கமான நடையில் இருந்தன.[124] கவிதை நீண்ட, சில சமயங்களில் விரிவான உருவகம் மற்றும் கற்பனைப் புனைவுகளை சார்ந்திருந்தது. மொழி பல சமயங்களில் ஆரவாரமானதாக இருந்தது - நடிகர்கள் பேசுவதைக் காட்டிலும் முழக்கமிடும் வகையானதாக. உதாரணமாக, டைடஸ் ஆன்ட்ரோனிகஸின் மகத்தான வசனங்கள் தான் இயக்கத்தை தூக்கி நிறுத்துகின்றன என்று சில விமர்சகர்கள் கருதுகிறார்கள்.[125]\\nஆயினும், விரைவில் மரபான நடையை தனது சொந்த நோக்கங்களுக்கேற்ப மாற்றினார் சேக்சுபியர். ரிச்சர்டு III நாடகத்தில் ஆரம்பத்தில் வரும் மனவொலி தனது வேர்களை மத்தியகால நாடகத்தின் வைஸின் சுய பிரகடனத்தில் கொண்டுள்ளது. அதே சமயத்தில், ரிச்சர்டின் தெளிவான சுய விழிப்புணர்வு சேக்சுபியரின் முதிர்ச்சியான நாடகங்களின் மனவொலிகளில் இருந்து எடுத்துக் கொள்ளப் பார்க்கின்றன.[126] மரபான நடையில் இருந்து சுதந்திர நடைக்கான மாற்றத்தை அடையாளப்படுத்துவதாக எந்த ஒரு ஒற்றை நாடகத்தையும் குறிப்பிட முடியாது. தனது தொழில்வாழ்க்கை முழுவதிலும் சேக்சுபியர் இந்த இரண்டையும் இணைத்துப் பயன்படுத்தினார். ரோமியோ ஜூலியட் தான் நடைகளை இணைப்பதற்கு மிகச் சிறந்த உதாரணமாகும்.[127] 1590களின் மத்தியிலான ரோமியோ ஜூலியட் , ரிச்சர்டு II , மற்றும் எ மிட்சம்மர் நைட்'ஸ் ட்ரீம் ஆகியவற்றின் சமயத்தில், சேக்சுபியர் கூடுதல் இயல்பான கவிதைகளை எழுதத் துவங்கியிருந்தார். தனது உருவகங்கள் மற்றும் பிம்பங்களை அதிகமாக தனது நாடகத்தின் தேவைகளுக்கேற்ற வகையில் அவர் மேம்படுத்தி வந்தார்.\\nஹேம்லெட் நாடகத்துக்குப் பின் சேக்சுபியர் தனது கவிதை நடையை மேலும் மாற்றினார். இந்த நடை கூடுதல் துரிதமானதாகவும் பன்முகப்பட்டதாகவும், அத்துடன் கட்டுமானத்தில் வழக்கமானதாக இல்லாமல் அபூர்வமாகத் தான் திருப்பமுடைய நீள்வட்ட வடிவம் கொண்டதாகவும் இருந்ததாக இலக்கிய விமர்சகரான ஏ.சி.பிராட்லி விவரிக்கிறார்.[128] தனது தொழில்வாழ்க்கையின் கடைசிக் கட்டத்தில், இந்த விளைவுகளைச் சாதிக்க பல்வேறு நுட்பங்களை சேக்சுபியர் கையாண்டார். இரண்டாம் அடி கடந்தும் நீளும் வாக்கியம், ஒழுங்கற்ற நிறுத்தங்களும் புள்ளிகளும், மற்றும் வாக்கிய அமைப்பு மற்றும் நீளத்தில் அதிகமான மாறுபாடுகள் ஆகியவை இதில் அடங்கும்.[129]\\nசேக்சுபியரின் கவிதை மேதாவிலாசத்தில் நாடக அரங்கு குறித்த நடைமுறை உணர்வும் சேர்ந்திருந்தது.[130] அந்த காலத்தின் அனைத்து நாடக ஆசிரியர்களையும் போலவே, பெட்ரார்க் மற்றும் ஹோலின்ஷெட் ஆகிய மூலங்களில் இருந்து கதைகளை நாடகவயமாக்கினார்.[131] ஒவ்வொரு கதைக்களத்திலும் பல்வேறு ஆர்வ மையங்கள் உருவாகுமாறு மாற்றியமைத்த அவர், பார்வையாளர்களுக்கு ஒரு விவரிப்பின் அதிகப்பட்ச சாத்தியமான பக்கங்களைக் காட்டினார். ஒரு சேக்சுபியர் நாடகம், மொழிபெயர்ப்பு, வெட்டல், மற்றும் பரவலான பொருள்கொள்ளலிலும் நாடகத்தின் மையக்கருவுக்கு எந்த இழப்பும் இன்றி இருக்க முடிந்தது இந்த வடிவமைப்பின் வலிமையாக அமைந்தது.[132] சேக்சுபியரின் தேர்ச்சி வளர்ச்சி பெற்றபோது, அவர் தனது பாத்திரங்களுக்கு தெளிவான கூடுதல் பன்முகத்தன்மையுடனான ஊக்குவிப்புகளையும் வசனங்களின் தெளிவான வடிவங்களையும் கொடுக்க முடிந்தது. ஆயினும், தனது பிற்கால நாடகங்களில் அவரது ஆரம்ப கால நடையின் அம்சங்களைப் பாதுகாத்தார். தனது பிற்கால காதல்காவியங்களில் அவர் கூடுதல் செயற்கைப்பட்ட ஒரு நடைக்குத் திட்டமிட்டு திரும்பினார்.[133]\\n பாதிப்பு \\n\\nசேக்சுபியரின் படைப்புகள் பின்னாளில் நாடகம் மற்றும் இலக்கியத்தில் நீடித்த படிமத்தை உருவாக்கியது. குறிப்பாக, பாத்திரப்படைப்பு, கதைக்களம், மொழி ஆகியவற்றின் நாடக வகைத் திறனை அவர் விரிவுபடுத்தினார்.[134] உதாரணமாக, ரோமியோ ஜூலியட் வரையில், காதல்காவியம் என்பது துன்பியலுக்கு உகந்தவையாகக் கருதப்படவில்லை.[135] மனவொலிகள் முக்கியமாக பாத்திரங்கள் அல்லது நிகழ்வுகள் குறித்த தகவல்களை வெளிப்படுத்தவே முக்கியமாக பயன்படுத்தப்பட்டு வந்தன; ஆனால் சேக்சுபியர் அவற்றை பாத்திரங்களின் மனதை ஆராய பயன்படுத்தினார்.[136] அவரது படைப்புகள் பிந்தையநாள் கவிதைகளை பெருமளவு பாதித்தது.காதல்காவியக் கவிஞர்கள் சேக்சுபியர் வகை செய்யுள் நாடகங்களுக்கு புத்துயிரூட்ட முயன்றனர். ஆயினும் அது அவ்வளவு வெற்றி பெறவில்லை. கொலிரிட்ஜ் முதல் டெனிசன் வரையான அனைத்து ஆங்கில கவிதை நாடகங்களுமே \"சேக்சுபியர் கதைக்கருக்களின் மெல்லிய வேறுபட்ட வடிவங்களே\" என்று விமர்சகர் ஜார்ஜ் ஸ்டெயினர் விவரித்தார்.[137]\\nதாமஸ் ஹார்டி, வில்லியம் ஃபால்க்னர், மற்றும் சார்லஸ் டிக்கன்ஸ் ஆகிய புதின எழுத்தாளர்களையும் சேக்சுபியர் பாதித்தார். டிக்கன்ஸ் அடிக்கடி சேக்சுபியரை மேற்கோளிடுவார். அவரது படைப்புகளின் தலைப்புகளில் 25 சேக்சுபியரின் படைப்புகளில் இருந்து எடுக்கப்பட்டதாகும். அமெரிக்க புதின ஆசிரியரான ஹெர்மன் மெல்விலின் மனவொலிகளில் அதிகமானவை சேக்சுபியருக்குக் கடன்பட்டவையாகும்; மோபி-டிக் கில் வரும் அவரது கேப்டன் அஹாப் பாத்திரம் சேக்சுபியரின் கிங் லியர் பாதிப்பில் உருவான தீரமிகுந்த நாயகன் ஆவார்.[138] 20,000 இசைத் துண்டுகளை சேக்சுபியரின் படைப்புகளுக்கு தொடர்புபடுத்தி அறிஞர்கள் குறிப்பிடுகிறார்கள்.[139] சேக்சுபியர் பல ஓவியர்களுக்கும் முன்மாதிரியாகத் திகழ்ந்திருக்கிறார். வில்லியம் ப்ளேக்கின் நண்பரான சுவிட்சர்லாந்து நாட்டின் ஹென்றி ஃபுயுஸ்லி என்னும் கலைஞர் மெகாபத் தை ஜெர்மனில் மொழிபெயர்க்கவும் சென்றார்.[140] மனோவியல் ஆய்வு நிபுணரான சிக்மன்ட் பிராய்டு சேக்சுபியர் மனோதத்துவம் என்ற ஒன்றை, குறிப்பாக மனித இயல்பு குறித்த அவரது தத்துவங்களுக்கு, ஹேம்லட்டில் இருந்து வரைந்தார்.\\nசேக்சுபியரது நாளில், ஆங்கில இலக்கணமும் உச்சரிப்பும் இப்போதை விடவும் குறைந்த தரநிர்ணயத்துடன் இருந்தன. அவரது ஆங்கில பயன்பாடு நவீன ஆங்கிலத்தை வடிவமைக்க உதவின.[141] சாமுவேல் ஜான்சன் தனது எ டிக்சனரி ஆஃப் தி இங்கிலீஷ் லாங்க்வேஜ் புத்தகத்தில் வேறு எந்த ஆசிரியரை விடவும் அதிகமான அளவில் சேக்சுபியரை மேற்கோள் காட்டுகிறார்.[142] \"with bated breath (மெர்ச்சென்ட் ஆஃப் வெனிஸ் ) மற்றும் \"a foregone conclusion\" (ஓதெல்லோ ) ஆகிய சொற்றொடர்கள் அன்றாட ஆங்கிலப் பேச்சில் தங்களது இடத்தைப் பிடித்தன.[143]\\n விமர்சன மரியாதை \\nதன் வாழ்நாள் காலத்தில் சேக்சுபியர் ஒருபோதும் போற்றப்பட்டதில்லை. ஆனால் அவருடைய பங்கு புகழ் அவருக்கு கிடைத்தது.[144] 1598 ஆம் ஆண்டில் மதகுருவும் எழுத்தாளருமான ஃபிரான்சிஸ் மெரெஸ் ஆங்கில எழுத்தாளர்களின் குழு ஒன்றில் சேக்சுபியர் தான் நகைச்சுவை, துன்பியல் இரண்டிலும் \"மிகவும் சிறந்த\" எழுத்தாளர் எனத் தனிப்படுத்திக் காட்டினார்.[145] கேம்பிரிட்ஜ் செயின்ட் ஜான் கல்லூரியில் நாடக ஆசிரியர்கள் அவரை சாசர், கோவர் மற்றும் ஸ்பென்ஸர் ஆகியோருடன் வகையிட்டனர்.[146] ஃபர்ஸ்ட் ஃபோலியோவில், பென் ஜான்சன் சேக்சுபியரை \"காலத்தின் ஆன்மா\" என்று அழைத்தார். முன்பொரு முறை இன்னொரு இடத்தில் \"சேக்சுபியருக்கு கலை அவசியமாயிருக்கிறது\" என்று அவர் ஏளனமாய் குறிப்பிட்டிருந்தார் என்பது கவனிக்கத்தக்கது.[147]\\n\\n1660 ஆம் ஆண்டில் முடியாட்சியின் மீட்டமைவுக்கும் பதினேழாம் நூற்றாண்டின் நிறைவுக்கும் இடையே, செவ்வியல் சிந்தனைகள் உபயோகத்தில் இருந்தன. இதன் விளைவாய், அக்காலத்தின் விமர்சகர்கள் அதிகமாக சேக்சுபியரை ஜான் ஃபிளட்சர் மற்றும் பென் ஜான்சனுக்கு கீழாகத் தான் மதிப்பிட்டனர்.[148] உதாரணமாக, துன்பியலுடன் நகைச்சுவையைக் கலப்பதற்காக தாமஸ் ரைமர் சேக்சுபியரைக் கண்டித்தார். ஆயினும், கவிஞரும் விமர்சகருமான ஜான் டிரைடன் சேக்சுபியரை உயர்வாக மதித்தார். ஜான்சன் பற்றி அவர் கூறும் போது, \"ஜான்சனை நான் போற்றுகிறேன், ஆனால் சேக்சுபியரை நான் நேசிக்கிறேன்\" என்றார்.[149] பல தசாப்தங்களுக்கு, ரைமரின் பார்வை தான் கோலோச்சியது. ஆனால் பதினெட்டாம் நூற்றாண்டு காலத்தில், சேக்சுபியரின் சொந்த கருப்பொருள் பக்கம் திரும்பிய விமர்சகர்கள், அதனை அவரது இயற்கையான மேதாவித்தனம் என்பதாக வர்ணித்தனர். அவரது படைப்பின் மீதான அறிஞர் பதிப்புகள் தொடர்ந்து நிகழ்ந்தது. குறிப்பாக சாமுவேல் ஜான்சனினது பதிப்பு 1765 ஆம் ஆண்டிலும், எட்மண்ட் மலோனினது பதிப்பு 1790 ஆம் ஆண்டிலும் வெளிவந்து அவரது அதிகரித்த மரியாதைக்கு மேலும் வலு சேர்த்தன.[150] 1800 ஆம் ஆண்டு வாக்கில், அவர் உறுதிப்பட தேசியக் கவிஞராய் போற்றுதலுக்குள்ளானார்.[151] பதினெட்டு மற்றும் பத்தொன்பதாம் நூற்றாண்டுகளில், அவரது புகழ் வெளிநாடுகளிலும் பரவியது. அவருக்காக குரல்கொடுத்தவர்களில் வால்டேர், கோயத், ஸ்டென்தால் மற்றும் விக்டர் ஹியூகோ ஆகிய எழுத்தாளர்களும் அடங்குவர்.[152]\\nகாதல்காவிய சகாப்த காலத்தில், சேக்சுபியர் கவிஞரும் இலக்கிய தத்துவாசிரியருமான சாமுவேல் டெய்லர் கொலிரிட்ஜால் போற்றப்பட்டார். விமர்சகரான ஆகஸ்ட் வில்ஹெம் ஸ்க்லெகல் அவரது நாடகங்களை ஜெர்மன் காதல்காவிய பொருளில் மொழிபெயர்த்தார்.[153] பத்தொன்பதாம் நூற்றாண்டில், சேக்சுபியரின் மேதாவித்தனத்திற்கான புகழ் போற்றலின் எல்லையைத் தொட்டது.[154] \"மன்னர் சேக்சுபியர்\" என்று 1840 ஆம் ஆண்டில் கட்டுரையாசிரியரான தாமஸ் கார்லைல் எழுதினார்.[155] விக்டோரியா காலத்தவர்கள் அவரது நாடகங்களை பிரம்மாண்டமான அளவில் ஆடம்பர அதிசயங்களாகத் தயாரித்தனர்.[156] நாடக ஆசிரியரும் விமர்சகருமான ஜார்ஜ் பெர்னார்ட் ஷா சேக்சுபியரை தொழும் மரபினை கிண்டல் செய்தார். இப்சென் நாடகங்களின் புதிய இயல்புவாதம் சேக்சுபியரை காலத்திற்கொவ்வாததாக்கியிருப்பதாக அவர் தெரிவித்தார்.[157]\\nஇருபதாம் நூற்றாண்டின் ஆரம்ப காலத்தில் கலைகளில் நவீனத்துவ புரட்சியானது, சேக்சுபியரை ஒதுக்கவில்லை. மாறாக, அவரது படைப்புகளை கலைப் பரிசோதனையின் சேவையில் பட்டியலிட்டனர். ஜெர்மனியின் வெளிப்பாட்டுவாதிகளும் மாஸ்கோவின் எதிர்காலவாதிகளும் அவரது நாடகங்களின் தயாரிப்புகளை நிறுவினர். மார்க்சிய நாடக ஆசிரியரும் இயக்குநருமான பெர்டொல்ட் பிரெச்ட் சேக்சுபியரின் பாதிப்பில் ஒரு காவிய அரங்கை வடிவமைத்தார். கவிஞரும் விமர்சகருமான டி.எஸ்.எலியட் ஷாவுக்கு எதிராக வாதிடுகையில், சேக்சுபியரின் \"அடிப்படைதன்மை\" தான் உண்மையில் அவரை மிகவும் நவீனமாக்குவதாகக் கூறினார்.[158] எலியட், ஜி. வில்சன் நைட் மற்றும் புதிய விமர்சனவாத பள்ளி உடன் இணைந்து, சேக்சுபியரின் படிமங்களை நெருக்கமாக கற்கும் ஒரு இயக்கத்திற்கு தலைமையேற்றனர். 1950களில், புதிய விமர்சனவாத அணுகுமுறைகளின் ஒரு அலை நவீனத்துவத்தை இடம்பெயர்த்து சேக்சுபியரின் \"பின்-நவீனத்துவ\" ஆய்வுகளுக்கு பாதையமைத்துக் கொடுத்தது.[159] எண்பதுகளின் வாக்கில், சேக்சுபியர் ஆய்வுகள் என்பவை கட்டமைப்புவாதம், பெண்ணியம், ஆப்பிரிக்க அமெரிக்க ஆய்வுகள், மற்றும் விந்தை ஆய்வுகளுக்கு திறந்துபட்டதாக இருந்தன.[160]\\n சேக்சுபியர் குறித்த ஊகங்கள் \\n படைப்பு குறித்த ஊகங்கள் \\nசேக்சுபியர் இறந்து சுமார் 150 வருடங்களுக்கு பிறகு, அவரினுடைய சில படைப்புகள் குறித்த சந்தேகங்கள் எழத் துவங்கின.[161] ஃபிரான்சிஸ் பேகான், கிறிஸ்டோபர் மர்லோ, மற்றும் எட்வர்டு டீ வெரெ, தி யர்ல் ஆஃப் ஆக்ஸ்போர்டு ஆகியோர் உண்மைப் படைப்பாளிகளாய்க் கருதப்பட்டனர்.[162] கல்வியியலாளர் மட்டங்களில் அனைத்து மாற்று எழுத்தாளர்களுமே உலகளவில் நிராகரிக்கப்படுகின்றனர் என்றாலும், இந்த விஷயத்தில் வெகுஜன மக்களின் ஆர்வம், குறிப்பாக ஆக்ஸ்போர்டுவாத சித்தாந்தம்  21 ஆம் நூற்றாண்டிலும் தொடர்கிறது.[163]\\n மதம் \\nகத்தோலிக்கத்தை பின்பற்றுவது சட்டவிரோதமாக இருந்த ஒரு காலத்தில், சேக்சுபியரின் குடும்ப உறுப்பினர்கள் கத்தோலிக்கர்களாக இருந்தனர் என்று சில அறிஞர்கள் தெரிவிக்கின்றனர்.[164] சேக்சுபியரின் தாயான, மேரி ஆர்டன், நிச்சயமாக ஒரு தயாள உள்ளமுடைய கத்தோலிக்க குடும்பத்தில் தான் பிறந்தார். உறுதியான ஆதாரமாக ஜான் சேக்சுபியர் கையெழுத்திட்ட கத்தோலிக்க விசுவாச வாக்குமூலத்தை குறிப்பிடலாம். இது 1757 ஆம் ஆண்டில் ஹென்லி தெருவில் இருந்த அவரது முன்னாள் வீட்டின் தூணில் காணப்பட்டது. ஆயினும், இப்போது இந்த ஆவணம் தொலைந்து விட்டது என்பதோடு அதன் உண்மைத்தன்மையிலும் அறிஞர்கள் வேறுபடுகிறார்கள்.[165] 1591 ஆம் ஆண்டில், \"கடன் நடைமுறைக்கான பயத்தால்\" ஜான் தேவாலயத்திற்கு வரவில்லை என்று அதிகாரிகள் தெரிவித்தனர். இது ஒரு பொதுவான கத்தோலிக்க நடைமுறையாகும்.[166] 1606 ஆம் ஆண்டில், ஸ்ட்ராட்போர்டில் நடந்த ஈஸ்டர் கூட்டத்தில் பங்குபெறத் தவறியோர் பட்டியலில் வில்லியமின் பெண் சுசானா பெயர் இருந்தது.[166] சேக்சுபியரின் நாடகங்களில் கத்தோலிக்கவாதத்திற்கு ஆதரவான எதிரான இரண்டுக்கான ஆதாரங்களையும் அறிஞர்கள் காண்கிறார்கள். ஆனால் உண்மை இருவழியிலும் நிரூபிக்க சாத்தியமானதாய் இல்லை.[167]\\n பாலியல் விருப்பம் \\nசேக்சுபியரின் பாலியல் விருப்பம் குறித்த சில விவரங்களே அறியக் கிடக்கின்றன. 18 வயதில், அவர் கர்ப்பமாக இருந்த 26 வயது ஆனி ஹதாவேயைத் திருமணம் செய்தார். அதன்பின் ஆறு மாதத்தில் அவர்களது முதலாவது குழந்தையான சுசானா, 26 மே 1583 அன்று பிறந்தது. ஆயினும், சேக்சுபியருக்கு ஒரு இளம் ஆண் மீது இருந்த காதலுக்கு ஆதாரமாக சேக்சுபியரின் செய்யுள் கவிதைகளை பல நூற்றாண்டுகளாக வாசகர்கள் சுட்டிக்காட்டுகின்றனர். அதே பத்திகளை தீவிரமான நட்பின் வெளிப்பாடே தவிர பாலியல் நேசம் அல்ல என்று மற்றவர்கள் பார்க்கிறார்கள்.[168] அதே சமயத்தில் திருமணமான ஒரு பெண்ணைக் குறித்து எழுதப்பட்ட \"டார்க் லேடி\" எனப்படும் இருபத்தியாறு செய்யுள் கவிதைகள் அவரது எதிர்பாலின உறவுகளுக்கான ஆதாரமாக கொள்ளப்படுகின்றன.[169]\\n தோற்றச் சித்திரம் \\nசேக்சுபியரின் உடல் தோற்றம் குறித்த எந்த எழுத்துரீதியான விவரிப்பும் இல்லை. அத்துடன் அவர் ஒரு தோற்றச் சித்திரத்தை வரைய ஏற்பாடு செய்ததற்கும் எந்த ஆதாரமும் இல்லை. எனவே அவரை நன்கு ஒத்திருப்பதாக பென் ஜான்சன் ஒப்புதலளித்ததான[170] ட்ரோஷவுட் கல்வெட்டும், அவரது ஸ்ட்ராட்போர்டு நினைவுச்சின்னமும் அவரது தோற்றம் குறித்த சிறந்த சான்றாக இருக்கின்றன. பதினெட்டாம் நூற்றாண்டு முதல், அதிகாரப்பூர்வமான சேக்சுபியர் தோற்றச்சித்திரங்களுக்கான ஆர்வம் மிகுதியாய் இருந்தது. பல போலியான சித்திரங்கள், அதேபோல் தவறான சித்தரிப்புகள், மறுதீட்டல், மற்ற மனிதர்களின் சித்திரங்கள் மீது பெயர் மாற்றி எழுதுதல் ஆகிய போக்கிற்கும் இந்த தேவை இட்டுச் சென்றது.[171][172]\\n படைப்புகளின் பட்டியல்கள் \\n நாடகங்களின் வகைப்படுத்தல் \\n\\nசேக்சுபியரின் படைப்புகளில் ஃபர்ஸ்ட் ஃபோலியோவில் அச்சிடப்பட்ட 36 நாடகங்கள் அடங்கும். அவை நகைச்சுவை, வரலாறுகள் மற்றும் துன்பியல் ஆகிய அவற்றின் வகைப்படுத்தலின் படி கீழே பட்டியலிடப்பட்டுள்ளன.[173] \\nசேக்சுபியர் தன் பெயரிலுள்ள நாடகங்களின் ஒவ்வொரு வார்த்தையையும் அவர் எழுதவில்லை. பல காட்சிகள் அந்த காலகட்டத்தில் ஒரு பொதுவான நடைமுறையாக இருந்த, கூட்டுழைப்பின் அடையாளங்களைக் காட்டின.[174] ஃபர்ஸ்ட் ஃபோலியோவில் இடம்பெறாத, தி டூ நோபிள் கின்ஸ்மென் மற்றும் பெரிகிள்ஸ், பிரின்ஸ் ஆஃப் டைர் ஆகியவை இப்போது படைப்புகளின் பாகமாக ஏற்றுக் கொள்ளப்படுகின்றன. இவற்றில் சேக்சுபியரின் பங்களிப்பு பெரிய அளவில் இருந்தது என்பதை அறிஞர்கள் ஒப்புக்கொண்டார்கள்.[175] ஃபர்ஸ்ட் ஃபோலியோவில் கவிதைப் படைப்பு எதுவும் இடம்பெறவில்லை.\\nபத்தொன்பதாம் நூற்றாண்டின் பிற்பகுதியில், எட்வர்டு டவ்டன் பிந்தைய நகைச்சுவைகளில் நான்கினை \"காதல்காவியங்கள்\" என்று வகைப்படுத்தினார். பல அறிஞர்கள் அவற்றை \"துன்பியல்நகைச்சுவை\"யினதாக வகைப்படுத்த விரும்பினாலும், அவரது வகைப்பாடு தான் பெரும்பாலும் பயன்படுத்தப்படுகிறது.[176] 1896 ஆம் ஆண்டில் ஆல்'ஸ் வெல் தேட் என்ட்ஸ் வெல், மெஷர் ஃபார் மெஷர், டிராய்லஸ் அன் கிரெஸிடா மற்றும் ஹேம்லெட் ஆகிய நான்கு நாடகங்களை \"பிரச்சினை நாடகங்கள்\" என்ற பதத்தை கொண்டு பிரடெரிக் எஸ்.போஸ் விவரித்தார்.[177] \\nநாடகங்கள் கருப்பொருள் மற்றும் தொனியில் ஒற்றைத்தன்மையனவாய் இருப்பதால் அவற்றை உறுதிப்பட நகைச்சுவைகள் என்றோ துன்பியல் என்றோ வரையறுக்க முடியாது\" என்று அவர் எழுதினார். எனவே இன்றைய நாடக அரங்கத்தில் இருந்து வசதியான ஒரு பதத்தை இரவல் பெற்று, அவற்றை மொத்தமாக சேக்சுபியரின் பிரச்சினை நாடகங்களாக வகைப்படுத்தலாம்.[178][179] பிற பிரச்சினை நாடகங்கள் கீழே ஒரு ‡ குறியினால் அடையாளமிடப்பட்டுள்ளன.\\nசேக்சுபியரால் ஒரு பகுதி பங்களிப்பை மட்டுமே பெற்றிருப்பதாக நம்பப்படும் நாடகங்கள் கீழே ஒரு † குறி மூலம் குறியிடப்பட்டுள்ளன. சில சமயங்களில் அவர் எழுதியதாகக் குறிப்பிடப்படும் பிற படைப்புகள் உறுதிப்படுத்தப்படாத படைப்புகள் என்பதின் கீழ் பட்டியலிடப்பட்டுள்ளன.\\n\\n படைப்புகள் \\n\\n\\nநகைச்சுவைகள்\\n ஆல்'ஸ் வெல் தட் என்ட்ஸ் வெல் ‡\\n அஸ் யூ லைக் இட்\\n தி காமெடி ஆஃப் எரர்ஸ்\\n லவ்'ஸ் லேபர் லாஸ்ட்\\n மெஷர் ஃபார் மெஷர் ‡\\n தி மெர்ச்சென்ட் ஆஃப் வெனிஸ்\\n தி மெர்ரி வைவ்ஸ் ஆஃப் வின்ட்சர்\\n எ மிட்சம்மர் நைட்'ஸ் ட்ரீம்\\n மச் அடூ அபௌட் நத்திங்\\n பெரிகிள்ஸ், பிரின்ஸ் ஆஃப் டைர்ஸ்* †[f]\\n தி டேமிங் ஆப் ஷ்ரூ\\n தி டெம்பெஸ்ட் *\\n ட்வெல்த் நைட், ஆர் வாட் யூ வில்\\n டூ ஜென்டில்மென் ஆஃப் வெரோனா\\n தி டூ நோபிள் கின்ஸ்மென் *†[g]\\n தி வின்டர்'ஸ் டேல் *\\n\\nவரலாறுகள்\\n கிங் ஜோன்\\n ரிச்சர்டு II\\n ஹென்றி IV, பகுதி 1\\n ஹென்றி IV, பகுதி 2\\n ஹென்றி V\\n ஹென்றி VI, பகுதி 1 † \\n ஹென்றி VI, பகுதி 2\\n ஹென்றி VI, பகுதி 3\\n ரிச்சர்டு III\\n ஹென்றி VIII †\\n\\nதுன்பியல்\\n ரோமியோ அன்ட் ஜூலியட்\\n கொரியோலனஸ்\\n டைடஸ் அன்ட்ரோனிகஸ் †\\n டிமான் ஆஃப் ஏதென்ஸ் †\\n ஜூலியஸ் சீசர்\\n மெகாபத் † \\n ஹேம்லெட்\\n டிராய்லஸ் அன்ட் கிரெஸிடா ‡\\n கிங் லியர்\\n ஓதெல்லோ\\n அந்தோனி அன்ட் கிளியோபாட்ரா\\n சிம்பிளின்  *\\n\\n\\n\\nகவிதைகள்\\n சேக்சுபியரின் ஈரேழ்வரிப்பாக்கள்\\n வீனஸ் அன் அடோனிஸ்\\n தி ரேப் ஆஃப் லுக்ரிஸ்\\n தி பாஸனேட் பில்கிரிம் \\n தி பீனிக்ஸ் அன்ட் தி டர்டில்\\n எ லவர்'ஸ் கம்ப்ளெயின்ட்\\n\\nலாஸ்ட் பிளேஸ்\\n லவ்'ஸ் லேபர்'ஸ் வோன்\\n கார்டெனியோ †\\n\\nசேக்சுபியரின் பங்களிப்பு உறுதிப்படாதவை\\n ஆர்டன் ஆஃப் ஃபேவர்ஷாம்\\n தி பெர்த் ஆஃப் மெர்லின்\\n லாக்ரின்\\n தி லண்டன் ப்ரொடிகல்\\n தி ப்யூரிட்டன்\\n தி செகண்ட் மெய்டன்'ஸ் டிராஜடி\\n சர் ஜான் ஓல்டுகேசில்\\n தாமஸ் லார்டு கிராம்வெல்\\n எ யார்க்‍ஷயர் டிராஜடி\\n எட்வர்டு III\\n சர் தாமஸ் மோர்\\n\\n குறிப்புகள் \\n\\n அ. சேக்சுபியரின் வாழ்நாள் காலத்தில் இங்கிலாந்து முழுவதும் பயன்படுத்தப்பட்டதான ஜூலியன் நாட்காட்டியை தேதிகள் பின்பற்றுகின்றன. 1582 ஆம் ஆண்டில் கத்தோலிக்க நாடுகளில் பின்பற்றப்பட்ட கிரிகோரியன் நாட்காட்டியின் கீழ், சேக்சுபியர் மே 3 அன்று இறந்தார்.[180]\\n ஆ. துல்லியமான எண்ணிக்கை தெரியவில்லை. கூடுதல் விவரங்களுக்கு சேக்சுபியரின் கூட்டுப் படைப்புகள் மற்றும் சேக்சுபியரின் பங்களிப்பு உறுதிப்படாத படைப்புகள் பகுதியைக் காணவும்.\\n இ.  Individual play dates and precise writing span are unknown. See Chronology of Shakespeare's plays for further details.\\n ஈ.  The Problem of Hamlet: A Solution (1936) இல், ஹேம்லட் 1589 ஆம் ஆண்டில் உர்-ஹேம்லட் என்கிற பெயரில் எழுதப்பட்டது, அது சேக்சுபியர் தான் என்று ஏ.எஸ். கெய்ர்ன்கிராஸ் கூறுகிறார்.[181] அநேக அறிஞர்கள் இந்த கருத்தில் உடன்படவில்லை, ஆயினும் சிலர், குறிப்பாக பீட்டர் அலெக்சாண்டர் மற்றும் எரிக் சாம்ஸ், அதேபோல் இலக்கிய விமர்சகரான ஹரோல்டு ப்ளூம்[182] ஆரம்ப தேதியிடலையே ஆதரித்தார்கள்.\\n உ.  சேக்சுபியரின் 4 காலகட்ட அபிவிருத்திகள் தொடர்பான பொதுவான கருத்துக்கு மாறாக, தலைப்பு வரிசையில் ஒரு புதிய காலக்கிரம வரிசை கட்டப்பட வேண்டும் என்று கெயின்கிராஸ் யோசனை தெரிவித்தார். ஏறக்குறைய பாதி படைப்புகளுக்கு பொதுவாக ஏற்றுக் கொள்ளப்பட்டதற்கு 10-20 வருடங்கள் முந்தைய காலக்கணக்கை அவர் பரிந்துரைத்தார். அவரது கருத்தும் சில ஆதரவாளர்களை வென்றுள்ளது.\\n ஊ.  பல சேக்சுபியர் அறிஞர்கள் பெரிகிள்ஸ் ஜார்ஜ் வில்கின்ஸ் உடன் இணைந்து எழுதப்பட்டது என்று நம்புகிறார்கள்.[183]\\n எ.  தி டூ நோபிள் கின்ஸ்மென் ஜான் பிளெட்சர் உடன் இணைந்து எழுதப்பட்டது.[184]\\n ஏ.  ஹென்றி VI, பகுதி 1 பல படைப்பாளிகளின் கூட்டுப் படைப்பு என்பதாக பல அறிஞர்கள் கருதுகிறார்கள்; ஆனால் சிலர், உதாரணமாக மைக்கே ஹதாவே, இந்த நாடகம் முழுக்க சேக்சுபியரால் எழுதப்பட்டதே என்று நம்புகிறார்கள்.[185]\\n ஐ.  ஹென்றி VIII ஜான் பிளெட்சர் உடன் இணைந்து எழுதப்பட்டது.[186]\\n ஒ.  டைடஸ் அன்ட்ரோனிகஸ் ஜார்ஜ் பீலியுடன் இணைந்து எழுதப்பட்டதாக ஒரு வாதத்தை பிரையன் விக்கர்ஸ் வைத்திருக்கிறார்.[187]\\n ஓ.  டைமன் ஆஃப் ஏதென்ஸ் தாமஸ் மிடில்டன் உடன் இணைந்து எழுதப்பட்டது என்று பிரையன் விக்கர்ஸ் மற்றும் பல பிற சேக்சுபியர்வாதிகள் நம்புகிறார்கள். ஆனால் சில விமர்சகர்கள் உடன்படுவதில்லை.[188]\\n ஔ.  மெகாபத் உரையானது வெறுமனே பின்னர் வந்தவர்களால் மாற்றப்பட்டிருக்கிறது. தாமஸ் மிடில்டன் நாடகமான தி விட்ச் (1615) என்பதில் இருந்து இரண்டு பாடல்கள் சேர்க்கப்பட்டதை முக்கியமாகக் குறிப்பிடலாம்.[189]\\n ஃ.  1599 ஆம் ஆண்டில் சேக்சுபியரின் பெயரில் அவரது அனுமதியின்றி வெளியான தி பாசனேட் பில்கிரிம் , அவரது ஈரேழ்வரிப்பாக்களில் இரண்டின் ஆரம்ப பதிப்புகள், லவ்'ஸ் லேபர்'ஸ் லாஸ்ட் டில் இருந்தான மூன்று பிழிவுகள், பிற கவிஞர்களால் எழுதப்பட்டதாய் அறியப்பட்ட பல கவிதைகள், மற்றும் பெயர் தெரியாதவர்களால் எழுதப்பட்டு சேக்சுபியர் எழுதியிருக்கலாம் என்பதும் மறுக்கப்பட முடியாத வகையான பதினொரு கவிதைகள் ஆகியவற்றை அடக்கியதாயிருக்கிறது.[190]\\n 'கார்டெனியோ ஜான் பிளெட்சர் உடன் இணைந்து எழுதப்பட்டது வெளிப்படை.[191]\\n\\n குறிப்புகள் \\n\\n புற இணைப்புகள் \\n\\n\\n\\n\\n  இங்கிலாந்தின் தேசிய காப்பகத்தில் இருந்து, லத்தீன் மொழியில்.\\nபகுப்பு:ஆங்கிலக் கவிஞர்கள்\\nபகுப்பு:நாடகாசிரியர்கள்\\nபகுப்பு:1564 பிறப்புகள்\\nபகுப்பு:1616 இறப்புகள்\\nபகுப்பு:பிரித்தானியக் கவிஞர்கள்\\nபகுப்பு:வில்லியம் சேக்சுபியர்</td>\n",
       "      <td>நாடக ஆசிரியர் வில்லியம் சேக்சுபியர் எப்போது திருமணம் செய்து கொண்டார்?</td>\n",
       "      <td>18</td>\n",
       "      <td>714</td>\n",
       "      <td>tamil</td>\n",
       "    </tr>\n",
       "    <tr>\n",
       "      <th>1096</th>\n",
       "      <td>cc4c69225</td>\n",
       "      <td>हख़ामनी वंश या अजमीढ़ साम्राज्य(अंग्रेज़ी तथा ग्रीक में एकेमेनिड, अजमीढ़ साम्राज्य (ईसापूर्व 550 - ईसापूर्व 330) प्राचीन ईरान (फ़ारस) का एक शासक वंश था। यह प्राचीन ईरान के ज्ञात इतिहास का पहला शासक वंश था जिसने आज के लगभग सम्पूर्ण ईरान पर अपनी प्रभुसत्ता हासिल की थी और इसके अलावा अपने चरमकाल में तो यह पश्मिम में यूनान से लेकर पूर्व में सिंधु नदी तक और उत्तर में कैस्पियन सागर से लेकर दक्षिण में अरब सागर तक फैल गया था। इतना बड़ा साम्राज्य इसके बाद बस सासानी शासक ही स्थापित कर पाए थे। इस वंश का पतन सिकन्दर के आक्रमण से सन ३३० ईसापूर्व में हुआ था, जिसके बाद इसके प्रदेशों पर यूनानी (मेसीडोन) प्रभुत्व स्थापित हो गया था।\\nपश्चिम में इस साम्राज्य को मिस्र एवम बेबीलोन पर अधिकार, यूनान के साथ युद्ध तथा यहूदियों के मंदिर निर्माण में सहयोग के लिए याद किया जाता है। कुरोश तथा दारुश को इतिहास में महान की संज्ञा से भी संबोधित किया जाता है। इस वंश को आधुनिक फ़ारसी भाषा बोलने वाले ईरानियों की संस्कृति का आधार कहा जाता है। इस्लाम के पूर्व प्राचीन ईरान के इस साम्राज्य को ईरानी अपने गौरवशाली अतीत की तरह देखते हैं, जो अरबों द्वारा ईरान पर शासन और प्रभाव स्थापित करने से पूर्व था। आज भी ईरानी अपने नाम इस काल के शासकों के नाम पर रखते हैं जो मुस्लिम नाम नहीं माने जाते हैं। ज़रदोश्त के प्रभाव से पारसी धर्म के शाही रूप का प्रतीक भी इसी वंश को माना जाता है। तीसरी सदी में स्थापित सासानी वंश के शासकों ने अपना मूल हख़ामनी वंश को ही बताया था।\\n मूल \\n\\nश्रीमद्भाग्वत एवं विष्णु पुराण के अनुसार ब्रह्मा जी की वंशावली के राजा अजमीढ़ की पीढ़ी में कुरु राजा के नाम से सम्पूर्ण कुरुक्षेत्र जाना जाता है। कुरु एक अत्यंत प्रतापी राजा हुए हैं जो महाभारत में कौरवों के पितामह थे, उन्ही के नाम से कुरु प्राचीन भारत के 16 महाजनपदों में से एक था। इसका क्षेत्र आधुनिक हरियाणा (कुरुक्षेत्र) के ईर्द-गिर्द था। इसकी राजधानी संभवतः हस्तिनापुर या इंद्रप्रस्थ थी। कुरु के राज्य का विस्तार कहाँ तक रहा होगा ये भारतियों के लिए खोज का विषय है किन्तु विश्व इतिहास में कुरु प्राचीन विश्व के सर्वाधिक विशाल साम्राज्य को नए आयाम देने वाला चक्रवर्ती राजा था जिसने ईरान में मेड साम्राज्य को अपने ही नाना अस्त्यागस से हस्तांतरित करते हुए साम्राज्य का नया नाम अजमीढ़ Achaemenid_empire साम्राज्य रखा था। इस साम्राज्य की सीमायें भारत से मिश्र, लीबिया और ग्रीक तक फ़ैली हुई थी। [१]\\nहख़ामनी यानि हख़ामनश वंश के शासक सातवीं सदी से अन्शान नामक एक छोटे से राज्य के शासक थे जो आधुनिक दक्षिण-पश्चिमी ईरान के पार्स प्रांत में केंद्रित था। जिस समय हख़ामनी या अजमीढ़ शासकों ने सत्ता सम्हाली (ईसापूर्व 648 में), उस समय मीदि लोग ईरान में सबसे ज्यादा शक्तिशाली थे। अन्शान यानि पार्स यानि फारस के राज्य (जो मीदिया के दक्षिण में थे) उसके सहयोगी थे। ये लोग असीरिया के खिलाफ़ युद्ध करते थे। ईसापूर्व सन् 559 में जब कुरु (फ़ारसी में कुरोश, साइरस) वंशानुगत रूप से अन्शान का राजा बना तो उसने मीद प्रभुत्व स्वीकार करने से मना कर दिया और मीड साम्राज्य के ख़िलाफ विद्रोह कर दिया। उसने ईसापूर्व 549 में मेड राजा अस्त्यागस की राजधानी हमादान (एक्बताना) पर अधिकार कर लिया। उसने अपने को पारस का शाह घोषित कर दिया और मीड साम्राज्य को अपना सहयोगी राज्य बना दिया। इससे मीदिया और फ़ारस के रिश्ते पूरी तरह बदल गए और फारस उसके बाद आने वाली सदियों के लिए ईरानी प्रभुसत्ता का केन्द्र बन गया। कहा जाता है कि कुरोश मीडिया के राजा अस्त्यागस का रिश्ते में नाती लगता था। हख़ामनी वंश में राजाओं के बीच पिता-पुत्र जैसे रिश्ते का हमेशा न मिल पाना इतिहासकारों में मतभेद पैदा करता है (नीचे दारुश यानि दारा के बारे में भी पढ़े।)\\n साइरस (कुरोश) का साम्राज्य विस्तार \\nइस सत्तापलट के बाद, इसके विपरीत जो कि उस समय के बाक़ी पश्चिमी ईरान के राजाओं के साथ होता था - कुरु ने बाक़ी छोटे साम्राज्यों की अधीनता या बाराबरी भी स्वीकार नहीं की और साम्राज्य विस्तार में जुट गया। उसने पश्चिम की दिशा में लीडिया पर अधिकार कर लिया। वहाँ पर उसने अपने खजाने के लिए प्रसिद्ध क्रोएसस का धन भी लूटा। इसके अलावा एशिया माइनर के इलाकों पर और बेबीलोनिया पर भी उसने अधिकार कर लिया। कुरोश ने यहूदियों को धार्मिक स्वतंत्रता दी। लेकिन कुरु की मृत्यु उसके जीवन इतनी गरिमामयी नहीं रही। जब जीवन के उत्तरार्ध में वो पश्चिनम से लौटकर कैस्पियन सागर के पूर्व की तरफ विजय अभियान के लिए निकला तो वहाँ मेसागेटे की रानी ने उसे युद्ध में हरा दिया और मार दिया गया। लेकिन उस समय तक कुरोश ने एक विशाल साम्राज्य खड़ा कर दिया था। मध्यपूर्व में और तुर्की के तट पर यूनानी शहरों से लेकर कैस्पियन सागर तक का विशाल साम्राज्य उस समय तक विश्व में शायद ही किसी ने खड़ा किया हो। वह विश्व का पहला सम्राट रहा होगा जिसे महान की उपाधि दी गई होगी - कुरोश महान।\\nक़ुरोश के बाद उसका पुत्र कम्बोजिया (कैम्बैसिस) शाह बना। उसने मिस्र में अपनी विजय पताका लहरायी और वो अपनी क्रूरता के लिए विख्यात था। उसकी मृत्यु अप्रत्याशित रूप से हुई। कहा जाता है कि फारसी क्षेत्र के केन्द्र में किसी विद्रोह की ख़बर को सुनकर उसने आत्म हत्या कर ली। पश्चिमी ईरान में बिसितुन के पास मिले एक शिलालेख में लिखा गया है कि गौमाता नाम के एक मागी ने विद्रोह किया था। उसने अपने को कम्बोजिया का छोटा भाई बताकर फ़ारसी जनता पर पड़े करों के खिलाफ लोगों को भड़काया था। ये बात सही थी कि कुरोश और कम्बोजिया के समय ईरानी जनता ने अत्यधिक लड़ाईया लड़ी थीं और इसका खर्च जनता पर लगाए करों से आता था। पर इसके कुछ ही दिनों बात दारा (या दारयुश, ग्रीक में डैरियस) ने गौमाता को मार दिया और शाह बन बैठा। उसी ने बाद में बिसितुन में उन दिनों के घटनाक्रम का शिलालेख खुदवाया था।\\n दारा \\n\\nदारा अजमीढ़ साम्राज्य शासक वंश से किसी दूर के रिश्ते से जुड़ा हुआ था। गद्दी सम्हालते ही दारा ने अपना साम्राज्य पश्चिम की ओर विस्तृत करना आरंभ किया। पर ४९० ईसापूर्व में मैराथन के युद्ध यवनों से मिली पराजय के बाद उसे वापस एशिया मइनर तक सिमट कर रह जाना पड़ा। दारा के शासनकाल में ही पर्सेपोलिस (तख़्त-ए-जमशेद के नाम से भी ज्ञात) का निर्माण करवाया (५१८-५१६ ईसापूर्व)। एक्बताना (हमादान) को भी गृष्म राजधानी के रूप में विकसित किया गया।\\n यूनान से युद्ध \\n\\nउसके बाद उसके पुत्र खशायर्श (क्ज़ेरेक्सेस) ने यूनान पर विजय अभियान चलाया। लगभग बीस लाख की सेना लेकर उसने यवन प्रदेशों पर धावा बोल दिया। उसने उत्तर की दिशा से हमला बोला और मेसीडोनिया तथा थेसेले में कोई खास सैन्य विरोध नहीं हुआ। वो आगे बढ़ता गया पर थर्मोपैले के युद्ध में उसे एक छोटी सी सेना ने तीन दिनों तक रोक दिया। इसके बाद उसे कुछ जगहों पर यवनों से मात भी मिली। मैकाले के युद्ध में हारने के बाद फारसी सेना वापस आ गई।\\nइसके बाद भी मेसीदोन पर फ़ारसी प्रभाव रहा। उसके क़रीब सौ साल बाद, मेसीडोनिया (मकदूनिया) का राजा फिलीप वहाँ के छोटे छोटे साम्राज्यों को संगठित करने में सफल हुआ। पर उसकी हत्या कर दी गई। उस समय उसका बेटा सिकन्दर काछी छोटा था। पर सिकन्दर ने विश्व विजय का सपना देखा था। वो सबसे पहले यूनान पर फारसी दमन का बदला लेना चाहता था। इसी मंशा से उसने अनातोलिया (तुर्की) के तटीय प्रदेशों पर आक्रमण आरंभ किया।\\n साम्राज्य का पतन \\nसिकन्दर की सेना को जीत मिलती गई। अब सिकन्दर सीधे तुर्की में प्रविष्ट हुआ। ईसापूर्व सन् 330 में उसने दारा तृतीय को एक युद्ध में हरा दिया। पर दारा का साम्राज्य उस समय तक बहुत बड़ा बन चुका था और एक हार से सिकन्दर की जीत सुनुश्चित नहीं की जा सकती। पर सिकन्दर ने दारा को तीन अलग अलग युद्धों में हराया। दारा रणभूमि छोड़कर भाग गया और यवनों ने फारसी सेना पर नियंत्रण कर लिया। इसके बाद सिकन्दर ने दारा को पकड़ने की कोशिश की पर इसका उसे सीधा फायदा नहीं मिला। कुछ दिनों बाद दारा का शव सिकन्दर को मिला। दारा को उसके ही आदमियों ने मार दिया था। इसके साथ ही हखामनी साम्राज्य का पतन हो गया। सिकन्दर का साम्राज्य पूरे फारसी साम्राज्य को निगल चुका था।\\n महिमा \\nअजमीढ़ साम्राज्य, उस समय तक के विश्व का शायद सबसे बड़ा साम्राज्य था। इसकी महानता का गुणगान यूनानी ग्रंथों में भी मिलता है। सन् 1971 में ईरान के शाह ने अजमीढ़ साम्राज्य स्थापिक होने के 2500 वर्ष पूरे होने के लिए एक विशेष आयोजन किया था। यह पर्सेपोलिस (तख्त-ए-जमशैद) तथा पसरगाडे के ऐतिहासिक स्थल पर आयोजित किया गया था जिसमें कई राष्ट्राध्यक्षों को आमंत्रित किया गया था और करोंड़ों रूपयों का खर्च आया था। उस समय ईरान के कुछ हिस्सों में अकाल पड़ा था और ईरानी जनता उस समय इतने पैसे दिखावट पर खर्च करने के विरूद्ध हो गई थी। यह प्रकरण भी ईरान की इस्लामिक क्रांति (1979) के सबसे प्रमुख कारणों में से एक था।[1]\\n शासकों की सूची \\n कुरोश प्रथम\\n कम्बोजिया प्रथम \\n कुरोश द्वितीय या कुरोश महान (ईसापूर्व 550-530)\\n कम्बोजिया द्वितीय (ईसापूर्व 529-522)\\n बरदीया \\n दारा प्रथम (ईसापूर्व 521-486)\\n क्ज़ेरक्सेज़ प्रथम \\n आर्तक्ज़ेरेक्सेज़ प्रथम \\n दारा द्वितीय \\n क्ज़ेरेक्सेज़ द्वितीय \\n आर्तक्ज़ेरेक्सेज़ द्वितीय \\n आर्तक्ज़ेरेक्सेज़ तृतीय \\n आर्तक्ज़ेरेक्सेज़ चतुर्थ \\n दारा तृतीय\\n सन्दर्भ \\n\\nश्रेणी:हख़ामनी साम्राज्य\\nश्रेणी:ईरान के राज्य व साम्राज्य\\nश्रेणी:ईरान के राजवंश\\nश्रेणी:ईरान का इतिहास\\nश्रेणी:प्राचीन ईरान</td>\n",
       "      <td>आचमेनिड साम्राज्य का अंत किस साल में हुआ था?</td>\n",
       "      <td>सन ३३० ईसापूर्व</td>\n",
       "      <td>522</td>\n",
       "      <td>hindi</td>\n",
       "    </tr>\n",
       "    <tr>\n",
       "      <th>570</th>\n",
       "      <td>22c8593ec</td>\n",
       "      <td>श्रीगुप्त (शासनकाल 240 – 280 ई)[1] गुप्त साम्राज्य का संस्थापक राजा था।\\nश्रीगुप्त को प्रभावती गुप्ता के पूना ताम्रफलक में आदिराज और उसके प्रपौत्र समुद्रगुप्त को प्रयाग प्रशस्ति में महाराज कहा गया है। विद्वानों ने उसका समय प्राय: २६० और ३०० ई. के बीच निश्चित किया है। ७वीं सदी के अंमिम चरण में भारत आए चीनी यात्री इत्सिंग ने चि-लि-कि-तो (श्रीगुप्त) नामक एक शासक की चर्चा की है जो ५०० वर्ष पहले नालन्दा से लगभग ४० योजन पूर्व दिशा में शासन करता था।\\nजिसने चीनी तीर्थयात्रियो के लिये मृगशिखा वन में एक बौद्ध मंदिर का निर्माण कराकर उसके व्यय हेतु २४ गाँव दान मे दिये थे ।\\nसन्दर्भ\\nश्रेणी:गुप्त राजवंश</td>\n",
       "      <td>गुप्त राजवंश का संस्थापक कौन थे?</td>\n",
       "      <td>श्रीगुप्त</td>\n",
       "      <td>0</td>\n",
       "      <td>hindi</td>\n",
       "    </tr>\n",
       "  </tbody>\n",
       "</table>"
      ],
      "text/plain": [
       "<IPython.core.display.HTML object>"
      ]
     },
     "metadata": {},
     "output_type": "display_data"
    }
   ],
   "source": [
    "show_random_elements(train)"
   ]
  },
  {
   "cell_type": "markdown",
   "id": "8e270615",
   "metadata": {
    "papermill": {
     "duration": 0.045913,
     "end_time": "2021-09-03T13:48:54.854998",
     "exception": false,
     "start_time": "2021-09-03T13:48:54.809085",
     "status": "completed"
    },
    "tags": []
   },
   "source": [
    "# Preparing the Tokenization Pipeline\n",
    "\n",
    "Before we can feed those texts to our model, we need to preprocess them. This is done by a 🤗 Transformers Tokenizer which will (as the name indicates) tokenize the inputs (including converting the tokens to their corresponding IDs in the pretrained vocabulary) and put it in a format the model expects, as well as generate the other inputs that model requires.\n",
    "\n",
    "To do all of this, we instantiate our tokenizer with the AutoTokenizer.from_pretrained method, which will ensure:\n",
    "\n",
    "we get a tokenizer that corresponds to the model architecture we want to use,\n",
    "we download the vocabulary used when pretraining this specific checkpoint."
   ]
  },
  {
   "cell_type": "code",
   "execution_count": 11,
   "id": "d7759d3c",
   "metadata": {
    "execution": {
     "iopub.execute_input": "2021-09-03T13:48:54.953066Z",
     "iopub.status.busy": "2021-09-03T13:48:54.952380Z",
     "iopub.status.idle": "2021-09-03T13:48:54.955410Z",
     "shell.execute_reply": "2021-09-03T13:48:54.955806Z"
    },
    "papermill": {
     "duration": 0.054639,
     "end_time": "2021-09-03T13:48:54.955941",
     "exception": false,
     "start_time": "2021-09-03T13:48:54.901302",
     "status": "completed"
    },
    "tags": []
   },
   "outputs": [
    {
     "data": {
      "text/plain": [
       "'../input/chaii-pretrained-models/deepset/xlm-roberta-large-squad2'"
      ]
     },
     "execution_count": 11,
     "metadata": {},
     "output_type": "execute_result"
    }
   ],
   "source": [
    "model_checkpoint_name"
   ]
  },
  {
   "cell_type": "code",
   "execution_count": 12,
   "id": "69bf892a",
   "metadata": {
    "execution": {
     "iopub.execute_input": "2021-09-03T13:48:55.054008Z",
     "iopub.status.busy": "2021-09-03T13:48:55.053503Z",
     "iopub.status.idle": "2021-09-03T13:48:55.877253Z",
     "shell.execute_reply": "2021-09-03T13:48:55.876311Z"
    },
    "papermill": {
     "duration": 0.874512,
     "end_time": "2021-09-03T13:48:55.877396",
     "exception": false,
     "start_time": "2021-09-03T13:48:55.002884",
     "status": "completed"
    },
    "tags": []
   },
   "outputs": [],
   "source": [
    "tokenizer = AutoTokenizer.from_pretrained(model_checkpoint_name)"
   ]
  },
  {
   "cell_type": "code",
   "execution_count": 13,
   "id": "c68e2b9c",
   "metadata": {
    "execution": {
     "iopub.execute_input": "2021-09-03T13:48:55.976299Z",
     "iopub.status.busy": "2021-09-03T13:48:55.975072Z",
     "iopub.status.idle": "2021-09-03T13:48:55.977260Z",
     "shell.execute_reply": "2021-09-03T13:48:55.977713Z"
    },
    "papermill": {
     "duration": 0.052999,
     "end_time": "2021-09-03T13:48:55.977847",
     "exception": false,
     "start_time": "2021-09-03T13:48:55.924848",
     "status": "completed"
    },
    "tags": []
   },
   "outputs": [],
   "source": [
    "assert isinstance(tokenizer, transformers.PreTrainedTokenizerFast)"
   ]
  },
  {
   "cell_type": "code",
   "execution_count": 14,
   "id": "1754fc3a",
   "metadata": {
    "execution": {
     "iopub.execute_input": "2021-09-03T13:48:56.075088Z",
     "iopub.status.busy": "2021-09-03T13:48:56.074584Z",
     "iopub.status.idle": "2021-09-03T13:48:56.081889Z",
     "shell.execute_reply": "2021-09-03T13:48:56.082412Z"
    },
    "papermill": {
     "duration": 0.057787,
     "end_time": "2021-09-03T13:48:56.082564",
     "exception": false,
     "start_time": "2021-09-03T13:48:56.024777",
     "status": "completed"
    },
    "tags": []
   },
   "outputs": [
    {
     "data": {
      "text/plain": [
       "{'input_ids': [0, 4865, 83, 935, 9351, 32, 2, 2, 2646, 9351, 83, 100973, 21845, 5, 2], 'attention_mask': [1, 1, 1, 1, 1, 1, 1, 1, 1, 1, 1, 1, 1, 1, 1]}"
      ]
     },
     "execution_count": 14,
     "metadata": {},
     "output_type": "execute_result"
    }
   ],
   "source": [
    "tokenizer(\"What is your name?\", \"My name is Sylvain.\")"
   ]
  },
  {
   "cell_type": "markdown",
   "id": "09fcefe6",
   "metadata": {
    "papermill": {
     "duration": 0.046846,
     "end_time": "2021-09-03T13:48:56.177120",
     "exception": false,
     "start_time": "2021-09-03T13:48:56.130274",
     "status": "completed"
    },
    "tags": []
   },
   "source": [
    "Now one specific thing for the preprocessing in question answering is how to deal with very long documents. We usually truncate them in other tasks, when they are longer than the model maximum sentence length, but here, removing part of the the context might result in losing the answer we are looking for. To deal with this, we will allow one (long) example in our dataset to give several input features, each of length shorter than the maximum length of the model (or the one we set as a hyper-parameter). Also, just in case the answer lies at the point we split a long context, we allow some overlap between the features we generate controlled by the hyper-parameter doc_stride:"
   ]
  },
  {
   "cell_type": "code",
   "execution_count": 15,
   "id": "688bb6e1",
   "metadata": {
    "execution": {
     "iopub.execute_input": "2021-09-03T13:48:56.275318Z",
     "iopub.status.busy": "2021-09-03T13:48:56.274806Z",
     "iopub.status.idle": "2021-09-03T13:48:56.278663Z",
     "shell.execute_reply": "2021-09-03T13:48:56.278240Z"
    },
    "papermill": {
     "duration": 0.054585,
     "end_time": "2021-09-03T13:48:56.278780",
     "exception": false,
     "start_time": "2021-09-03T13:48:56.224195",
     "status": "completed"
    },
    "tags": []
   },
   "outputs": [],
   "source": [
    "max_length = 384 # The maximum length of a feature (question and context)\n",
    "doc_stride = 128 # The authorized overlap between two part of the context when splitting it is needed."
   ]
  },
  {
   "cell_type": "code",
   "execution_count": 16,
   "id": "8d1bf382",
   "metadata": {
    "execution": {
     "iopub.execute_input": "2021-09-03T13:48:56.379397Z",
     "iopub.status.busy": "2021-09-03T13:48:56.378552Z",
     "iopub.status.idle": "2021-09-03T13:48:56.401605Z",
     "shell.execute_reply": "2021-09-03T13:48:56.401001Z"
    },
    "papermill": {
     "duration": 0.075888,
     "end_time": "2021-09-03T13:48:56.401752",
     "exception": false,
     "start_time": "2021-09-03T13:48:56.325864",
     "status": "completed"
    },
    "tags": []
   },
   "outputs": [
    {
     "name": "stderr",
     "output_type": "stream",
     "text": [
      "Token indices sequence length is longer than the specified maximum sequence length for this model (1504 > 512). Running this sequence through the model will result in indexing errors\n"
     ]
    },
    {
     "name": "stdout",
     "output_type": "stream",
     "text": [
      "id                                                      903deec17\n",
      "context         ஒரு சாதாரண வளர்ந்த மனிதனுடைய எலும்புக்கூடு பின...\n",
      "question                     மனித உடலில் எத்தனை எலும்புகள் உள்ளன?\n",
      "answer_text                                                   206\n",
      "answer_start                                                   53\n",
      "language                                                    tamil\n",
      "Name: 0, dtype: object\n",
      "\n",
      "1504\n",
      "\n",
      "384\n"
     ]
    }
   ],
   "source": [
    "for row_index, row_data in train.iterrows():\n",
    "    if len(tokenizer(row_data[\"question\"], row_data[\"context\"]) [\"input_ids\"]) > 384:\n",
    "        break\n",
    "example = train.loc[row_index]\n",
    "print(example)\n",
    "\n",
    "print('\\n'+str(len(tokenizer(example[\"question\"], example[\"context\"])[\"input_ids\"])))\n",
    "\n",
    "print('\\n'+str(len(tokenizer(example[\"question\"], example[\"context\"], max_length=max_length, truncation=\"only_second\")[\"input_ids\"])))"
   ]
  },
  {
   "cell_type": "markdown",
   "id": "9127bafe",
   "metadata": {
    "papermill": {
     "duration": 0.047511,
     "end_time": "2021-09-03T13:48:56.497649",
     "exception": false,
     "start_time": "2021-09-03T13:48:56.450138",
     "status": "completed"
    },
    "tags": []
   },
   "source": [
    "## Lets Put everything in a single python function"
   ]
  },
  {
   "cell_type": "code",
   "execution_count": 17,
   "id": "332216d9",
   "metadata": {
    "execution": {
     "iopub.execute_input": "2021-09-03T13:48:56.607781Z",
     "iopub.status.busy": "2021-09-03T13:48:56.606211Z",
     "iopub.status.idle": "2021-09-03T13:48:56.608503Z",
     "shell.execute_reply": "2021-09-03T13:48:56.608912Z"
    },
    "papermill": {
     "duration": 0.063517,
     "end_time": "2021-09-03T13:48:56.609040",
     "exception": false,
     "start_time": "2021-09-03T13:48:56.545523",
     "status": "completed"
    },
    "tags": []
   },
   "outputs": [],
   "source": [
    "pad_on_right = tokenizer.padding_side == \"right\"\n",
    "\n",
    "def prepare_train_features(examples):\n",
    "    # Some of the questions have lots of whitespace on the left, which is not useful and will make the\n",
    "    # truncation of the context fail (the tokenized question will take a lots of space). So we remove that\n",
    "    # left whitespace\n",
    "    examples[\"question\"] = [q.lstrip() for q in examples[\"question\"]]\n",
    "\n",
    "    # Tokenize our examples with truncation and padding, but keep the overflows using a stride. This results\n",
    "    # in one example possible giving several features when a context is long, each of those features having a\n",
    "    # context that overlaps a bit the context of the previous feature.\n",
    "    tokenized_examples = tokenizer(\n",
    "        examples[\"question\" if pad_on_right else \"context\"],\n",
    "        examples[\"context\" if pad_on_right else \"question\"],\n",
    "        truncation=\"only_second\" if pad_on_right else \"only_first\",\n",
    "        max_length=max_length,\n",
    "        stride=doc_stride,\n",
    "        return_overflowing_tokens=True,\n",
    "        return_offsets_mapping=True,\n",
    "        padding=\"max_length\",\n",
    "    )\n",
    "\n",
    "    # Since one example might give us several features if it has a long context, we need a map from a feature to\n",
    "    # its corresponding example. This key gives us just that.\n",
    "    sample_mapping = tokenized_examples.pop(\"overflow_to_sample_mapping\")\n",
    "    # The offset mappings will give us a map from token to character position in the original context. This will\n",
    "    # help us compute the start_positions and end_positions.\n",
    "    offset_mapping = tokenized_examples.pop(\"offset_mapping\")\n",
    "\n",
    "    # Let's label those examples!\n",
    "    tokenized_examples[\"start_positions\"] = []\n",
    "    tokenized_examples[\"end_positions\"] = []\n",
    "\n",
    "    for i, offsets in enumerate(offset_mapping):\n",
    "        # We will label impossible answers with the index of the CLS token.\n",
    "        input_ids = tokenized_examples[\"input_ids\"][i]\n",
    "        cls_index = input_ids.index(tokenizer.cls_token_id)\n",
    "\n",
    "        # Grab the sequence corresponding to that example (to know what is the context and what is the question).\n",
    "        sequence_ids = tokenized_examples.sequence_ids(i)\n",
    "\n",
    "        # One example can give several spans, this is the index of the example containing this span of text.\n",
    "        sample_index = sample_mapping[i]\n",
    "        answers = examples[\"answers\"][sample_index]\n",
    "        # If no answers are given, set the cls_index as answer.\n",
    "        if len(answers[\"answer_start\"]) == 0:\n",
    "            tokenized_examples[\"start_positions\"].append(cls_index)\n",
    "            tokenized_examples[\"end_positions\"].append(cls_index)\n",
    "        else:\n",
    "            # Start/end character index of the answer in the text.\n",
    "            start_char = answers[\"answer_start\"][0]\n",
    "            end_char = start_char + len(answers[\"text\"][0])\n",
    "\n",
    "            # Start token index of the current span in the text.\n",
    "            token_start_index = 0\n",
    "            while sequence_ids[token_start_index] != (1 if pad_on_right else 0):\n",
    "                token_start_index += 1\n",
    "\n",
    "            # End token index of the current span in the text.\n",
    "            token_end_index = len(input_ids) - 1\n",
    "            while sequence_ids[token_end_index] != (1 if pad_on_right else 0):\n",
    "                token_end_index -= 1\n",
    "\n",
    "            # Detect if the answer is out of the span (in which case this feature is labeled with the CLS index).\n",
    "            if not (offsets[token_start_index][0] <= start_char and offsets[token_end_index][1] >= end_char):\n",
    "                tokenized_examples[\"start_positions\"].append(cls_index)\n",
    "                tokenized_examples[\"end_positions\"].append(cls_index)\n",
    "            else:\n",
    "                # Otherwise move the token_start_index and token_end_index to the two ends of the answer.\n",
    "                # Note: we could go after the last offset if the answer is the last word (edge case).\n",
    "                while token_start_index < len(offsets) and offsets[token_start_index][0] <= start_char:\n",
    "                    token_start_index += 1\n",
    "                tokenized_examples[\"start_positions\"].append(token_start_index - 1)\n",
    "                while offsets[token_end_index][1] >= end_char:\n",
    "                    token_end_index -= 1\n",
    "                tokenized_examples[\"end_positions\"].append(token_end_index + 1)\n",
    "\n",
    "    return tokenized_examples"
   ]
  },
  {
   "cell_type": "markdown",
   "id": "93e7d1f7",
   "metadata": {
    "papermill": {
     "duration": 0.048774,
     "end_time": "2021-09-03T13:48:56.705617",
     "exception": false,
     "start_time": "2021-09-03T13:48:56.656843",
     "status": "completed"
    },
    "tags": []
   },
   "source": [
    "## Preprocessing the train data to tokenize them\n",
    "1. Creating a unique answer column\n",
    "2. Splitting train data by 95 % to be used for training and remaining 5 % to be utlized for validation"
   ]
  },
  {
   "cell_type": "code",
   "execution_count": 18,
   "id": "f7528087",
   "metadata": {
    "execution": {
     "iopub.execute_input": "2021-09-03T13:48:56.806047Z",
     "iopub.status.busy": "2021-09-03T13:48:56.805311Z",
     "iopub.status.idle": "2021-09-03T13:48:56.808058Z",
     "shell.execute_reply": "2021-09-03T13:48:56.807644Z"
    },
    "papermill": {
     "duration": 0.05463,
     "end_time": "2021-09-03T13:48:56.808158",
     "exception": false,
     "start_time": "2021-09-03T13:48:56.753528",
     "status": "completed"
    },
    "tags": []
   },
   "outputs": [],
   "source": [
    "def preprocess_answers(answer_info):\n",
    "    ans_start_index = answer_info[0]\n",
    "    ans_text = answer_info[1]\n",
    "    return {\n",
    "        'answer_start': [ans_start_index],\n",
    "        'text': [ans_text]\n",
    "    }"
   ]
  },
  {
   "cell_type": "code",
   "execution_count": 19,
   "id": "f5ece8aa",
   "metadata": {
    "execution": {
     "iopub.execute_input": "2021-09-03T13:48:56.913099Z",
     "iopub.status.busy": "2021-09-03T13:48:56.912317Z",
     "iopub.status.idle": "2021-09-03T13:48:56.930815Z",
     "shell.execute_reply": "2021-09-03T13:48:56.931273Z"
    },
    "papermill": {
     "duration": 0.07477,
     "end_time": "2021-09-03T13:48:56.931403",
     "exception": false,
     "start_time": "2021-09-03T13:48:56.856633",
     "status": "completed"
    },
    "tags": []
   },
   "outputs": [],
   "source": [
    "train = train.sample(frac=1, random_state=42)\n",
    "train['answers'] = train[['answer_start', 'answer_text']].apply(preprocess_answers, axis=1)"
   ]
  },
  {
   "cell_type": "code",
   "execution_count": 20,
   "id": "3c195c60",
   "metadata": {
    "execution": {
     "iopub.execute_input": "2021-09-03T13:48:57.033409Z",
     "iopub.status.busy": "2021-09-03T13:48:57.032650Z",
     "iopub.status.idle": "2021-09-03T13:48:57.034857Z",
     "shell.execute_reply": "2021-09-03T13:48:57.035376Z"
    },
    "papermill": {
     "duration": 0.055979,
     "end_time": "2021-09-03T13:48:57.035538",
     "exception": false,
     "start_time": "2021-09-03T13:48:56.979559",
     "status": "completed"
    },
    "tags": []
   },
   "outputs": [],
   "source": [
    "df_train = train[:-64].reset_index(drop=True)\n",
    "df_valid = train[-64:].reset_index(drop=True)"
   ]
  },
  {
   "cell_type": "code",
   "execution_count": 21,
   "id": "6a5a5511",
   "metadata": {
    "execution": {
     "iopub.execute_input": "2021-09-03T13:48:57.137702Z",
     "iopub.status.busy": "2021-09-03T13:48:57.136863Z",
     "iopub.status.idle": "2021-09-03T13:48:57.272653Z",
     "shell.execute_reply": "2021-09-03T13:48:57.271818Z"
    },
    "papermill": {
     "duration": 0.188042,
     "end_time": "2021-09-03T13:48:57.272858",
     "exception": false,
     "start_time": "2021-09-03T13:48:57.084816",
     "status": "completed"
    },
    "tags": []
   },
   "outputs": [],
   "source": [
    "train_dataset = Dataset.from_pandas(df_train)\n",
    "valid_dataset = Dataset.from_pandas(df_valid)"
   ]
  },
  {
   "cell_type": "code",
   "execution_count": 22,
   "id": "03c719b6",
   "metadata": {
    "execution": {
     "iopub.execute_input": "2021-09-03T13:48:57.395040Z",
     "iopub.status.busy": "2021-09-03T13:48:57.394301Z",
     "iopub.status.idle": "2021-09-03T13:48:57.397541Z",
     "shell.execute_reply": "2021-09-03T13:48:57.397920Z"
    },
    "papermill": {
     "duration": 0.06071,
     "end_time": "2021-09-03T13:48:57.398050",
     "exception": false,
     "start_time": "2021-09-03T13:48:57.337340",
     "status": "completed"
    },
    "tags": []
   },
   "outputs": [
    {
     "data": {
      "text/plain": [
       "Dataset({\n",
       "    features: ['id', 'context', 'question', 'answer_text', 'answer_start', 'language', 'answers'],\n",
       "    num_rows: 1050\n",
       "})"
      ]
     },
     "execution_count": 22,
     "metadata": {},
     "output_type": "execute_result"
    }
   ],
   "source": [
    "train_dataset"
   ]
  },
  {
   "cell_type": "code",
   "execution_count": 23,
   "id": "70368595",
   "metadata": {
    "execution": {
     "iopub.execute_input": "2021-09-03T13:48:57.505461Z",
     "iopub.status.busy": "2021-09-03T13:48:57.504693Z",
     "iopub.status.idle": "2021-09-03T13:48:57.507964Z",
     "shell.execute_reply": "2021-09-03T13:48:57.508395Z"
    },
    "papermill": {
     "duration": 0.059025,
     "end_time": "2021-09-03T13:48:57.508532",
     "exception": false,
     "start_time": "2021-09-03T13:48:57.449507",
     "status": "completed"
    },
    "tags": []
   },
   "outputs": [
    {
     "data": {
      "text/plain": [
       "Dataset({\n",
       "    features: ['id', 'context', 'question', 'answer_text', 'answer_start', 'language', 'answers'],\n",
       "    num_rows: 64\n",
       "})"
      ]
     },
     "execution_count": 23,
     "metadata": {},
     "output_type": "execute_result"
    }
   ],
   "source": [
    "valid_dataset"
   ]
  },
  {
   "cell_type": "code",
   "execution_count": 24,
   "id": "859de74f",
   "metadata": {
    "execution": {
     "iopub.execute_input": "2021-09-03T13:48:57.648106Z",
     "iopub.status.busy": "2021-09-03T13:48:57.647312Z",
     "iopub.status.idle": "2021-09-03T13:49:34.409829Z",
     "shell.execute_reply": "2021-09-03T13:49:34.410203Z"
    },
    "papermill": {
     "duration": 36.851477,
     "end_time": "2021-09-03T13:49:34.410362",
     "exception": false,
     "start_time": "2021-09-03T13:48:57.558885",
     "status": "completed"
    },
    "tags": []
   },
   "outputs": [
    {
     "data": {
      "application/vnd.jupyter.widget-view+json": {
       "model_id": "47c4b6e1528b4d0f9a2493f7d47c2ac5",
       "version_major": 2,
       "version_minor": 0
      },
      "text/plain": [
       "  0%|          | 0/2 [00:00<?, ?ba/s]"
      ]
     },
     "metadata": {},
     "output_type": "display_data"
    },
    {
     "data": {
      "application/vnd.jupyter.widget-view+json": {
       "model_id": "fa874f9c97fe4e86920f5497a0b190e5",
       "version_major": 2,
       "version_minor": 0
      },
      "text/plain": [
       "  0%|          | 0/1 [00:00<?, ?ba/s]"
      ]
     },
     "metadata": {},
     "output_type": "display_data"
    }
   ],
   "source": [
    "\n",
    "tokenized_train_dataset = train_dataset.map(prepare_train_features, batched=True, remove_columns=train_dataset.column_names)\n",
    "tokenized_valid_dataset = valid_dataset.map(prepare_train_features, batched=True, remove_columns=train_dataset.column_names)"
   ]
  },
  {
   "cell_type": "markdown",
   "id": "93a2549f",
   "metadata": {
    "papermill": {
     "duration": 0.050259,
     "end_time": "2021-09-03T13:49:34.511460",
     "exception": false,
     "start_time": "2021-09-03T13:49:34.461201",
     "status": "completed"
    },
    "tags": []
   },
   "source": [
    "# Fine Tuning the Model"
   ]
  },
  {
   "cell_type": "markdown",
   "id": "8bca51ad",
   "metadata": {
    "papermill": {
     "duration": 0.049855,
     "end_time": "2021-09-03T13:49:34.611715",
     "exception": false,
     "start_time": "2021-09-03T13:49:34.561860",
     "status": "completed"
    },
    "tags": []
   },
   "source": [
    "\n",
    "Now that our data is ready for training, we can download the pretrained model and fine-tune it. Since our task is question answering, we use the AutoModelForQuestionAnswering class. Like with the tokenizer, the from_pretrained method will download and cache the model for us:"
   ]
  },
  {
   "cell_type": "code",
   "execution_count": 25,
   "id": "17dd312a",
   "metadata": {
    "execution": {
     "iopub.execute_input": "2021-09-03T13:49:34.715838Z",
     "iopub.status.busy": "2021-09-03T13:49:34.715164Z",
     "iopub.status.idle": "2021-09-03T13:50:00.021386Z",
     "shell.execute_reply": "2021-09-03T13:50:00.020914Z"
    },
    "papermill": {
     "duration": 25.359949,
     "end_time": "2021-09-03T13:50:00.021538",
     "exception": false,
     "start_time": "2021-09-03T13:49:34.661589",
     "status": "completed"
    },
    "tags": []
   },
   "outputs": [],
   "source": [
    "model = AutoModelForQuestionAnswering.from_pretrained(model_checkpoint_name)"
   ]
  },
  {
   "cell_type": "markdown",
   "id": "c392d1ae",
   "metadata": {
    "papermill": {
     "duration": 0.049957,
     "end_time": "2021-09-03T13:50:00.123491",
     "exception": false,
     "start_time": "2021-09-03T13:50:00.073534",
     "status": "completed"
    },
    "tags": []
   },
   "source": [
    "To instantiate a Trainer, we will need to define three more things. The most important is the TrainingArguments, which is a class that contains all the attributes to customize the training. It requires one folder name, which will be used to save the checkpoints of the model, and all other arguments are optional:"
   ]
  },
  {
   "cell_type": "code",
   "execution_count": 26,
   "id": "70dbfa1c",
   "metadata": {
    "execution": {
     "iopub.execute_input": "2021-09-03T13:50:00.228500Z",
     "iopub.status.busy": "2021-09-03T13:50:00.227945Z",
     "iopub.status.idle": "2021-09-03T13:50:00.232666Z",
     "shell.execute_reply": "2021-09-03T13:50:00.232056Z"
    },
    "papermill": {
     "duration": 0.059111,
     "end_time": "2021-09-03T13:50:00.232814",
     "exception": false,
     "start_time": "2021-09-03T13:50:00.173703",
     "status": "completed"
    },
    "tags": []
   },
   "outputs": [
    {
     "name": "stdout",
     "output_type": "stream",
     "text": [
      "env: WANDB_DISABLED=True\n"
     ]
    }
   ],
   "source": [
    "%env WANDB_DISABLED=True"
   ]
  },
  {
   "cell_type": "code",
   "execution_count": 27,
   "id": "c61c5b68",
   "metadata": {
    "execution": {
     "iopub.execute_input": "2021-09-03T13:50:00.340351Z",
     "iopub.status.busy": "2021-09-03T13:50:00.339688Z",
     "iopub.status.idle": "2021-09-03T13:50:00.391086Z",
     "shell.execute_reply": "2021-09-03T13:50:00.390301Z"
    },
    "papermill": {
     "duration": 0.107078,
     "end_time": "2021-09-03T13:50:00.391232",
     "exception": false,
     "start_time": "2021-09-03T13:50:00.284154",
     "status": "completed"
    },
    "tags": []
   },
   "outputs": [
    {
     "name": "stderr",
     "output_type": "stream",
     "text": [
      "Using the `WAND_DISABLED` environment variable is deprecated and will be removed in v5. Use the --report_to flag to control the integrations used for logging result (for instance --report_to none).\n"
     ]
    }
   ],
   "source": [
    "model_name = model_checkpoint_name.split(\"/\")[-1]\n",
    "args = TrainingArguments(\n",
    "    f\"chaii-qa-xlmroberta\",\n",
    "    evaluation_strategy = \"epoch\",\n",
    "    save_strategy = \"epoch\",\n",
    "    learning_rate = 2e-5,\n",
    "    per_device_train_batch_size = batch_size,\n",
    "    per_device_eval_batch_size = batch_size,\n",
    "    warmup_ratio = 0.1,\n",
    "    gradient_accumulation_steps = 8,\n",
    "    num_train_epochs = 1,\n",
    "    weight_decay = 0.01\n",
    ")"
   ]
  },
  {
   "cell_type": "markdown",
   "id": "991c5daf",
   "metadata": {
    "papermill": {
     "duration": 0.050921,
     "end_time": "2021-09-03T13:50:00.493737",
     "exception": false,
     "start_time": "2021-09-03T13:50:00.442816",
     "status": "completed"
    },
    "tags": []
   },
   "source": [
    "We will need a data collator that will batch our processed examples together, here the default one will work"
   ]
  },
  {
   "cell_type": "code",
   "execution_count": 28,
   "id": "42457cba",
   "metadata": {
    "execution": {
     "iopub.execute_input": "2021-09-03T13:50:00.602372Z",
     "iopub.status.busy": "2021-09-03T13:50:00.600793Z",
     "iopub.status.idle": "2021-09-03T13:50:00.603078Z",
     "shell.execute_reply": "2021-09-03T13:50:00.603528Z"
    },
    "papermill": {
     "duration": 0.058438,
     "end_time": "2021-09-03T13:50:00.603665",
     "exception": false,
     "start_time": "2021-09-03T13:50:00.545227",
     "status": "completed"
    },
    "tags": []
   },
   "outputs": [],
   "source": [
    "data_collator = default_data_collator"
   ]
  },
  {
   "cell_type": "markdown",
   "id": "529faff8",
   "metadata": {
    "papermill": {
     "duration": 0.051475,
     "end_time": "2021-09-03T13:50:00.706475",
     "exception": false,
     "start_time": "2021-09-03T13:50:00.655000",
     "status": "completed"
    },
    "tags": []
   },
   "source": [
    "We just need to pass all of this along with our datasets to the Trainer"
   ]
  },
  {
   "cell_type": "code",
   "execution_count": 29,
   "id": "c598219c",
   "metadata": {
    "execution": {
     "iopub.execute_input": "2021-09-03T13:50:00.814236Z",
     "iopub.status.busy": "2021-09-03T13:50:00.813404Z",
     "iopub.status.idle": "2021-09-03T13:50:07.963919Z",
     "shell.execute_reply": "2021-09-03T13:50:07.964338Z"
    },
    "papermill": {
     "duration": 7.206642,
     "end_time": "2021-09-03T13:50:07.964518",
     "exception": false,
     "start_time": "2021-09-03T13:50:00.757876",
     "status": "completed"
    },
    "tags": []
   },
   "outputs": [],
   "source": [
    "trainer = Trainer(\n",
    "    model,\n",
    "    args,\n",
    "    train_dataset=tokenized_train_dataset,\n",
    "    eval_dataset=tokenized_valid_dataset,\n",
    "    data_collator=data_collator,\n",
    "    tokenizer=tokenizer,\n",
    ")"
   ]
  },
  {
   "cell_type": "markdown",
   "id": "81aa01b5",
   "metadata": {
    "papermill": {
     "duration": 0.05515,
     "end_time": "2021-09-03T13:50:08.071589",
     "exception": false,
     "start_time": "2021-09-03T13:50:08.016439",
     "status": "completed"
    },
    "tags": []
   },
   "source": [
    "Run Fine tuning now"
   ]
  },
  {
   "cell_type": "code",
   "execution_count": 30,
   "id": "516e2f60",
   "metadata": {
    "execution": {
     "iopub.execute_input": "2021-09-03T13:50:08.486589Z",
     "iopub.status.busy": "2021-09-03T13:50:08.483732Z",
     "iopub.status.idle": "2021-09-03T14:24:06.864273Z",
     "shell.execute_reply": "2021-09-03T14:24:06.863743Z"
    },
    "papermill": {
     "duration": 2038.706088,
     "end_time": "2021-09-03T14:24:06.864432",
     "exception": false,
     "start_time": "2021-09-03T13:50:08.158344",
     "status": "completed"
    },
    "tags": []
   },
   "outputs": [
    {
     "data": {
      "text/html": [
       "\n",
       "    <div>\n",
       "      \n",
       "      <progress value='435' max='435' style='width:300px; height:20px; vertical-align: middle;'></progress>\n",
       "      [435/435 33:50, Epoch 0/1]\n",
       "    </div>\n",
       "    <table border=\"1\" class=\"dataframe\">\n",
       "  <thead>\n",
       "    <tr style=\"text-align: left;\">\n",
       "      <th>Epoch</th>\n",
       "      <th>Training Loss</th>\n",
       "      <th>Validation Loss</th>\n",
       "    </tr>\n",
       "  </thead>\n",
       "  <tbody>\n",
       "    <tr>\n",
       "      <td>0</td>\n",
       "      <td>No log</td>\n",
       "      <td>0.275850</td>\n",
       "    </tr>\n",
       "  </tbody>\n",
       "</table><p>"
      ],
      "text/plain": [
       "<IPython.core.display.HTML object>"
      ]
     },
     "metadata": {},
     "output_type": "display_data"
    },
    {
     "data": {
      "text/plain": [
       "TrainOutput(global_step=435, training_loss=0.25470474067775684, metrics={'train_runtime': 2033.7169, 'train_samples_per_second': 0.214, 'total_flos': 0, 'epoch': 1.0, 'init_mem_cpu_alloc_delta': 117596160, 'init_mem_gpu_alloc_delta': 2235376640, 'init_mem_cpu_peaked_delta': 1459736576, 'init_mem_gpu_peaked_delta': 0, 'train_mem_cpu_alloc_delta': 85274624, 'train_mem_gpu_alloc_delta': 6733405184, 'train_mem_cpu_peaked_delta': 3083112448, 'train_mem_gpu_peaked_delta': 5504041984})"
      ]
     },
     "execution_count": 30,
     "metadata": {},
     "output_type": "execute_result"
    }
   ],
   "source": [
    "trainer.train()"
   ]
  },
  {
   "cell_type": "code",
   "execution_count": 31,
   "id": "602436b4",
   "metadata": {
    "execution": {
     "iopub.execute_input": "2021-09-03T14:24:07.509621Z",
     "iopub.status.busy": "2021-09-03T14:24:07.508757Z",
     "iopub.status.idle": "2021-09-03T14:24:37.038991Z",
     "shell.execute_reply": "2021-09-03T14:24:37.038050Z"
    },
    "papermill": {
     "duration": 29.624554,
     "end_time": "2021-09-03T14:24:37.039134",
     "exception": false,
     "start_time": "2021-09-03T14:24:07.414580",
     "status": "completed"
    },
    "tags": []
   },
   "outputs": [],
   "source": [
    "trainer.save_model(\"chaii-qa-xlmroberta-trained\")"
   ]
  },
  {
   "cell_type": "markdown",
   "id": "124b3497",
   "metadata": {
    "papermill": {
     "duration": 1.637052,
     "end_time": "2021-09-03T14:24:40.302182",
     "exception": false,
     "start_time": "2021-09-03T14:24:38.665130",
     "status": "completed"
    },
    "tags": []
   },
   "source": [
    "# Model Evaluation\n",
    "\n",
    "Evaluating our model will require a bit more work, as we will need to map the predictions of our model back to parts of the context. The model itself predicts logits for the start and en position of our answers: if we take a batch from our validation datalaoder, here is the output our model gives us:"
   ]
  },
  {
   "cell_type": "code",
   "execution_count": 32,
   "id": "8f4a23d1",
   "metadata": {
    "execution": {
     "iopub.execute_input": "2021-09-03T14:24:40.536744Z",
     "iopub.status.busy": "2021-09-03T14:24:40.535764Z",
     "iopub.status.idle": "2021-09-03T14:24:40.610822Z",
     "shell.execute_reply": "2021-09-03T14:24:40.611734Z"
    },
    "papermill": {
     "duration": 0.175227,
     "end_time": "2021-09-03T14:24:40.611923",
     "exception": false,
     "start_time": "2021-09-03T14:24:40.436696",
     "status": "completed"
    },
    "tags": []
   },
   "outputs": [
    {
     "data": {
      "text/plain": [
       "odict_keys(['loss', 'start_logits', 'end_logits'])"
      ]
     },
     "execution_count": 32,
     "metadata": {},
     "output_type": "execute_result"
    }
   ],
   "source": [
    "for batch in trainer.get_eval_dataloader():\n",
    "    break\n",
    "batch = {k: v.to(trainer.args.device) for k, v in batch.items()}\n",
    "with torch.no_grad():\n",
    "    output = trainer.model(**batch)\n",
    "output.keys()"
   ]
  },
  {
   "cell_type": "markdown",
   "id": "5e4fd2be",
   "metadata": {
    "papermill": {
     "duration": 0.133094,
     "end_time": "2021-09-03T14:24:40.903448",
     "exception": false,
     "start_time": "2021-09-03T14:24:40.770354",
     "status": "completed"
    },
    "tags": []
   },
   "source": [
    "The output of the model is a dict-like object that contains the loss (since we provided labels), the start and end logits. We won't need the loss for our predictions, let's have a look a the logits:"
   ]
  },
  {
   "cell_type": "code",
   "execution_count": 33,
   "id": "2222022f",
   "metadata": {
    "execution": {
     "iopub.execute_input": "2021-09-03T14:24:41.103154Z",
     "iopub.status.busy": "2021-09-03T14:24:41.102246Z",
     "iopub.status.idle": "2021-09-03T14:24:41.111446Z",
     "shell.execute_reply": "2021-09-03T14:24:41.112152Z"
    },
    "papermill": {
     "duration": 0.120154,
     "end_time": "2021-09-03T14:24:41.112388",
     "exception": false,
     "start_time": "2021-09-03T14:24:40.992234",
     "status": "completed"
    },
    "tags": []
   },
   "outputs": [
    {
     "data": {
      "text/plain": [
       "(torch.Size([4, 384]), torch.Size([4, 384]))"
      ]
     },
     "execution_count": 33,
     "metadata": {},
     "output_type": "execute_result"
    }
   ],
   "source": [
    "output.start_logits.shape, output.end_logits.shape"
   ]
  },
  {
   "cell_type": "code",
   "execution_count": 34,
   "id": "d3a684d7",
   "metadata": {
    "execution": {
     "iopub.execute_input": "2021-09-03T14:24:41.438032Z",
     "iopub.status.busy": "2021-09-03T14:24:41.437058Z",
     "iopub.status.idle": "2021-09-03T14:24:41.441352Z",
     "shell.execute_reply": "2021-09-03T14:24:41.442456Z"
    },
    "papermill": {
     "duration": 0.181896,
     "end_time": "2021-09-03T14:24:41.442688",
     "exception": false,
     "start_time": "2021-09-03T14:24:41.260792",
     "status": "completed"
    },
    "tags": []
   },
   "outputs": [],
   "source": [
    "def prepare_validation_features(examples):\n",
    "    # Some of the questions have lots of whitespace on the left, which is not useful and will make the\n",
    "    # truncation of the context fail (the tokenized question will take a lots of space). So we remove that\n",
    "    # left whitespace\n",
    "    examples[\"question\"] = [q.lstrip() for q in examples[\"question\"]]\n",
    "\n",
    "    # Tokenize our examples with truncation and maybe padding, but keep the overflows using a stride. This results\n",
    "    # in one example possible giving several features when a context is long, each of those features having a\n",
    "    # context that overlaps a bit the context of the previous feature.\n",
    "    tokenized_examples = tokenizer(\n",
    "        examples[\"question\" if pad_on_right else \"context\"],\n",
    "        examples[\"context\" if pad_on_right else \"question\"],\n",
    "        truncation=\"only_second\" if pad_on_right else \"only_first\",\n",
    "        max_length=max_length,\n",
    "        stride=doc_stride,\n",
    "        return_overflowing_tokens=True,\n",
    "        return_offsets_mapping=True,\n",
    "        padding=\"max_length\",\n",
    "    )\n",
    "\n",
    "    # Since one example might give us several features if it has a long context, we need a map from a feature to\n",
    "    # its corresponding example. This key gives us just that.\n",
    "    sample_mapping = tokenized_examples.pop(\"overflow_to_sample_mapping\")\n",
    "\n",
    "    # We keep the example_id that gave us this feature and we will store the offset mappings.\n",
    "    tokenized_examples[\"example_id\"] = []\n",
    "\n",
    "    for i in range(len(tokenized_examples[\"input_ids\"])):\n",
    "        # Grab the sequence corresponding to that example (to know what is the context and what is the question).\n",
    "        sequence_ids = tokenized_examples.sequence_ids(i)\n",
    "        context_index = 1 if pad_on_right else 0\n",
    "\n",
    "        # One example can give several spans, this is the index of the example containing this span of text.\n",
    "        sample_index = sample_mapping[i]\n",
    "        tokenized_examples[\"example_id\"].append(examples[\"id\"][sample_index])\n",
    "\n",
    "        # Set to None the offset_mapping that are not part of the context so it's easy to determine if a token\n",
    "        # position is part of the context or not.\n",
    "        tokenized_examples[\"offset_mapping\"][i] = [\n",
    "            (o if sequence_ids[k] == context_index else None)\n",
    "            for k, o in enumerate(tokenized_examples[\"offset_mapping\"][i])\n",
    "        ]\n",
    "\n",
    "    return tokenized_examples\n"
   ]
  },
  {
   "cell_type": "code",
   "execution_count": 35,
   "id": "a90c1f5e",
   "metadata": {
    "execution": {
     "iopub.execute_input": "2021-09-03T14:24:41.643858Z",
     "iopub.status.busy": "2021-09-03T14:24:41.643034Z",
     "iopub.status.idle": "2021-09-03T14:24:45.933093Z",
     "shell.execute_reply": "2021-09-03T14:24:45.932604Z"
    },
    "papermill": {
     "duration": 4.386247,
     "end_time": "2021-09-03T14:24:45.933222",
     "exception": false,
     "start_time": "2021-09-03T14:24:41.546975",
     "status": "completed"
    },
    "tags": []
   },
   "outputs": [
    {
     "data": {
      "application/vnd.jupyter.widget-view+json": {
       "model_id": "a1a5d47a7eeb484cb16b30c19e9a56e3",
       "version_major": 2,
       "version_minor": 0
      },
      "text/plain": [
       "  0%|          | 0/1 [00:00<?, ?ba/s]"
      ]
     },
     "metadata": {},
     "output_type": "display_data"
    }
   ],
   "source": [
    "validation_features = valid_dataset.map(\n",
    "    prepare_validation_features,\n",
    "    batched=True,\n",
    "    remove_columns=valid_dataset.column_names\n",
    ")"
   ]
  },
  {
   "cell_type": "code",
   "execution_count": 36,
   "id": "04e7c312",
   "metadata": {
    "execution": {
     "iopub.execute_input": "2021-09-03T14:25:04.817434Z",
     "iopub.status.busy": "2021-09-03T14:25:04.816446Z",
     "iopub.status.idle": "2021-09-03T14:25:06.658508Z",
     "shell.execute_reply": "2021-09-03T14:25:06.657134Z"
    },
    "papermill": {
     "duration": 20.67064,
     "end_time": "2021-09-03T14:25:06.658645",
     "exception": false,
     "start_time": "2021-09-03T14:24:45.988005",
     "status": "completed"
    },
    "tags": []
   },
   "outputs": [
    {
     "data": {
      "application/vnd.jupyter.widget-view+json": {
       "model_id": "2dfedb009d2b48a89eb68ee64945b94c",
       "version_major": 2,
       "version_minor": 0
      },
      "text/plain": [
       "  0%|          | 0/816 [00:00<?, ?ex/s]"
      ]
     },
     "metadata": {},
     "output_type": "display_data"
    },
    {
     "data": {
      "text/plain": [
       "Dataset({\n",
       "    features: ['attention_mask', 'input_ids'],\n",
       "    num_rows: 816\n",
       "})"
      ]
     },
     "execution_count": 36,
     "metadata": {},
     "output_type": "execute_result"
    }
   ],
   "source": [
    "valid_feats_small = validation_features.map(lambda example: example, remove_columns=['example_id', 'offset_mapping'])\n",
    "valid_feats_small"
   ]
  },
  {
   "cell_type": "code",
   "execution_count": 37,
   "id": "36c9851e",
   "metadata": {
    "execution": {
     "iopub.execute_input": "2021-09-03T14:25:06.945604Z",
     "iopub.status.busy": "2021-09-03T14:25:06.944744Z",
     "iopub.status.idle": "2021-09-03T14:25:44.311322Z",
     "shell.execute_reply": "2021-09-03T14:25:44.310841Z"
    },
    "papermill": {
     "duration": 37.597879,
     "end_time": "2021-09-03T14:25:44.311471",
     "exception": false,
     "start_time": "2021-09-03T14:25:06.713592",
     "status": "completed"
    },
    "tags": []
   },
   "outputs": [
    {
     "data": {
      "text/html": [
       "\n",
       "    <div>\n",
       "      \n",
       "      <progress value='221' max='204' style='width:300px; height:20px; vertical-align: middle;'></progress>\n",
       "      [204/204 00:48]\n",
       "    </div>\n",
       "    "
      ],
      "text/plain": [
       "<IPython.core.display.HTML object>"
      ]
     },
     "metadata": {},
     "output_type": "display_data"
    }
   ],
   "source": [
    "raw_predictions = trainer.predict(valid_feats_small)"
   ]
  },
  {
   "cell_type": "markdown",
   "id": "c64cb3f6",
   "metadata": {
    "papermill": {
     "duration": 0.05459,
     "end_time": "2021-09-03T14:25:44.421383",
     "exception": false,
     "start_time": "2021-09-03T14:25:44.366793",
     "status": "completed"
    },
    "tags": []
   },
   "source": [
    "For all features, we will need a map between examples and their corresponding features. Also, since one example can give several features, we will need to gather together all the answers in all the features generated by a given example, then pick the best one. The following code builds a map from example index to its corresponding features indices"
   ]
  },
  {
   "cell_type": "code",
   "execution_count": 38,
   "id": "0ff56308",
   "metadata": {
    "execution": {
     "iopub.execute_input": "2021-09-03T14:25:44.535464Z",
     "iopub.status.busy": "2021-09-03T14:25:44.534944Z",
     "iopub.status.idle": "2021-09-03T14:25:45.817921Z",
     "shell.execute_reply": "2021-09-03T14:25:45.818607Z"
    },
    "papermill": {
     "duration": 1.342515,
     "end_time": "2021-09-03T14:25:45.818793",
     "exception": false,
     "start_time": "2021-09-03T14:25:44.476278",
     "status": "completed"
    },
    "tags": []
   },
   "outputs": [],
   "source": [
    "examples = valid_dataset\n",
    "features = validation_features\n",
    "\n",
    "example_id_to_index = {k: i for i, k in enumerate(examples[\"id\"])}\n",
    "features_per_example = collections.defaultdict(list)\n",
    "for i, feature in enumerate(features):\n",
    "    features_per_example[example_id_to_index[feature[\"example_id\"]]].append(i)"
   ]
  },
  {
   "cell_type": "markdown",
   "id": "cea393cc",
   "metadata": {
    "papermill": {
     "duration": 0.055225,
     "end_time": "2021-09-03T14:25:45.930070",
     "exception": false,
     "start_time": "2021-09-03T14:25:45.874845",
     "status": "completed"
    },
    "tags": []
   },
   "source": [
    "We're almost ready for our post-processing function. The last bit to deal with is the impossible answer (when squad_v2 = True). The code above only keeps answers that are inside the context, we need to also grab the score for the impossible answer (which has start and end indices corresponding to the index of the CLS token). When one example gives several features, we have to predict the impossible answer when all the features give a high score to the impossible answer (since one feature could predict the impossible answer just because the answer isn't in the part of the context it has access too), which is why the score of the impossible answer for one example is the minimum of the scores for the impossible answer in each feature generated by the example.\n",
    "\n",
    "We then predict the impossible answer when that score is greater than the score of the best non-impossible answer. All combined together, this gives us this post-processing function"
   ]
  },
  {
   "cell_type": "code",
   "execution_count": 39,
   "id": "701c09d1",
   "metadata": {
    "execution": {
     "iopub.execute_input": "2021-09-03T14:25:46.055181Z",
     "iopub.status.busy": "2021-09-03T14:25:46.053638Z",
     "iopub.status.idle": "2021-09-03T14:25:46.056014Z",
     "shell.execute_reply": "2021-09-03T14:25:46.056443Z"
    },
    "papermill": {
     "duration": 0.071673,
     "end_time": "2021-09-03T14:25:46.056575",
     "exception": false,
     "start_time": "2021-09-03T14:25:45.984902",
     "status": "completed"
    },
    "tags": []
   },
   "outputs": [],
   "source": [
    "def postprocess_qa_predictions(examples, features, raw_predictions, n_best_size = 20, max_answer_length = 30):\n",
    "    all_start_logits, all_end_logits = raw_predictions\n",
    "    # Build a map example to its corresponding features.\n",
    "    example_id_to_index = {k: i for i, k in enumerate(examples[\"id\"])}\n",
    "    features_per_example = collections.defaultdict(list)\n",
    "    for i, feature in enumerate(features):\n",
    "        features_per_example[example_id_to_index[feature[\"example_id\"]]].append(i)\n",
    "\n",
    "    # The dictionaries we have to fill.\n",
    "    predictions = collections.OrderedDict()\n",
    "\n",
    "    # Logging.\n",
    "    print(f\"Post-processing {len(examples)} example predictions split into {len(features)} features.\")\n",
    "\n",
    "    # Let's loop over all the examples!\n",
    "    for example_index, example in enumerate(tqdm(examples)):\n",
    "        # Those are the indices of the features associated to the current example.\n",
    "        feature_indices = features_per_example[example_index]\n",
    "\n",
    "        min_null_score = None # Only used if squad_v2 is True.\n",
    "        valid_answers = []\n",
    "        \n",
    "        context = example[\"context\"]\n",
    "        # Looping through all the features associated to the current example.\n",
    "        for feature_index in feature_indices:\n",
    "            # We grab the predictions of the model for this feature.\n",
    "            start_logits = all_start_logits[feature_index]\n",
    "            end_logits = all_end_logits[feature_index]\n",
    "            # This is what will allow us to map some the positions in our logits to span of texts in the original\n",
    "            # context.\n",
    "            offset_mapping = features[feature_index][\"offset_mapping\"]\n",
    "\n",
    "            # Update minimum null prediction.\n",
    "            cls_index = features[feature_index][\"input_ids\"].index(tokenizer.cls_token_id)\n",
    "            feature_null_score = start_logits[cls_index] + end_logits[cls_index]\n",
    "            if min_null_score is None or min_null_score < feature_null_score:\n",
    "                min_null_score = feature_null_score\n",
    "\n",
    "            # Go through all possibilities for the `n_best_size` greater start and end logits.\n",
    "            start_indexes = np.argsort(start_logits)[-1 : -n_best_size - 1 : -1].tolist()\n",
    "            end_indexes = np.argsort(end_logits)[-1 : -n_best_size - 1 : -1].tolist()\n",
    "            for start_index in start_indexes:\n",
    "                for end_index in end_indexes:\n",
    "                    # Don't consider out-of-scope answers, either because the indices are out of bounds or correspond\n",
    "                    # to part of the input_ids that are not in the context.\n",
    "                    if (\n",
    "                        start_index >= len(offset_mapping)\n",
    "                        or end_index >= len(offset_mapping)\n",
    "                        or offset_mapping[start_index] is None\n",
    "                        or offset_mapping[end_index] is None\n",
    "                    ):\n",
    "                        continue\n",
    "                    # Don't consider answers with a length that is either < 0 or > max_answer_length.\n",
    "                    if end_index < start_index or end_index - start_index + 1 > max_answer_length:\n",
    "                        continue\n",
    "\n",
    "                    start_char = offset_mapping[start_index][0]\n",
    "                    end_char = offset_mapping[end_index][1]\n",
    "                    valid_answers.append(\n",
    "                        {\n",
    "                            \"score\": start_logits[start_index] + end_logits[end_index],\n",
    "                            \"text\": context[start_char: end_char]\n",
    "                        }\n",
    "                    )\n",
    "        \n",
    "        if len(valid_answers) > 0:\n",
    "            best_answer = sorted(valid_answers, key=lambda x: x[\"score\"], reverse=True)[0]\n",
    "        else:\n",
    "            # In the very rare edge case we have not a single non-null prediction, we create a fake prediction to avoid\n",
    "            # failure.\n",
    "            best_answer = {\"text\": \"\", \"score\": 0.0}\n",
    "        \n",
    "        # Let's pick our final answer: the best one or the null answer (only for squad_v2)\n",
    "        if not squad_v2:\n",
    "            predictions[example[\"id\"]] = best_answer[\"text\"]\n",
    "        else:\n",
    "            answer = best_answer[\"text\"] if best_answer[\"score\"] > min_null_score else \"\"\n",
    "            predictions[example[\"id\"]] = answer\n",
    "\n",
    "    return predictions"
   ]
  },
  {
   "cell_type": "code",
   "execution_count": 40,
   "id": "2b6a223e",
   "metadata": {
    "execution": {
     "iopub.execute_input": "2021-09-03T14:25:47.481910Z",
     "iopub.status.busy": "2021-09-03T14:25:46.170111Z",
     "iopub.status.idle": "2021-09-03T14:25:50.367557Z",
     "shell.execute_reply": "2021-09-03T14:25:50.365293Z"
    },
    "papermill": {
     "duration": 4.256287,
     "end_time": "2021-09-03T14:25:50.367688",
     "exception": false,
     "start_time": "2021-09-03T14:25:46.111401",
     "status": "completed"
    },
    "tags": []
   },
   "outputs": [
    {
     "name": "stdout",
     "output_type": "stream",
     "text": [
      "Post-processing 64 example predictions split into 816 features.\n"
     ]
    },
    {
     "data": {
      "application/vnd.jupyter.widget-view+json": {
       "model_id": "5691904839304d89a596f6d7b2fd4493",
       "version_major": 2,
       "version_minor": 0
      },
      "text/plain": [
       "  0%|          | 0/64 [00:00<?, ?it/s]"
      ]
     },
     "metadata": {},
     "output_type": "display_data"
    }
   ],
   "source": [
    "final_predictions = postprocess_qa_predictions(valid_dataset, validation_features, raw_predictions.predictions)"
   ]
  },
  {
   "cell_type": "code",
   "execution_count": 41,
   "id": "869af6f2",
   "metadata": {
    "execution": {
     "iopub.execute_input": "2021-09-03T14:25:50.498114Z",
     "iopub.status.busy": "2021-09-03T14:25:50.497383Z",
     "iopub.status.idle": "2021-09-03T14:25:50.500109Z",
     "shell.execute_reply": "2021-09-03T14:25:50.499709Z"
    },
    "papermill": {
     "duration": 0.076178,
     "end_time": "2021-09-03T14:25:50.500231",
     "exception": false,
     "start_time": "2021-09-03T14:25:50.424053",
     "status": "completed"
    },
    "tags": []
   },
   "outputs": [],
   "source": [
    "references = [{\"id\": ex[\"id\"], \"answer\": ex[\"answers\"]['text'][0]} for ex in valid_dataset]"
   ]
  },
  {
   "cell_type": "code",
   "execution_count": 42,
   "id": "7b51525c",
   "metadata": {
    "execution": {
     "iopub.execute_input": "2021-09-03T14:25:50.616752Z",
     "iopub.status.busy": "2021-09-03T14:25:50.616062Z",
     "iopub.status.idle": "2021-09-03T14:25:50.618796Z",
     "shell.execute_reply": "2021-09-03T14:25:50.618368Z"
    },
    "papermill": {
     "duration": 0.063,
     "end_time": "2021-09-03T14:25:50.618905",
     "exception": false,
     "start_time": "2021-09-03T14:25:50.555905",
     "status": "completed"
    },
    "tags": []
   },
   "outputs": [],
   "source": [
    "def jaccard(row): \n",
    "    str1 = row[0]\n",
    "    str2 = row[1]\n",
    "    a = set(str1.lower().split()) \n",
    "    b = set(str2.lower().split())\n",
    "    c = a.intersection(b)\n",
    "    return float(len(c)) / (len(a) + len(b) - len(c))"
   ]
  },
  {
   "cell_type": "code",
   "execution_count": 43,
   "id": "cc609b89",
   "metadata": {
    "execution": {
     "iopub.execute_input": "2021-09-03T14:25:50.741905Z",
     "iopub.status.busy": "2021-09-03T14:25:50.741355Z",
     "iopub.status.idle": "2021-09-03T14:25:50.758770Z",
     "shell.execute_reply": "2021-09-03T14:25:50.758352Z"
    },
    "papermill": {
     "duration": 0.084078,
     "end_time": "2021-09-03T14:25:50.758881",
     "exception": false,
     "start_time": "2021-09-03T14:25:50.674803",
     "status": "completed"
    },
    "tags": []
   },
   "outputs": [
    {
     "data": {
      "text/html": [
       "<div>\n",
       "<style scoped>\n",
       "    .dataframe tbody tr th:only-of-type {\n",
       "        vertical-align: middle;\n",
       "    }\n",
       "\n",
       "    .dataframe tbody tr th {\n",
       "        vertical-align: top;\n",
       "    }\n",
       "\n",
       "    .dataframe thead th {\n",
       "        text-align: right;\n",
       "    }\n",
       "</style>\n",
       "<table border=\"1\" class=\"dataframe\">\n",
       "  <thead>\n",
       "    <tr style=\"text-align: right;\">\n",
       "      <th></th>\n",
       "      <th>id</th>\n",
       "      <th>answer</th>\n",
       "      <th>prediction</th>\n",
       "      <th>jaccard</th>\n",
       "    </tr>\n",
       "  </thead>\n",
       "  <tbody>\n",
       "    <tr>\n",
       "      <th>0</th>\n",
       "      <td>dc64d02cf</td>\n",
       "      <td>प्रतिभा पाटील</td>\n",
       "      <td>प्रतिभा पाटील</td>\n",
       "      <td>1.000000</td>\n",
       "    </tr>\n",
       "    <tr>\n",
       "      <th>1</th>\n",
       "      <td>98d8542f6</td>\n",
       "      <td>பிங்க்</td>\n",
       "      <td>பிங்க்</td>\n",
       "      <td>1.000000</td>\n",
       "    </tr>\n",
       "    <tr>\n",
       "      <th>2</th>\n",
       "      <td>3ce81e663</td>\n",
       "      <td>मिर्ज़ा असद-उल्लाह बेग ख़ां</td>\n",
       "      <td>मिर्ज़ा असद-उल्लाह बेग ख़ां</td>\n",
       "      <td>1.000000</td>\n",
       "    </tr>\n",
       "    <tr>\n",
       "      <th>3</th>\n",
       "      <td>40f4e32da</td>\n",
       "      <td>मीटर प्रति सेकेण्ड2</td>\n",
       "      <td>मीटर प्रति सेकेण्ड2</td>\n",
       "      <td>1.000000</td>\n",
       "    </tr>\n",
       "    <tr>\n",
       "      <th>4</th>\n",
       "      <td>bfa4380bd</td>\n",
       "      <td>अगरतला</td>\n",
       "      <td>अगरतला</td>\n",
       "      <td>1.000000</td>\n",
       "    </tr>\n",
       "    <tr>\n",
       "      <th>...</th>\n",
       "      <td>...</td>\n",
       "      <td>...</td>\n",
       "      <td>...</td>\n",
       "      <td>...</td>\n",
       "    </tr>\n",
       "    <tr>\n",
       "      <th>59</th>\n",
       "      <td>3acaa3b86</td>\n",
       "      <td>स्टेगेरिया</td>\n",
       "      <td>स्टेगेरिया</td>\n",
       "      <td>1.000000</td>\n",
       "    </tr>\n",
       "    <tr>\n",
       "      <th>60</th>\n",
       "      <td>7a3e4bf22</td>\n",
       "      <td>கி.மு 3000</td>\n",
       "      <td>கி.மு 6000</td>\n",
       "      <td>0.333333</td>\n",
       "    </tr>\n",
       "    <tr>\n",
       "      <th>61</th>\n",
       "      <td>de34ee0a0</td>\n",
       "      <td>माइकोलैव ब्लैक ‍सी शिपयार्ड</td>\n",
       "      <td>यूक्रेन के माइकोलैव</td>\n",
       "      <td>0.166667</td>\n",
       "    </tr>\n",
       "    <tr>\n",
       "      <th>62</th>\n",
       "      <td>518fc3aaf</td>\n",
       "      <td>तेरह</td>\n",
       "      <td>तेरह</td>\n",
       "      <td>1.000000</td>\n",
       "    </tr>\n",
       "    <tr>\n",
       "      <th>63</th>\n",
       "      <td>632812604</td>\n",
       "      <td>न्युयॉर्क</td>\n",
       "      <td>न्युयॉर्क</td>\n",
       "      <td>1.000000</td>\n",
       "    </tr>\n",
       "  </tbody>\n",
       "</table>\n",
       "<p>64 rows × 4 columns</p>\n",
       "</div>"
      ],
      "text/plain": [
       "           id                       answer                   prediction  \\\n",
       "0   dc64d02cf                प्रतिभा पाटील                प्रतिभा पाटील   \n",
       "1   98d8542f6                       பிங்க்                       பிங்க்   \n",
       "2   3ce81e663  मिर्ज़ा असद-उल्लाह बेग ख़ां  मिर्ज़ा असद-उल्लाह बेग ख़ां   \n",
       "3   40f4e32da          मीटर प्रति सेकेण्ड2          मीटर प्रति सेकेण्ड2   \n",
       "4   bfa4380bd                       अगरतला                       अगरतला   \n",
       "..        ...                          ...                          ...   \n",
       "59  3acaa3b86                   स्टेगेरिया                   स्टेगेरिया   \n",
       "60  7a3e4bf22                   கி.மு 3000                   கி.மு 6000   \n",
       "61  de34ee0a0  माइकोलैव ब्लैक ‍सी शिपयार्ड          यूक्रेन के माइकोलैव   \n",
       "62  518fc3aaf                         तेरह                         तेरह   \n",
       "63  632812604                    न्युयॉर्क                    न्युयॉर्क   \n",
       "\n",
       "     jaccard  \n",
       "0   1.000000  \n",
       "1   1.000000  \n",
       "2   1.000000  \n",
       "3   1.000000  \n",
       "4   1.000000  \n",
       "..       ...  \n",
       "59  1.000000  \n",
       "60  0.333333  \n",
       "61  0.166667  \n",
       "62  1.000000  \n",
       "63  1.000000  \n",
       "\n",
       "[64 rows x 4 columns]"
      ]
     },
     "execution_count": 43,
     "metadata": {},
     "output_type": "execute_result"
    }
   ],
   "source": [
    "res = pd.DataFrame(references)\n",
    "res['prediction'] = res['id'].apply(lambda r: final_predictions[r])\n",
    "res['jaccard'] = res[['answer', 'prediction']].apply(jaccard, axis=1)\n",
    "res"
   ]
  },
  {
   "cell_type": "code",
   "execution_count": 44,
   "id": "acfb6bfd",
   "metadata": {
    "execution": {
     "iopub.execute_input": "2021-09-03T14:25:50.879464Z",
     "iopub.status.busy": "2021-09-03T14:25:50.878860Z",
     "iopub.status.idle": "2021-09-03T14:25:50.881880Z",
     "shell.execute_reply": "2021-09-03T14:25:50.882275Z"
    },
    "papermill": {
     "duration": 0.066815,
     "end_time": "2021-09-03T14:25:50.882396",
     "exception": false,
     "start_time": "2021-09-03T14:25:50.815581",
     "status": "completed"
    },
    "tags": []
   },
   "outputs": [
    {
     "data": {
      "text/plain": [
       "0.6739583333333334"
      ]
     },
     "execution_count": 44,
     "metadata": {},
     "output_type": "execute_result"
    }
   ],
   "source": [
    "res.jaccard.mean()"
   ]
  },
  {
   "cell_type": "markdown",
   "id": "d3cfb9d2",
   "metadata": {
    "papermill": {
     "duration": 0.057146,
     "end_time": "2021-09-03T14:25:50.996466",
     "exception": false,
     "start_time": "2021-09-03T14:25:50.939320",
     "status": "completed"
    },
    "tags": []
   },
   "source": [
    "# Test Predictions"
   ]
  },
  {
   "cell_type": "code",
   "execution_count": 45,
   "id": "975ebb1e",
   "metadata": {
    "execution": {
     "iopub.execute_input": "2021-09-03T14:25:51.116624Z",
     "iopub.status.busy": "2021-09-03T14:25:51.115819Z",
     "iopub.status.idle": "2021-09-03T14:25:51.120976Z",
     "shell.execute_reply": "2021-09-03T14:25:51.120580Z"
    },
    "papermill": {
     "duration": 0.06787,
     "end_time": "2021-09-03T14:25:51.121085",
     "exception": false,
     "start_time": "2021-09-03T14:25:51.053215",
     "status": "completed"
    },
    "tags": []
   },
   "outputs": [],
   "source": [
    "test_dataset = Dataset.from_pandas(test)"
   ]
  },
  {
   "cell_type": "code",
   "execution_count": 46,
   "id": "f3757a61",
   "metadata": {
    "execution": {
     "iopub.execute_input": "2021-09-03T14:25:51.274513Z",
     "iopub.status.busy": "2021-09-03T14:25:51.273717Z",
     "iopub.status.idle": "2021-09-03T14:25:51.690320Z",
     "shell.execute_reply": "2021-09-03T14:25:51.690717Z"
    },
    "papermill": {
     "duration": 0.512608,
     "end_time": "2021-09-03T14:25:51.690870",
     "exception": false,
     "start_time": "2021-09-03T14:25:51.178262",
     "status": "completed"
    },
    "tags": []
   },
   "outputs": [
    {
     "data": {
      "application/vnd.jupyter.widget-view+json": {
       "model_id": "dd5376fc46384959b08a7d968df1c300",
       "version_major": 2,
       "version_minor": 0
      },
      "text/plain": [
       "  0%|          | 0/1 [00:00<?, ?ba/s]"
      ]
     },
     "metadata": {},
     "output_type": "display_data"
    }
   ],
   "source": [
    "test_features = test_dataset.map(\n",
    "    prepare_validation_features,\n",
    "    batched=True,\n",
    "    remove_columns=test_dataset.column_names\n",
    ")"
   ]
  },
  {
   "cell_type": "code",
   "execution_count": 47,
   "id": "c46e8f90",
   "metadata": {
    "execution": {
     "iopub.execute_input": "2021-09-03T14:25:51.833786Z",
     "iopub.status.busy": "2021-09-03T14:25:51.832899Z",
     "iopub.status.idle": "2021-09-03T14:25:51.962907Z",
     "shell.execute_reply": "2021-09-03T14:25:51.962469Z"
    },
    "papermill": {
     "duration": 0.213853,
     "end_time": "2021-09-03T14:25:51.963042",
     "exception": false,
     "start_time": "2021-09-03T14:25:51.749189",
     "status": "completed"
    },
    "tags": []
   },
   "outputs": [
    {
     "data": {
      "application/vnd.jupyter.widget-view+json": {
       "model_id": "e3ab57bbe70e429194b6b2d8389646e9",
       "version_major": 2,
       "version_minor": 0
      },
      "text/plain": [
       "  0%|          | 0/67 [00:00<?, ?ex/s]"
      ]
     },
     "metadata": {},
     "output_type": "display_data"
    },
    {
     "data": {
      "text/plain": [
       "Dataset({\n",
       "    features: ['attention_mask', 'input_ids'],\n",
       "    num_rows: 67\n",
       "})"
      ]
     },
     "execution_count": 47,
     "metadata": {},
     "output_type": "execute_result"
    }
   ],
   "source": [
    "test_feats_small = test_features.map(lambda example: example, remove_columns=['example_id', 'offset_mapping'])\n",
    "test_feats_small"
   ]
  },
  {
   "cell_type": "code",
   "execution_count": 48,
   "id": "5493f30d",
   "metadata": {
    "execution": {
     "iopub.execute_input": "2021-09-03T14:25:52.253888Z",
     "iopub.status.busy": "2021-09-03T14:25:52.253034Z",
     "iopub.status.idle": "2021-09-03T14:25:55.517307Z",
     "shell.execute_reply": "2021-09-03T14:25:55.516808Z"
    },
    "papermill": {
     "duration": 3.496019,
     "end_time": "2021-09-03T14:25:55.517460",
     "exception": false,
     "start_time": "2021-09-03T14:25:52.021441",
     "status": "completed"
    },
    "tags": []
   },
   "outputs": [],
   "source": [
    "test_predictions = trainer.predict(test_feats_small)"
   ]
  },
  {
   "cell_type": "code",
   "execution_count": 49,
   "id": "34557083",
   "metadata": {
    "execution": {
     "iopub.execute_input": "2021-09-03T14:25:55.643387Z",
     "iopub.status.busy": "2021-09-03T14:25:55.642862Z",
     "iopub.status.idle": "2021-09-03T14:25:55.646351Z",
     "shell.execute_reply": "2021-09-03T14:25:55.646764Z"
    },
    "papermill": {
     "duration": 0.06901,
     "end_time": "2021-09-03T14:25:55.646902",
     "exception": false,
     "start_time": "2021-09-03T14:25:55.577892",
     "status": "completed"
    },
    "tags": []
   },
   "outputs": [],
   "source": [
    "test_features.set_format(type=test_features.format[\"type\"], columns=list(test_features.features.keys()))"
   ]
  },
  {
   "cell_type": "code",
   "execution_count": 50,
   "id": "7df8c59a",
   "metadata": {
    "execution": {
     "iopub.execute_input": "2021-09-03T14:25:55.901319Z",
     "iopub.status.busy": "2021-09-03T14:25:55.900503Z",
     "iopub.status.idle": "2021-09-03T14:25:56.180468Z",
     "shell.execute_reply": "2021-09-03T14:25:56.180028Z"
    },
    "papermill": {
     "duration": 0.475279,
     "end_time": "2021-09-03T14:25:56.180584",
     "exception": false,
     "start_time": "2021-09-03T14:25:55.705305",
     "status": "completed"
    },
    "tags": []
   },
   "outputs": [
    {
     "name": "stdout",
     "output_type": "stream",
     "text": [
      "Post-processing 5 example predictions split into 67 features.\n"
     ]
    },
    {
     "data": {
      "application/vnd.jupyter.widget-view+json": {
       "model_id": "1ae504199d3b403aac15c89a998c8713",
       "version_major": 2,
       "version_minor": 0
      },
      "text/plain": [
       "  0%|          | 0/5 [00:00<?, ?it/s]"
      ]
     },
     "metadata": {},
     "output_type": "display_data"
    }
   ],
   "source": [
    "final_test_predictions = postprocess_qa_predictions(test_dataset, test_features, test_predictions.predictions)"
   ]
  },
  {
   "cell_type": "code",
   "execution_count": 51,
   "id": "1b5c5cdb",
   "metadata": {
    "execution": {
     "iopub.execute_input": "2021-09-03T14:25:56.304682Z",
     "iopub.status.busy": "2021-09-03T14:25:56.304064Z",
     "iopub.status.idle": "2021-09-03T14:25:56.308363Z",
     "shell.execute_reply": "2021-09-03T14:25:56.308760Z"
    },
    "papermill": {
     "duration": 0.068511,
     "end_time": "2021-09-03T14:25:56.308891",
     "exception": false,
     "start_time": "2021-09-03T14:25:56.240380",
     "status": "completed"
    },
    "tags": []
   },
   "outputs": [
    {
     "data": {
      "text/plain": [
       "OrderedDict([('22bff3dec', ' येलन चीन'),\n",
       "             ('282758170', ' जून 2005'),\n",
       "             ('d60987e0e', '१२ मार्च १८२४'),\n",
       "             ('f99c770dc', ' 13'),\n",
       "             ('40dec1964', 'சுவாமிநாதன் மற்றும் வர்கீஸ் குரியன்')])"
      ]
     },
     "execution_count": 51,
     "metadata": {},
     "output_type": "execute_result"
    }
   ],
   "source": [
    "final_test_predictions"
   ]
  },
  {
   "cell_type": "code",
   "execution_count": 52,
   "id": "8ab79350",
   "metadata": {
    "execution": {
     "iopub.execute_input": "2021-09-03T14:25:56.442277Z",
     "iopub.status.busy": "2021-09-03T14:25:56.441659Z",
     "iopub.status.idle": "2021-09-03T14:25:56.444846Z",
     "shell.execute_reply": "2021-09-03T14:25:56.445263Z"
    },
    "papermill": {
     "duration": 0.074163,
     "end_time": "2021-09-03T14:25:56.445392",
     "exception": false,
     "start_time": "2021-09-03T14:25:56.371229",
     "status": "completed"
    },
    "tags": []
   },
   "outputs": [
    {
     "data": {
      "text/html": [
       "<div>\n",
       "<style scoped>\n",
       "    .dataframe tbody tr th:only-of-type {\n",
       "        vertical-align: middle;\n",
       "    }\n",
       "\n",
       "    .dataframe tbody tr th {\n",
       "        vertical-align: top;\n",
       "    }\n",
       "\n",
       "    .dataframe thead th {\n",
       "        text-align: right;\n",
       "    }\n",
       "</style>\n",
       "<table border=\"1\" class=\"dataframe\">\n",
       "  <thead>\n",
       "    <tr style=\"text-align: right;\">\n",
       "      <th></th>\n",
       "      <th>id</th>\n",
       "      <th>PredictionString</th>\n",
       "    </tr>\n",
       "  </thead>\n",
       "  <tbody>\n",
       "    <tr>\n",
       "      <th>0</th>\n",
       "      <td>22bff3dec</td>\n",
       "      <td>NaN</td>\n",
       "    </tr>\n",
       "    <tr>\n",
       "      <th>1</th>\n",
       "      <td>282758170</td>\n",
       "      <td>NaN</td>\n",
       "    </tr>\n",
       "    <tr>\n",
       "      <th>2</th>\n",
       "      <td>d60987e0e</td>\n",
       "      <td>NaN</td>\n",
       "    </tr>\n",
       "    <tr>\n",
       "      <th>3</th>\n",
       "      <td>f99c770dc</td>\n",
       "      <td>NaN</td>\n",
       "    </tr>\n",
       "    <tr>\n",
       "      <th>4</th>\n",
       "      <td>40dec1964</td>\n",
       "      <td>NaN</td>\n",
       "    </tr>\n",
       "  </tbody>\n",
       "</table>\n",
       "</div>"
      ],
      "text/plain": [
       "          id  PredictionString\n",
       "0  22bff3dec               NaN\n",
       "1  282758170               NaN\n",
       "2  d60987e0e               NaN\n",
       "3  f99c770dc               NaN\n",
       "4  40dec1964               NaN"
      ]
     },
     "execution_count": 52,
     "metadata": {},
     "output_type": "execute_result"
    }
   ],
   "source": [
    "sample_submission"
   ]
  },
  {
   "cell_type": "code",
   "execution_count": 53,
   "id": "b14ddbee",
   "metadata": {
    "execution": {
     "iopub.execute_input": "2021-09-03T14:25:56.576179Z",
     "iopub.status.busy": "2021-09-03T14:25:56.575627Z",
     "iopub.status.idle": "2021-09-03T14:25:56.578724Z",
     "shell.execute_reply": "2021-09-03T14:25:56.579119Z"
    },
    "papermill": {
     "duration": 0.073295,
     "end_time": "2021-09-03T14:25:56.579240",
     "exception": false,
     "start_time": "2021-09-03T14:25:56.505945",
     "status": "completed"
    },
    "tags": []
   },
   "outputs": [
    {
     "data": {
      "text/html": [
       "<div>\n",
       "<style scoped>\n",
       "    .dataframe tbody tr th:only-of-type {\n",
       "        vertical-align: middle;\n",
       "    }\n",
       "\n",
       "    .dataframe tbody tr th {\n",
       "        vertical-align: top;\n",
       "    }\n",
       "\n",
       "    .dataframe thead th {\n",
       "        text-align: right;\n",
       "    }\n",
       "</style>\n",
       "<table border=\"1\" class=\"dataframe\">\n",
       "  <thead>\n",
       "    <tr style=\"text-align: right;\">\n",
       "      <th></th>\n",
       "      <th>id</th>\n",
       "      <th>PredictionString</th>\n",
       "    </tr>\n",
       "  </thead>\n",
       "  <tbody>\n",
       "    <tr>\n",
       "      <th>0</th>\n",
       "      <td>22bff3dec</td>\n",
       "      <td>येलन चीन</td>\n",
       "    </tr>\n",
       "    <tr>\n",
       "      <th>1</th>\n",
       "      <td>282758170</td>\n",
       "      <td>जून 2005</td>\n",
       "    </tr>\n",
       "    <tr>\n",
       "      <th>2</th>\n",
       "      <td>d60987e0e</td>\n",
       "      <td>१२ मार्च १८२४</td>\n",
       "    </tr>\n",
       "    <tr>\n",
       "      <th>3</th>\n",
       "      <td>f99c770dc</td>\n",
       "      <td>13</td>\n",
       "    </tr>\n",
       "    <tr>\n",
       "      <th>4</th>\n",
       "      <td>40dec1964</td>\n",
       "      <td>சுவாமிநாதன் மற்றும் வர்கீஸ் குரியன்</td>\n",
       "    </tr>\n",
       "  </tbody>\n",
       "</table>\n",
       "</div>"
      ],
      "text/plain": [
       "          id                     PredictionString\n",
       "0  22bff3dec                             येलन चीन\n",
       "1  282758170                             जून 2005\n",
       "2  d60987e0e                        १२ मार्च १८२४\n",
       "3  f99c770dc                                   13\n",
       "4  40dec1964  சுவாமிநாதன் மற்றும் வர்கீஸ் குரியன்"
      ]
     },
     "execution_count": 53,
     "metadata": {},
     "output_type": "execute_result"
    }
   ],
   "source": [
    "sub =  sample_submission.copy()\n",
    "sub['PredictionString'] = sub['id'].apply(lambda r: final_test_predictions[r])\n",
    "sub.head()"
   ]
  },
  {
   "cell_type": "code",
   "execution_count": 54,
   "id": "9166977f",
   "metadata": {
    "execution": {
     "iopub.execute_input": "2021-09-03T14:25:56.709526Z",
     "iopub.status.busy": "2021-09-03T14:25:56.708874Z",
     "iopub.status.idle": "2021-09-03T14:25:56.715447Z",
     "shell.execute_reply": "2021-09-03T14:25:56.715002Z"
    },
    "papermill": {
     "duration": 0.075172,
     "end_time": "2021-09-03T14:25:56.715565",
     "exception": false,
     "start_time": "2021-09-03T14:25:56.640393",
     "status": "completed"
    },
    "tags": []
   },
   "outputs": [],
   "source": [
    "sub.to_csv('submission.csv', index=False)"
   ]
  }
 ],
 "metadata": {
  "kernelspec": {
   "display_name": "Python 3",
   "language": "python",
   "name": "python3"
  },
  "language_info": {
   "codemirror_mode": {
    "name": "ipython",
    "version": 3
   },
   "file_extension": ".py",
   "mimetype": "text/x-python",
   "name": "python",
   "nbconvert_exporter": "python",
   "pygments_lexer": "ipython3",
   "version": "3.7.10"
  },
  "papermill": {
   "default_parameters": {},
   "duration": 2294.538518,
   "end_time": "2021-09-03T14:25:59.846435",
   "environment_variables": {},
   "exception": null,
   "input_path": "__notebook__.ipynb",
   "output_path": "__notebook__.ipynb",
   "parameters": {},
   "start_time": "2021-09-03T13:47:45.307917",
   "version": "2.3.3"
  },
  "widgets": {
   "application/vnd.jupyter.widget-state+json": {
    "state": {
     "009dca461ab3495e9e22d21199d57990": {
      "model_module": "@jupyter-widgets/controls",
      "model_module_version": "1.5.0",
      "model_name": "ProgressStyleModel",
      "state": {
       "_model_module": "@jupyter-widgets/controls",
       "_model_module_version": "1.5.0",
       "_model_name": "ProgressStyleModel",
       "_view_count": null,
       "_view_module": "@jupyter-widgets/base",
       "_view_module_version": "1.2.0",
       "_view_name": "StyleView",
       "bar_color": null,
       "description_width": ""
      }
     },
     "010e90a530194c27962da18e9ea11125": {
      "model_module": "@jupyter-widgets/controls",
      "model_module_version": "1.5.0",
      "model_name": "HTMLModel",
      "state": {
       "_dom_classes": [],
       "_model_module": "@jupyter-widgets/controls",
       "_model_module_version": "1.5.0",
       "_model_name": "HTMLModel",
       "_view_count": null,
       "_view_module": "@jupyter-widgets/controls",
       "_view_module_version": "1.5.0",
       "_view_name": "HTMLView",
       "description": "",
       "description_tooltip": null,
       "layout": "IPY_MODEL_0d8e38fb9c9e462285e756d6c92b4463",
       "placeholder": "​",
       "style": "IPY_MODEL_92c803b199ef480f8b29669dea79bd86",
       "value": "100%"
      }
     },
     "020da994dc674a76bd84473a75befc82": {
      "model_module": "@jupyter-widgets/controls",
      "model_module_version": "1.5.0",
      "model_name": "DescriptionStyleModel",
      "state": {
       "_model_module": "@jupyter-widgets/controls",
       "_model_module_version": "1.5.0",
       "_model_name": "DescriptionStyleModel",
       "_view_count": null,
       "_view_module": "@jupyter-widgets/base",
       "_view_module_version": "1.2.0",
       "_view_name": "StyleView",
       "description_width": ""
      }
     },
     "03f01883f35e4be49386f75b43140530": {
      "model_module": "@jupyter-widgets/base",
      "model_module_version": "1.2.0",
      "model_name": "LayoutModel",
      "state": {
       "_model_module": "@jupyter-widgets/base",
       "_model_module_version": "1.2.0",
       "_model_name": "LayoutModel",
       "_view_count": null,
       "_view_module": "@jupyter-widgets/base",
       "_view_module_version": "1.2.0",
       "_view_name": "LayoutView",
       "align_content": null,
       "align_items": null,
       "align_self": null,
       "border": null,
       "bottom": null,
       "display": null,
       "flex": null,
       "flex_flow": null,
       "grid_area": null,
       "grid_auto_columns": null,
       "grid_auto_flow": null,
       "grid_auto_rows": null,
       "grid_column": null,
       "grid_gap": null,
       "grid_row": null,
       "grid_template_areas": null,
       "grid_template_columns": null,
       "grid_template_rows": null,
       "height": null,
       "justify_content": null,
       "justify_items": null,
       "left": null,
       "margin": null,
       "max_height": null,
       "max_width": null,
       "min_height": null,
       "min_width": null,
       "object_fit": null,
       "object_position": null,
       "order": null,
       "overflow": null,
       "overflow_x": null,
       "overflow_y": null,
       "padding": null,
       "right": null,
       "top": null,
       "visibility": null,
       "width": null
      }
     },
     "04cc6a9d969547b6b1a46f2f30ab2ad4": {
      "model_module": "@jupyter-widgets/controls",
      "model_module_version": "1.5.0",
      "model_name": "HTMLModel",
      "state": {
       "_dom_classes": [],
       "_model_module": "@jupyter-widgets/controls",
       "_model_module_version": "1.5.0",
       "_model_name": "HTMLModel",
       "_view_count": null,
       "_view_module": "@jupyter-widgets/controls",
       "_view_module_version": "1.5.0",
       "_view_name": "HTMLView",
       "description": "",
       "description_tooltip": null,
       "layout": "IPY_MODEL_fb0dfd71c7724dcb9a5e9eede691e339",
       "placeholder": "​",
       "style": "IPY_MODEL_f59b77cdbbb04a98b8b3cc3921c3fa1a",
       "value": "100%"
      }
     },
     "0c30d84f3dc046c0a186ffc4955412d4": {
      "model_module": "@jupyter-widgets/controls",
      "model_module_version": "1.5.0",
      "model_name": "FloatProgressModel",
      "state": {
       "_dom_classes": [],
       "_model_module": "@jupyter-widgets/controls",
       "_model_module_version": "1.5.0",
       "_model_name": "FloatProgressModel",
       "_view_count": null,
       "_view_module": "@jupyter-widgets/controls",
       "_view_module_version": "1.5.0",
       "_view_name": "ProgressView",
       "bar_style": "success",
       "description": "",
       "description_tooltip": null,
       "layout": "IPY_MODEL_63943651296b4dd1b38847cab83c6c5d",
       "max": 1.0,
       "min": 0.0,
       "orientation": "horizontal",
       "style": "IPY_MODEL_c2da28c5d74f4e7e857839f3523c09fa",
       "value": 1.0
      }
     },
     "0d8e38fb9c9e462285e756d6c92b4463": {
      "model_module": "@jupyter-widgets/base",
      "model_module_version": "1.2.0",
      "model_name": "LayoutModel",
      "state": {
       "_model_module": "@jupyter-widgets/base",
       "_model_module_version": "1.2.0",
       "_model_name": "LayoutModel",
       "_view_count": null,
       "_view_module": "@jupyter-widgets/base",
       "_view_module_version": "1.2.0",
       "_view_name": "LayoutView",
       "align_content": null,
       "align_items": null,
       "align_self": null,
       "border": null,
       "bottom": null,
       "display": null,
       "flex": null,
       "flex_flow": null,
       "grid_area": null,
       "grid_auto_columns": null,
       "grid_auto_flow": null,
       "grid_auto_rows": null,
       "grid_column": null,
       "grid_gap": null,
       "grid_row": null,
       "grid_template_areas": null,
       "grid_template_columns": null,
       "grid_template_rows": null,
       "height": null,
       "justify_content": null,
       "justify_items": null,
       "left": null,
       "margin": null,
       "max_height": null,
       "max_width": null,
       "min_height": null,
       "min_width": null,
       "object_fit": null,
       "object_position": null,
       "order": null,
       "overflow": null,
       "overflow_x": null,
       "overflow_y": null,
       "padding": null,
       "right": null,
       "top": null,
       "visibility": null,
       "width": null
      }
     },
     "0ead3d31fda5441bb68411c783c3bcc4": {
      "model_module": "@jupyter-widgets/base",
      "model_module_version": "1.2.0",
      "model_name": "LayoutModel",
      "state": {
       "_model_module": "@jupyter-widgets/base",
       "_model_module_version": "1.2.0",
       "_model_name": "LayoutModel",
       "_view_count": null,
       "_view_module": "@jupyter-widgets/base",
       "_view_module_version": "1.2.0",
       "_view_name": "LayoutView",
       "align_content": null,
       "align_items": null,
       "align_self": null,
       "border": null,
       "bottom": null,
       "display": null,
       "flex": null,
       "flex_flow": null,
       "grid_area": null,
       "grid_auto_columns": null,
       "grid_auto_flow": null,
       "grid_auto_rows": null,
       "grid_column": null,
       "grid_gap": null,
       "grid_row": null,
       "grid_template_areas": null,
       "grid_template_columns": null,
       "grid_template_rows": null,
       "height": null,
       "justify_content": null,
       "justify_items": null,
       "left": null,
       "margin": null,
       "max_height": null,
       "max_width": null,
       "min_height": null,
       "min_width": null,
       "object_fit": null,
       "object_position": null,
       "order": null,
       "overflow": null,
       "overflow_x": null,
       "overflow_y": null,
       "padding": null,
       "right": null,
       "top": null,
       "visibility": null,
       "width": null
      }
     },
     "160bedfb00554ad69892f8392cdabc2d": {
      "model_module": "@jupyter-widgets/controls",
      "model_module_version": "1.5.0",
      "model_name": "HTMLModel",
      "state": {
       "_dom_classes": [],
       "_model_module": "@jupyter-widgets/controls",
       "_model_module_version": "1.5.0",
       "_model_name": "HTMLModel",
       "_view_count": null,
       "_view_module": "@jupyter-widgets/controls",
       "_view_module_version": "1.5.0",
       "_view_name": "HTMLView",
       "description": "",
       "description_tooltip": null,
       "layout": "IPY_MODEL_192c57d4eda040e7b7c739c6e456c3e8",
       "placeholder": "​",
       "style": "IPY_MODEL_516c03188e6b4fc6b7a0713eac99d717",
       "value": " 1/1 [00:04&lt;00:00,  4.25s/ba]"
      }
     },
     "192c57d4eda040e7b7c739c6e456c3e8": {
      "model_module": "@jupyter-widgets/base",
      "model_module_version": "1.2.0",
      "model_name": "LayoutModel",
      "state": {
       "_model_module": "@jupyter-widgets/base",
       "_model_module_version": "1.2.0",
       "_model_name": "LayoutModel",
       "_view_count": null,
       "_view_module": "@jupyter-widgets/base",
       "_view_module_version": "1.2.0",
       "_view_name": "LayoutView",
       "align_content": null,
       "align_items": null,
       "align_self": null,
       "border": null,
       "bottom": null,
       "display": null,
       "flex": null,
       "flex_flow": null,
       "grid_area": null,
       "grid_auto_columns": null,
       "grid_auto_flow": null,
       "grid_auto_rows": null,
       "grid_column": null,
       "grid_gap": null,
       "grid_row": null,
       "grid_template_areas": null,
       "grid_template_columns": null,
       "grid_template_rows": null,
       "height": null,
       "justify_content": null,
       "justify_items": null,
       "left": null,
       "margin": null,
       "max_height": null,
       "max_width": null,
       "min_height": null,
       "min_width": null,
       "object_fit": null,
       "object_position": null,
       "order": null,
       "overflow": null,
       "overflow_x": null,
       "overflow_y": null,
       "padding": null,
       "right": null,
       "top": null,
       "visibility": null,
       "width": null
      }
     },
     "1ae504199d3b403aac15c89a998c8713": {
      "model_module": "@jupyter-widgets/controls",
      "model_module_version": "1.5.0",
      "model_name": "HBoxModel",
      "state": {
       "_dom_classes": [],
       "_model_module": "@jupyter-widgets/controls",
       "_model_module_version": "1.5.0",
       "_model_name": "HBoxModel",
       "_view_count": null,
       "_view_module": "@jupyter-widgets/controls",
       "_view_module_version": "1.5.0",
       "_view_name": "HBoxView",
       "box_style": "",
       "children": [
        "IPY_MODEL_771474bf26d042ffb16dd135a04d9b76",
        "IPY_MODEL_d5f32ca7aa6c4f41aeec36e48ecf5d61",
        "IPY_MODEL_f205b9f8fcde4a3a836de00bfddbbf11"
       ],
       "layout": "IPY_MODEL_1b9179047f5249b784ec7268e7d7ed7e"
      }
     },
     "1b9179047f5249b784ec7268e7d7ed7e": {
      "model_module": "@jupyter-widgets/base",
      "model_module_version": "1.2.0",
      "model_name": "LayoutModel",
      "state": {
       "_model_module": "@jupyter-widgets/base",
       "_model_module_version": "1.2.0",
       "_model_name": "LayoutModel",
       "_view_count": null,
       "_view_module": "@jupyter-widgets/base",
       "_view_module_version": "1.2.0",
       "_view_name": "LayoutView",
       "align_content": null,
       "align_items": null,
       "align_self": null,
       "border": null,
       "bottom": null,
       "display": null,
       "flex": null,
       "flex_flow": null,
       "grid_area": null,
       "grid_auto_columns": null,
       "grid_auto_flow": null,
       "grid_auto_rows": null,
       "grid_column": null,
       "grid_gap": null,
       "grid_row": null,
       "grid_template_areas": null,
       "grid_template_columns": null,
       "grid_template_rows": null,
       "height": null,
       "justify_content": null,
       "justify_items": null,
       "left": null,
       "margin": null,
       "max_height": null,
       "max_width": null,
       "min_height": null,
       "min_width": null,
       "object_fit": null,
       "object_position": null,
       "order": null,
       "overflow": null,
       "overflow_x": null,
       "overflow_y": null,
       "padding": null,
       "right": null,
       "top": null,
       "visibility": null,
       "width": null
      }
     },
     "1bc5f26382c44246aee36e06eff17993": {
      "model_module": "@jupyter-widgets/controls",
      "model_module_version": "1.5.0",
      "model_name": "DescriptionStyleModel",
      "state": {
       "_model_module": "@jupyter-widgets/controls",
       "_model_module_version": "1.5.0",
       "_model_name": "DescriptionStyleModel",
       "_view_count": null,
       "_view_module": "@jupyter-widgets/base",
       "_view_module_version": "1.2.0",
       "_view_name": "StyleView",
       "description_width": ""
      }
     },
     "1c581b9184da4d398faa0ba2a67b5f06": {
      "model_module": "@jupyter-widgets/base",
      "model_module_version": "1.2.0",
      "model_name": "LayoutModel",
      "state": {
       "_model_module": "@jupyter-widgets/base",
       "_model_module_version": "1.2.0",
       "_model_name": "LayoutModel",
       "_view_count": null,
       "_view_module": "@jupyter-widgets/base",
       "_view_module_version": "1.2.0",
       "_view_name": "LayoutView",
       "align_content": null,
       "align_items": null,
       "align_self": null,
       "border": null,
       "bottom": null,
       "display": null,
       "flex": null,
       "flex_flow": null,
       "grid_area": null,
       "grid_auto_columns": null,
       "grid_auto_flow": null,
       "grid_auto_rows": null,
       "grid_column": null,
       "grid_gap": null,
       "grid_row": null,
       "grid_template_areas": null,
       "grid_template_columns": null,
       "grid_template_rows": null,
       "height": null,
       "justify_content": null,
       "justify_items": null,
       "left": null,
       "margin": null,
       "max_height": null,
       "max_width": null,
       "min_height": null,
       "min_width": null,
       "object_fit": null,
       "object_position": null,
       "order": null,
       "overflow": null,
       "overflow_x": null,
       "overflow_y": null,
       "padding": null,
       "right": null,
       "top": null,
       "visibility": null,
       "width": null
      }
     },
     "1e8d3d316fe547eaa717952a57d96734": {
      "model_module": "@jupyter-widgets/controls",
      "model_module_version": "1.5.0",
      "model_name": "HTMLModel",
      "state": {
       "_dom_classes": [],
       "_model_module": "@jupyter-widgets/controls",
       "_model_module_version": "1.5.0",
       "_model_name": "HTMLModel",
       "_view_count": null,
       "_view_module": "@jupyter-widgets/controls",
       "_view_module_version": "1.5.0",
       "_view_name": "HTMLView",
       "description": "",
       "description_tooltip": null,
       "layout": "IPY_MODEL_4a5f9442cc0c49eea0b40aecbab36575",
       "placeholder": "​",
       "style": "IPY_MODEL_924c192700264e67be7cdba0776bef81",
       "value": " 64/64 [00:02&lt;00:00, 24.62it/s]"
      }
     },
     "1f0bd23359b64c7abd38fa9783bbdfa3": {
      "model_module": "@jupyter-widgets/base",
      "model_module_version": "1.2.0",
      "model_name": "LayoutModel",
      "state": {
       "_model_module": "@jupyter-widgets/base",
       "_model_module_version": "1.2.0",
       "_model_name": "LayoutModel",
       "_view_count": null,
       "_view_module": "@jupyter-widgets/base",
       "_view_module_version": "1.2.0",
       "_view_name": "LayoutView",
       "align_content": null,
       "align_items": null,
       "align_self": null,
       "border": null,
       "bottom": null,
       "display": null,
       "flex": null,
       "flex_flow": null,
       "grid_area": null,
       "grid_auto_columns": null,
       "grid_auto_flow": null,
       "grid_auto_rows": null,
       "grid_column": null,
       "grid_gap": null,
       "grid_row": null,
       "grid_template_areas": null,
       "grid_template_columns": null,
       "grid_template_rows": null,
       "height": null,
       "justify_content": null,
       "justify_items": null,
       "left": null,
       "margin": null,
       "max_height": null,
       "max_width": null,
       "min_height": null,
       "min_width": null,
       "object_fit": null,
       "object_position": null,
       "order": null,
       "overflow": null,
       "overflow_x": null,
       "overflow_y": null,
       "padding": null,
       "right": null,
       "top": null,
       "visibility": null,
       "width": null
      }
     },
     "22e6401f18a4489b814bdec4c1b28b72": {
      "model_module": "@jupyter-widgets/controls",
      "model_module_version": "1.5.0",
      "model_name": "ProgressStyleModel",
      "state": {
       "_model_module": "@jupyter-widgets/controls",
       "_model_module_version": "1.5.0",
       "_model_name": "ProgressStyleModel",
       "_view_count": null,
       "_view_module": "@jupyter-widgets/base",
       "_view_module_version": "1.2.0",
       "_view_name": "StyleView",
       "bar_color": null,
       "description_width": ""
      }
     },
     "2dfedb009d2b48a89eb68ee64945b94c": {
      "model_module": "@jupyter-widgets/controls",
      "model_module_version": "1.5.0",
      "model_name": "HBoxModel",
      "state": {
       "_dom_classes": [],
       "_model_module": "@jupyter-widgets/controls",
       "_model_module_version": "1.5.0",
       "_model_name": "HBoxModel",
       "_view_count": null,
       "_view_module": "@jupyter-widgets/controls",
       "_view_module_version": "1.5.0",
       "_view_name": "HBoxView",
       "box_style": "",
       "children": [
        "IPY_MODEL_04cc6a9d969547b6b1a46f2f30ab2ad4",
        "IPY_MODEL_c0056c16a9ba4d679ed7a8436bc1daf9",
        "IPY_MODEL_f41a36bdd64645118a6531e5c78661db"
       ],
       "layout": "IPY_MODEL_d51d269de7cf4cd387c537f3593f9aad"
      }
     },
     "37d75279078340bb9e9ce27d1031fd44": {
      "model_module": "@jupyter-widgets/controls",
      "model_module_version": "1.5.0",
      "model_name": "DescriptionStyleModel",
      "state": {
       "_model_module": "@jupyter-widgets/controls",
       "_model_module_version": "1.5.0",
       "_model_name": "DescriptionStyleModel",
       "_view_count": null,
       "_view_module": "@jupyter-widgets/base",
       "_view_module_version": "1.2.0",
       "_view_name": "StyleView",
       "description_width": ""
      }
     },
     "3a224cfb1e1d4edf8c67908591bd2d5a": {
      "model_module": "@jupyter-widgets/base",
      "model_module_version": "1.2.0",
      "model_name": "LayoutModel",
      "state": {
       "_model_module": "@jupyter-widgets/base",
       "_model_module_version": "1.2.0",
       "_model_name": "LayoutModel",
       "_view_count": null,
       "_view_module": "@jupyter-widgets/base",
       "_view_module_version": "1.2.0",
       "_view_name": "LayoutView",
       "align_content": null,
       "align_items": null,
       "align_self": null,
       "border": null,
       "bottom": null,
       "display": null,
       "flex": null,
       "flex_flow": null,
       "grid_area": null,
       "grid_auto_columns": null,
       "grid_auto_flow": null,
       "grid_auto_rows": null,
       "grid_column": null,
       "grid_gap": null,
       "grid_row": null,
       "grid_template_areas": null,
       "grid_template_columns": null,
       "grid_template_rows": null,
       "height": null,
       "justify_content": null,
       "justify_items": null,
       "left": null,
       "margin": null,
       "max_height": null,
       "max_width": null,
       "min_height": null,
       "min_width": null,
       "object_fit": null,
       "object_position": null,
       "order": null,
       "overflow": null,
       "overflow_x": null,
       "overflow_y": null,
       "padding": null,
       "right": null,
       "top": null,
       "visibility": null,
       "width": null
      }
     },
     "40760b2bf3c74d52b87772aebb004c46": {
      "model_module": "@jupyter-widgets/base",
      "model_module_version": "1.2.0",
      "model_name": "LayoutModel",
      "state": {
       "_model_module": "@jupyter-widgets/base",
       "_model_module_version": "1.2.0",
       "_model_name": "LayoutModel",
       "_view_count": null,
       "_view_module": "@jupyter-widgets/base",
       "_view_module_version": "1.2.0",
       "_view_name": "LayoutView",
       "align_content": null,
       "align_items": null,
       "align_self": null,
       "border": null,
       "bottom": null,
       "display": null,
       "flex": null,
       "flex_flow": null,
       "grid_area": null,
       "grid_auto_columns": null,
       "grid_auto_flow": null,
       "grid_auto_rows": null,
       "grid_column": null,
       "grid_gap": null,
       "grid_row": null,
       "grid_template_areas": null,
       "grid_template_columns": null,
       "grid_template_rows": null,
       "height": null,
       "justify_content": null,
       "justify_items": null,
       "left": null,
       "margin": null,
       "max_height": null,
       "max_width": null,
       "min_height": null,
       "min_width": null,
       "object_fit": null,
       "object_position": null,
       "order": null,
       "overflow": null,
       "overflow_x": null,
       "overflow_y": null,
       "padding": null,
       "right": null,
       "top": null,
       "visibility": null,
       "width": null
      }
     },
     "461e0e6b0b6e451298933de2e8324c9b": {
      "model_module": "@jupyter-widgets/base",
      "model_module_version": "1.2.0",
      "model_name": "LayoutModel",
      "state": {
       "_model_module": "@jupyter-widgets/base",
       "_model_module_version": "1.2.0",
       "_model_name": "LayoutModel",
       "_view_count": null,
       "_view_module": "@jupyter-widgets/base",
       "_view_module_version": "1.2.0",
       "_view_name": "LayoutView",
       "align_content": null,
       "align_items": null,
       "align_self": null,
       "border": null,
       "bottom": null,
       "display": null,
       "flex": null,
       "flex_flow": null,
       "grid_area": null,
       "grid_auto_columns": null,
       "grid_auto_flow": null,
       "grid_auto_rows": null,
       "grid_column": null,
       "grid_gap": null,
       "grid_row": null,
       "grid_template_areas": null,
       "grid_template_columns": null,
       "grid_template_rows": null,
       "height": null,
       "justify_content": null,
       "justify_items": null,
       "left": null,
       "margin": null,
       "max_height": null,
       "max_width": null,
       "min_height": null,
       "min_width": null,
       "object_fit": null,
       "object_position": null,
       "order": null,
       "overflow": null,
       "overflow_x": null,
       "overflow_y": null,
       "padding": null,
       "right": null,
       "top": null,
       "visibility": null,
       "width": null
      }
     },
     "47c4b6e1528b4d0f9a2493f7d47c2ac5": {
      "model_module": "@jupyter-widgets/controls",
      "model_module_version": "1.5.0",
      "model_name": "HBoxModel",
      "state": {
       "_dom_classes": [],
       "_model_module": "@jupyter-widgets/controls",
       "_model_module_version": "1.5.0",
       "_model_name": "HBoxModel",
       "_view_count": null,
       "_view_module": "@jupyter-widgets/controls",
       "_view_module_version": "1.5.0",
       "_view_name": "HBoxView",
       "box_style": "",
       "children": [
        "IPY_MODEL_dd0a7f03b95a4c35b37a183c05e965c3",
        "IPY_MODEL_69ddafa5879343fcb30e3c093c189364",
        "IPY_MODEL_8983b058ffee48cca6f3a9de509847b5"
       ],
       "layout": "IPY_MODEL_eebf15f297e84388ac955a7657a05dbb"
      }
     },
     "480b588612364dd6aded24ba96149d31": {
      "model_module": "@jupyter-widgets/base",
      "model_module_version": "1.2.0",
      "model_name": "LayoutModel",
      "state": {
       "_model_module": "@jupyter-widgets/base",
       "_model_module_version": "1.2.0",
       "_model_name": "LayoutModel",
       "_view_count": null,
       "_view_module": "@jupyter-widgets/base",
       "_view_module_version": "1.2.0",
       "_view_name": "LayoutView",
       "align_content": null,
       "align_items": null,
       "align_self": null,
       "border": null,
       "bottom": null,
       "display": null,
       "flex": null,
       "flex_flow": null,
       "grid_area": null,
       "grid_auto_columns": null,
       "grid_auto_flow": null,
       "grid_auto_rows": null,
       "grid_column": null,
       "grid_gap": null,
       "grid_row": null,
       "grid_template_areas": null,
       "grid_template_columns": null,
       "grid_template_rows": null,
       "height": null,
       "justify_content": null,
       "justify_items": null,
       "left": null,
       "margin": null,
       "max_height": null,
       "max_width": null,
       "min_height": null,
       "min_width": null,
       "object_fit": null,
       "object_position": null,
       "order": null,
       "overflow": null,
       "overflow_x": null,
       "overflow_y": null,
       "padding": null,
       "right": null,
       "top": null,
       "visibility": null,
       "width": null
      }
     },
     "4a5f9442cc0c49eea0b40aecbab36575": {
      "model_module": "@jupyter-widgets/base",
      "model_module_version": "1.2.0",
      "model_name": "LayoutModel",
      "state": {
       "_model_module": "@jupyter-widgets/base",
       "_model_module_version": "1.2.0",
       "_model_name": "LayoutModel",
       "_view_count": null,
       "_view_module": "@jupyter-widgets/base",
       "_view_module_version": "1.2.0",
       "_view_name": "LayoutView",
       "align_content": null,
       "align_items": null,
       "align_self": null,
       "border": null,
       "bottom": null,
       "display": null,
       "flex": null,
       "flex_flow": null,
       "grid_area": null,
       "grid_auto_columns": null,
       "grid_auto_flow": null,
       "grid_auto_rows": null,
       "grid_column": null,
       "grid_gap": null,
       "grid_row": null,
       "grid_template_areas": null,
       "grid_template_columns": null,
       "grid_template_rows": null,
       "height": null,
       "justify_content": null,
       "justify_items": null,
       "left": null,
       "margin": null,
       "max_height": null,
       "max_width": null,
       "min_height": null,
       "min_width": null,
       "object_fit": null,
       "object_position": null,
       "order": null,
       "overflow": null,
       "overflow_x": null,
       "overflow_y": null,
       "padding": null,
       "right": null,
       "top": null,
       "visibility": null,
       "width": null
      }
     },
     "4ad405145d054ca09df07d5bad524fd0": {
      "model_module": "@jupyter-widgets/base",
      "model_module_version": "1.2.0",
      "model_name": "LayoutModel",
      "state": {
       "_model_module": "@jupyter-widgets/base",
       "_model_module_version": "1.2.0",
       "_model_name": "LayoutModel",
       "_view_count": null,
       "_view_module": "@jupyter-widgets/base",
       "_view_module_version": "1.2.0",
       "_view_name": "LayoutView",
       "align_content": null,
       "align_items": null,
       "align_self": null,
       "border": null,
       "bottom": null,
       "display": null,
       "flex": null,
       "flex_flow": null,
       "grid_area": null,
       "grid_auto_columns": null,
       "grid_auto_flow": null,
       "grid_auto_rows": null,
       "grid_column": null,
       "grid_gap": null,
       "grid_row": null,
       "grid_template_areas": null,
       "grid_template_columns": null,
       "grid_template_rows": null,
       "height": null,
       "justify_content": null,
       "justify_items": null,
       "left": null,
       "margin": null,
       "max_height": null,
       "max_width": null,
       "min_height": null,
       "min_width": null,
       "object_fit": null,
       "object_position": null,
       "order": null,
       "overflow": null,
       "overflow_x": null,
       "overflow_y": null,
       "padding": null,
       "right": null,
       "top": null,
       "visibility": null,
       "width": null
      }
     },
     "4b5a6cc950d64786b09366a589095f73": {
      "model_module": "@jupyter-widgets/controls",
      "model_module_version": "1.5.0",
      "model_name": "FloatProgressModel",
      "state": {
       "_dom_classes": [],
       "_model_module": "@jupyter-widgets/controls",
       "_model_module_version": "1.5.0",
       "_model_name": "FloatProgressModel",
       "_view_count": null,
       "_view_module": "@jupyter-widgets/controls",
       "_view_module_version": "1.5.0",
       "_view_name": "ProgressView",
       "bar_style": "success",
       "description": "",
       "description_tooltip": null,
       "layout": "IPY_MODEL_58556da428b040afa886ce1a5972155c",
       "max": 1.0,
       "min": 0.0,
       "orientation": "horizontal",
       "style": "IPY_MODEL_f1f3119574b741e9b42669ee3e69d30c",
       "value": 1.0
      }
     },
     "4bc800d415ae4a21a3be619a09923e52": {
      "model_module": "@jupyter-widgets/base",
      "model_module_version": "1.2.0",
      "model_name": "LayoutModel",
      "state": {
       "_model_module": "@jupyter-widgets/base",
       "_model_module_version": "1.2.0",
       "_model_name": "LayoutModel",
       "_view_count": null,
       "_view_module": "@jupyter-widgets/base",
       "_view_module_version": "1.2.0",
       "_view_name": "LayoutView",
       "align_content": null,
       "align_items": null,
       "align_self": null,
       "border": null,
       "bottom": null,
       "display": null,
       "flex": null,
       "flex_flow": null,
       "grid_area": null,
       "grid_auto_columns": null,
       "grid_auto_flow": null,
       "grid_auto_rows": null,
       "grid_column": null,
       "grid_gap": null,
       "grid_row": null,
       "grid_template_areas": null,
       "grid_template_columns": null,
       "grid_template_rows": null,
       "height": null,
       "justify_content": null,
       "justify_items": null,
       "left": null,
       "margin": null,
       "max_height": null,
       "max_width": null,
       "min_height": null,
       "min_width": null,
       "object_fit": null,
       "object_position": null,
       "order": null,
       "overflow": null,
       "overflow_x": null,
       "overflow_y": null,
       "padding": null,
       "right": null,
       "top": null,
       "visibility": null,
       "width": null
      }
     },
     "4fb523eb73cc409395d5edbdf9447d7a": {
      "model_module": "@jupyter-widgets/base",
      "model_module_version": "1.2.0",
      "model_name": "LayoutModel",
      "state": {
       "_model_module": "@jupyter-widgets/base",
       "_model_module_version": "1.2.0",
       "_model_name": "LayoutModel",
       "_view_count": null,
       "_view_module": "@jupyter-widgets/base",
       "_view_module_version": "1.2.0",
       "_view_name": "LayoutView",
       "align_content": null,
       "align_items": null,
       "align_self": null,
       "border": null,
       "bottom": null,
       "display": null,
       "flex": null,
       "flex_flow": null,
       "grid_area": null,
       "grid_auto_columns": null,
       "grid_auto_flow": null,
       "grid_auto_rows": null,
       "grid_column": null,
       "grid_gap": null,
       "grid_row": null,
       "grid_template_areas": null,
       "grid_template_columns": null,
       "grid_template_rows": null,
       "height": null,
       "justify_content": null,
       "justify_items": null,
       "left": null,
       "margin": null,
       "max_height": null,
       "max_width": null,
       "min_height": null,
       "min_width": null,
       "object_fit": null,
       "object_position": null,
       "order": null,
       "overflow": null,
       "overflow_x": null,
       "overflow_y": null,
       "padding": null,
       "right": null,
       "top": null,
       "visibility": null,
       "width": null
      }
     },
     "516c03188e6b4fc6b7a0713eac99d717": {
      "model_module": "@jupyter-widgets/controls",
      "model_module_version": "1.5.0",
      "model_name": "DescriptionStyleModel",
      "state": {
       "_model_module": "@jupyter-widgets/controls",
       "_model_module_version": "1.5.0",
       "_model_name": "DescriptionStyleModel",
       "_view_count": null,
       "_view_module": "@jupyter-widgets/base",
       "_view_module_version": "1.2.0",
       "_view_name": "StyleView",
       "description_width": ""
      }
     },
     "5691904839304d89a596f6d7b2fd4493": {
      "model_module": "@jupyter-widgets/controls",
      "model_module_version": "1.5.0",
      "model_name": "HBoxModel",
      "state": {
       "_dom_classes": [],
       "_model_module": "@jupyter-widgets/controls",
       "_model_module_version": "1.5.0",
       "_model_name": "HBoxModel",
       "_view_count": null,
       "_view_module": "@jupyter-widgets/controls",
       "_view_module_version": "1.5.0",
       "_view_name": "HBoxView",
       "box_style": "",
       "children": [
        "IPY_MODEL_6e34f81eec634ebdb4518ffc03d800a8",
        "IPY_MODEL_faef2c8f76924721a3c31dbdf2e828e6",
        "IPY_MODEL_1e8d3d316fe547eaa717952a57d96734"
       ],
       "layout": "IPY_MODEL_ca0722dd02e04db3a2f292bdb3a9ac1d"
      }
     },
     "56e07c93f8f343c79f4cba8e6eb23527": {
      "model_module": "@jupyter-widgets/base",
      "model_module_version": "1.2.0",
      "model_name": "LayoutModel",
      "state": {
       "_model_module": "@jupyter-widgets/base",
       "_model_module_version": "1.2.0",
       "_model_name": "LayoutModel",
       "_view_count": null,
       "_view_module": "@jupyter-widgets/base",
       "_view_module_version": "1.2.0",
       "_view_name": "LayoutView",
       "align_content": null,
       "align_items": null,
       "align_self": null,
       "border": null,
       "bottom": null,
       "display": null,
       "flex": null,
       "flex_flow": null,
       "grid_area": null,
       "grid_auto_columns": null,
       "grid_auto_flow": null,
       "grid_auto_rows": null,
       "grid_column": null,
       "grid_gap": null,
       "grid_row": null,
       "grid_template_areas": null,
       "grid_template_columns": null,
       "grid_template_rows": null,
       "height": null,
       "justify_content": null,
       "justify_items": null,
       "left": null,
       "margin": null,
       "max_height": null,
       "max_width": null,
       "min_height": null,
       "min_width": null,
       "object_fit": null,
       "object_position": null,
       "order": null,
       "overflow": null,
       "overflow_x": null,
       "overflow_y": null,
       "padding": null,
       "right": null,
       "top": null,
       "visibility": null,
       "width": null
      }
     },
     "58556da428b040afa886ce1a5972155c": {
      "model_module": "@jupyter-widgets/base",
      "model_module_version": "1.2.0",
      "model_name": "LayoutModel",
      "state": {
       "_model_module": "@jupyter-widgets/base",
       "_model_module_version": "1.2.0",
       "_model_name": "LayoutModel",
       "_view_count": null,
       "_view_module": "@jupyter-widgets/base",
       "_view_module_version": "1.2.0",
       "_view_name": "LayoutView",
       "align_content": null,
       "align_items": null,
       "align_self": null,
       "border": null,
       "bottom": null,
       "display": null,
       "flex": null,
       "flex_flow": null,
       "grid_area": null,
       "grid_auto_columns": null,
       "grid_auto_flow": null,
       "grid_auto_rows": null,
       "grid_column": null,
       "grid_gap": null,
       "grid_row": null,
       "grid_template_areas": null,
       "grid_template_columns": null,
       "grid_template_rows": null,
       "height": null,
       "justify_content": null,
       "justify_items": null,
       "left": null,
       "margin": null,
       "max_height": null,
       "max_width": null,
       "min_height": null,
       "min_width": null,
       "object_fit": null,
       "object_position": null,
       "order": null,
       "overflow": null,
       "overflow_x": null,
       "overflow_y": null,
       "padding": null,
       "right": null,
       "top": null,
       "visibility": null,
       "width": null
      }
     },
     "59e3d5437e844f3285d81844e3f81594": {
      "model_module": "@jupyter-widgets/controls",
      "model_module_version": "1.5.0",
      "model_name": "HTMLModel",
      "state": {
       "_dom_classes": [],
       "_model_module": "@jupyter-widgets/controls",
       "_model_module_version": "1.5.0",
       "_model_name": "HTMLModel",
       "_view_count": null,
       "_view_module": "@jupyter-widgets/controls",
       "_view_module_version": "1.5.0",
       "_view_name": "HTMLView",
       "description": "",
       "description_tooltip": null,
       "layout": "IPY_MODEL_4fb523eb73cc409395d5edbdf9447d7a",
       "placeholder": "​",
       "style": "IPY_MODEL_8e3fc45f1e9b4ba6a640e652e9535ac0",
       "value": "100%"
      }
     },
     "63943651296b4dd1b38847cab83c6c5d": {
      "model_module": "@jupyter-widgets/base",
      "model_module_version": "1.2.0",
      "model_name": "LayoutModel",
      "state": {
       "_model_module": "@jupyter-widgets/base",
       "_model_module_version": "1.2.0",
       "_model_name": "LayoutModel",
       "_view_count": null,
       "_view_module": "@jupyter-widgets/base",
       "_view_module_version": "1.2.0",
       "_view_name": "LayoutView",
       "align_content": null,
       "align_items": null,
       "align_self": null,
       "border": null,
       "bottom": null,
       "display": null,
       "flex": null,
       "flex_flow": null,
       "grid_area": null,
       "grid_auto_columns": null,
       "grid_auto_flow": null,
       "grid_auto_rows": null,
       "grid_column": null,
       "grid_gap": null,
       "grid_row": null,
       "grid_template_areas": null,
       "grid_template_columns": null,
       "grid_template_rows": null,
       "height": null,
       "justify_content": null,
       "justify_items": null,
       "left": null,
       "margin": null,
       "max_height": null,
       "max_width": null,
       "min_height": null,
       "min_width": null,
       "object_fit": null,
       "object_position": null,
       "order": null,
       "overflow": null,
       "overflow_x": null,
       "overflow_y": null,
       "padding": null,
       "right": null,
       "top": null,
       "visibility": null,
       "width": null
      }
     },
     "6765dc43e8414b4f95894385e0e4bc6b": {
      "model_module": "@jupyter-widgets/base",
      "model_module_version": "1.2.0",
      "model_name": "LayoutModel",
      "state": {
       "_model_module": "@jupyter-widgets/base",
       "_model_module_version": "1.2.0",
       "_model_name": "LayoutModel",
       "_view_count": null,
       "_view_module": "@jupyter-widgets/base",
       "_view_module_version": "1.2.0",
       "_view_name": "LayoutView",
       "align_content": null,
       "align_items": null,
       "align_self": null,
       "border": null,
       "bottom": null,
       "display": null,
       "flex": null,
       "flex_flow": null,
       "grid_area": null,
       "grid_auto_columns": null,
       "grid_auto_flow": null,
       "grid_auto_rows": null,
       "grid_column": null,
       "grid_gap": null,
       "grid_row": null,
       "grid_template_areas": null,
       "grid_template_columns": null,
       "grid_template_rows": null,
       "height": null,
       "justify_content": null,
       "justify_items": null,
       "left": null,
       "margin": null,
       "max_height": null,
       "max_width": null,
       "min_height": null,
       "min_width": null,
       "object_fit": null,
       "object_position": null,
       "order": null,
       "overflow": null,
       "overflow_x": null,
       "overflow_y": null,
       "padding": null,
       "right": null,
       "top": null,
       "visibility": null,
       "width": null
      }
     },
     "691d6beb933c46e59137252c06e8a2be": {
      "model_module": "@jupyter-widgets/controls",
      "model_module_version": "1.5.0",
      "model_name": "FloatProgressModel",
      "state": {
       "_dom_classes": [],
       "_model_module": "@jupyter-widgets/controls",
       "_model_module_version": "1.5.0",
       "_model_name": "FloatProgressModel",
       "_view_count": null,
       "_view_module": "@jupyter-widgets/controls",
       "_view_module_version": "1.5.0",
       "_view_name": "ProgressView",
       "bar_style": "success",
       "description": "",
       "description_tooltip": null,
       "layout": "IPY_MODEL_0ead3d31fda5441bb68411c783c3bcc4",
       "max": 1.0,
       "min": 0.0,
       "orientation": "horizontal",
       "style": "IPY_MODEL_bee020c5fda04504a11ada5bc1dc5a4d",
       "value": 1.0
      }
     },
     "69ddafa5879343fcb30e3c093c189364": {
      "model_module": "@jupyter-widgets/controls",
      "model_module_version": "1.5.0",
      "model_name": "FloatProgressModel",
      "state": {
       "_dom_classes": [],
       "_model_module": "@jupyter-widgets/controls",
       "_model_module_version": "1.5.0",
       "_model_name": "FloatProgressModel",
       "_view_count": null,
       "_view_module": "@jupyter-widgets/controls",
       "_view_module_version": "1.5.0",
       "_view_name": "ProgressView",
       "bar_style": "success",
       "description": "",
       "description_tooltip": null,
       "layout": "IPY_MODEL_480b588612364dd6aded24ba96149d31",
       "max": 2.0,
       "min": 0.0,
       "orientation": "horizontal",
       "style": "IPY_MODEL_22e6401f18a4489b814bdec4c1b28b72",
       "value": 2.0
      }
     },
     "6d81346b90be420e9f3107652a2b16c7": {
      "model_module": "@jupyter-widgets/controls",
      "model_module_version": "1.5.0",
      "model_name": "HTMLModel",
      "state": {
       "_dom_classes": [],
       "_model_module": "@jupyter-widgets/controls",
       "_model_module_version": "1.5.0",
       "_model_name": "HTMLModel",
       "_view_count": null,
       "_view_module": "@jupyter-widgets/controls",
       "_view_module_version": "1.5.0",
       "_view_name": "HTMLView",
       "description": "",
       "description_tooltip": null,
       "layout": "IPY_MODEL_4ad405145d054ca09df07d5bad524fd0",
       "placeholder": "​",
       "style": "IPY_MODEL_986784719d684c15b100e71be0f3fac3",
       "value": " 67/67 [00:00&lt;00:00, 443.02ex/s]"
      }
     },
     "6e34f81eec634ebdb4518ffc03d800a8": {
      "model_module": "@jupyter-widgets/controls",
      "model_module_version": "1.5.0",
      "model_name": "HTMLModel",
      "state": {
       "_dom_classes": [],
       "_model_module": "@jupyter-widgets/controls",
       "_model_module_version": "1.5.0",
       "_model_name": "HTMLModel",
       "_view_count": null,
       "_view_module": "@jupyter-widgets/controls",
       "_view_module_version": "1.5.0",
       "_view_name": "HTMLView",
       "description": "",
       "description_tooltip": null,
       "layout": "IPY_MODEL_3a224cfb1e1d4edf8c67908591bd2d5a",
       "placeholder": "​",
       "style": "IPY_MODEL_78cb71b685244b30a0262b34ea4af4f9",
       "value": "100%"
      }
     },
     "720aec65bae64408ba9420b69b935416": {
      "model_module": "@jupyter-widgets/base",
      "model_module_version": "1.2.0",
      "model_name": "LayoutModel",
      "state": {
       "_model_module": "@jupyter-widgets/base",
       "_model_module_version": "1.2.0",
       "_model_name": "LayoutModel",
       "_view_count": null,
       "_view_module": "@jupyter-widgets/base",
       "_view_module_version": "1.2.0",
       "_view_name": "LayoutView",
       "align_content": null,
       "align_items": null,
       "align_self": null,
       "border": null,
       "bottom": null,
       "display": null,
       "flex": null,
       "flex_flow": null,
       "grid_area": null,
       "grid_auto_columns": null,
       "grid_auto_flow": null,
       "grid_auto_rows": null,
       "grid_column": null,
       "grid_gap": null,
       "grid_row": null,
       "grid_template_areas": null,
       "grid_template_columns": null,
       "grid_template_rows": null,
       "height": null,
       "justify_content": null,
       "justify_items": null,
       "left": null,
       "margin": null,
       "max_height": null,
       "max_width": null,
       "min_height": null,
       "min_width": null,
       "object_fit": null,
       "object_position": null,
       "order": null,
       "overflow": null,
       "overflow_x": null,
       "overflow_y": null,
       "padding": null,
       "right": null,
       "top": null,
       "visibility": null,
       "width": null
      }
     },
     "771474bf26d042ffb16dd135a04d9b76": {
      "model_module": "@jupyter-widgets/controls",
      "model_module_version": "1.5.0",
      "model_name": "HTMLModel",
      "state": {
       "_dom_classes": [],
       "_model_module": "@jupyter-widgets/controls",
       "_model_module_version": "1.5.0",
       "_model_name": "HTMLModel",
       "_view_count": null,
       "_view_module": "@jupyter-widgets/controls",
       "_view_module_version": "1.5.0",
       "_view_name": "HTMLView",
       "description": "",
       "description_tooltip": null,
       "layout": "IPY_MODEL_40760b2bf3c74d52b87772aebb004c46",
       "placeholder": "​",
       "style": "IPY_MODEL_e86ff37ced6c4cfc8eb23495bc9ae80d",
       "value": "100%"
      }
     },
     "772f291347244b6490bffb2eb0439792": {
      "model_module": "@jupyter-widgets/controls",
      "model_module_version": "1.5.0",
      "model_name": "ProgressStyleModel",
      "state": {
       "_model_module": "@jupyter-widgets/controls",
       "_model_module_version": "1.5.0",
       "_model_name": "ProgressStyleModel",
       "_view_count": null,
       "_view_module": "@jupyter-widgets/base",
       "_view_module_version": "1.2.0",
       "_view_name": "StyleView",
       "bar_color": null,
       "description_width": ""
      }
     },
     "78cb71b685244b30a0262b34ea4af4f9": {
      "model_module": "@jupyter-widgets/controls",
      "model_module_version": "1.5.0",
      "model_name": "DescriptionStyleModel",
      "state": {
       "_model_module": "@jupyter-widgets/controls",
       "_model_module_version": "1.5.0",
       "_model_name": "DescriptionStyleModel",
       "_view_count": null,
       "_view_module": "@jupyter-widgets/base",
       "_view_module_version": "1.2.0",
       "_view_name": "StyleView",
       "description_width": ""
      }
     },
     "8658d9be57a3470e9cefc5d4eb460f3a": {
      "model_module": "@jupyter-widgets/base",
      "model_module_version": "1.2.0",
      "model_name": "LayoutModel",
      "state": {
       "_model_module": "@jupyter-widgets/base",
       "_model_module_version": "1.2.0",
       "_model_name": "LayoutModel",
       "_view_count": null,
       "_view_module": "@jupyter-widgets/base",
       "_view_module_version": "1.2.0",
       "_view_name": "LayoutView",
       "align_content": null,
       "align_items": null,
       "align_self": null,
       "border": null,
       "bottom": null,
       "display": null,
       "flex": null,
       "flex_flow": null,
       "grid_area": null,
       "grid_auto_columns": null,
       "grid_auto_flow": null,
       "grid_auto_rows": null,
       "grid_column": null,
       "grid_gap": null,
       "grid_row": null,
       "grid_template_areas": null,
       "grid_template_columns": null,
       "grid_template_rows": null,
       "height": null,
       "justify_content": null,
       "justify_items": null,
       "left": null,
       "margin": null,
       "max_height": null,
       "max_width": null,
       "min_height": null,
       "min_width": null,
       "object_fit": null,
       "object_position": null,
       "order": null,
       "overflow": null,
       "overflow_x": null,
       "overflow_y": null,
       "padding": null,
       "right": null,
       "top": null,
       "visibility": null,
       "width": null
      }
     },
     "8983b058ffee48cca6f3a9de509847b5": {
      "model_module": "@jupyter-widgets/controls",
      "model_module_version": "1.5.0",
      "model_name": "HTMLModel",
      "state": {
       "_dom_classes": [],
       "_model_module": "@jupyter-widgets/controls",
       "_model_module_version": "1.5.0",
       "_model_name": "HTMLModel",
       "_view_count": null,
       "_view_module": "@jupyter-widgets/controls",
       "_view_module_version": "1.5.0",
       "_view_name": "HTMLView",
       "description": "",
       "description_tooltip": null,
       "layout": "IPY_MODEL_1f0bd23359b64c7abd38fa9783bbdfa3",
       "placeholder": "​",
       "style": "IPY_MODEL_c58fb02ffbf341dcaa6ed5843588b1ab",
       "value": " 2/2 [00:34&lt;00:00, 14.55s/ba]"
      }
     },
     "8b51be3130ad4e738384cbe349970ed2": {
      "model_module": "@jupyter-widgets/controls",
      "model_module_version": "1.5.0",
      "model_name": "DescriptionStyleModel",
      "state": {
       "_model_module": "@jupyter-widgets/controls",
       "_model_module_version": "1.5.0",
       "_model_name": "DescriptionStyleModel",
       "_view_count": null,
       "_view_module": "@jupyter-widgets/base",
       "_view_module_version": "1.2.0",
       "_view_name": "StyleView",
       "description_width": ""
      }
     },
     "8dbdd8247a6a44aeb787c0e8d8e490e9": {
      "model_module": "@jupyter-widgets/controls",
      "model_module_version": "1.5.0",
      "model_name": "ProgressStyleModel",
      "state": {
       "_model_module": "@jupyter-widgets/controls",
       "_model_module_version": "1.5.0",
       "_model_name": "ProgressStyleModel",
       "_view_count": null,
       "_view_module": "@jupyter-widgets/base",
       "_view_module_version": "1.2.0",
       "_view_name": "StyleView",
       "bar_color": null,
       "description_width": ""
      }
     },
     "8e3fc45f1e9b4ba6a640e652e9535ac0": {
      "model_module": "@jupyter-widgets/controls",
      "model_module_version": "1.5.0",
      "model_name": "DescriptionStyleModel",
      "state": {
       "_model_module": "@jupyter-widgets/controls",
       "_model_module_version": "1.5.0",
       "_model_name": "DescriptionStyleModel",
       "_view_count": null,
       "_view_module": "@jupyter-widgets/base",
       "_view_module_version": "1.2.0",
       "_view_name": "StyleView",
       "description_width": ""
      }
     },
     "924b0bad9f5f410fa49cca183bd3a2b9": {
      "model_module": "@jupyter-widgets/controls",
      "model_module_version": "1.5.0",
      "model_name": "HTMLModel",
      "state": {
       "_dom_classes": [],
       "_model_module": "@jupyter-widgets/controls",
       "_model_module_version": "1.5.0",
       "_model_name": "HTMLModel",
       "_view_count": null,
       "_view_module": "@jupyter-widgets/controls",
       "_view_module_version": "1.5.0",
       "_view_name": "HTMLView",
       "description": "",
       "description_tooltip": null,
       "layout": "IPY_MODEL_56e07c93f8f343c79f4cba8e6eb23527",
       "placeholder": "​",
       "style": "IPY_MODEL_98ae7243af4a47e38a26d8c3f1a136a2",
       "value": "100%"
      }
     },
     "924c192700264e67be7cdba0776bef81": {
      "model_module": "@jupyter-widgets/controls",
      "model_module_version": "1.5.0",
      "model_name": "DescriptionStyleModel",
      "state": {
       "_model_module": "@jupyter-widgets/controls",
       "_model_module_version": "1.5.0",
       "_model_name": "DescriptionStyleModel",
       "_view_count": null,
       "_view_module": "@jupyter-widgets/base",
       "_view_module_version": "1.2.0",
       "_view_name": "StyleView",
       "description_width": ""
      }
     },
     "92c803b199ef480f8b29669dea79bd86": {
      "model_module": "@jupyter-widgets/controls",
      "model_module_version": "1.5.0",
      "model_name": "DescriptionStyleModel",
      "state": {
       "_model_module": "@jupyter-widgets/controls",
       "_model_module_version": "1.5.0",
       "_model_name": "DescriptionStyleModel",
       "_view_count": null,
       "_view_module": "@jupyter-widgets/base",
       "_view_module_version": "1.2.0",
       "_view_name": "StyleView",
       "description_width": ""
      }
     },
     "986784719d684c15b100e71be0f3fac3": {
      "model_module": "@jupyter-widgets/controls",
      "model_module_version": "1.5.0",
      "model_name": "DescriptionStyleModel",
      "state": {
       "_model_module": "@jupyter-widgets/controls",
       "_model_module_version": "1.5.0",
       "_model_name": "DescriptionStyleModel",
       "_view_count": null,
       "_view_module": "@jupyter-widgets/base",
       "_view_module_version": "1.2.0",
       "_view_name": "StyleView",
       "description_width": ""
      }
     },
     "98ae7243af4a47e38a26d8c3f1a136a2": {
      "model_module": "@jupyter-widgets/controls",
      "model_module_version": "1.5.0",
      "model_name": "DescriptionStyleModel",
      "state": {
       "_model_module": "@jupyter-widgets/controls",
       "_model_module_version": "1.5.0",
       "_model_name": "DescriptionStyleModel",
       "_view_count": null,
       "_view_module": "@jupyter-widgets/base",
       "_view_module_version": "1.2.0",
       "_view_name": "StyleView",
       "description_width": ""
      }
     },
     "a1a5d47a7eeb484cb16b30c19e9a56e3": {
      "model_module": "@jupyter-widgets/controls",
      "model_module_version": "1.5.0",
      "model_name": "HBoxModel",
      "state": {
       "_dom_classes": [],
       "_model_module": "@jupyter-widgets/controls",
       "_model_module_version": "1.5.0",
       "_model_name": "HBoxModel",
       "_view_count": null,
       "_view_module": "@jupyter-widgets/controls",
       "_view_module_version": "1.5.0",
       "_view_name": "HBoxView",
       "box_style": "",
       "children": [
        "IPY_MODEL_010e90a530194c27962da18e9ea11125",
        "IPY_MODEL_4b5a6cc950d64786b09366a589095f73",
        "IPY_MODEL_160bedfb00554ad69892f8392cdabc2d"
       ],
       "layout": "IPY_MODEL_e1b87cede7294fa697f71bcc7110fa8e"
      }
     },
     "a4cb74c4744443fa80c3d0026f65a506": {
      "model_module": "@jupyter-widgets/base",
      "model_module_version": "1.2.0",
      "model_name": "LayoutModel",
      "state": {
       "_model_module": "@jupyter-widgets/base",
       "_model_module_version": "1.2.0",
       "_model_name": "LayoutModel",
       "_view_count": null,
       "_view_module": "@jupyter-widgets/base",
       "_view_module_version": "1.2.0",
       "_view_name": "LayoutView",
       "align_content": null,
       "align_items": null,
       "align_self": null,
       "border": null,
       "bottom": null,
       "display": null,
       "flex": null,
       "flex_flow": null,
       "grid_area": null,
       "grid_auto_columns": null,
       "grid_auto_flow": null,
       "grid_auto_rows": null,
       "grid_column": null,
       "grid_gap": null,
       "grid_row": null,
       "grid_template_areas": null,
       "grid_template_columns": null,
       "grid_template_rows": null,
       "height": null,
       "justify_content": null,
       "justify_items": null,
       "left": null,
       "margin": null,
       "max_height": null,
       "max_width": null,
       "min_height": null,
       "min_width": null,
       "object_fit": null,
       "object_position": null,
       "order": null,
       "overflow": null,
       "overflow_x": null,
       "overflow_y": null,
       "padding": null,
       "right": null,
       "top": null,
       "visibility": null,
       "width": null
      }
     },
     "b2350139c1624ab2bd2de449ddf9ac46": {
      "model_module": "@jupyter-widgets/controls",
      "model_module_version": "1.5.0",
      "model_name": "HTMLModel",
      "state": {
       "_dom_classes": [],
       "_model_module": "@jupyter-widgets/controls",
       "_model_module_version": "1.5.0",
       "_model_name": "HTMLModel",
       "_view_count": null,
       "_view_module": "@jupyter-widgets/controls",
       "_view_module_version": "1.5.0",
       "_view_name": "HTMLView",
       "description": "",
       "description_tooltip": null,
       "layout": "IPY_MODEL_6765dc43e8414b4f95894385e0e4bc6b",
       "placeholder": "​",
       "style": "IPY_MODEL_37d75279078340bb9e9ce27d1031fd44",
       "value": " 1/1 [00:02&lt;00:00,  2.00s/ba]"
      }
     },
     "b47d013176d04cb29a3c254fcf49072d": {
      "model_module": "@jupyter-widgets/base",
      "model_module_version": "1.2.0",
      "model_name": "LayoutModel",
      "state": {
       "_model_module": "@jupyter-widgets/base",
       "_model_module_version": "1.2.0",
       "_model_name": "LayoutModel",
       "_view_count": null,
       "_view_module": "@jupyter-widgets/base",
       "_view_module_version": "1.2.0",
       "_view_name": "LayoutView",
       "align_content": null,
       "align_items": null,
       "align_self": null,
       "border": null,
       "bottom": null,
       "display": null,
       "flex": null,
       "flex_flow": null,
       "grid_area": null,
       "grid_auto_columns": null,
       "grid_auto_flow": null,
       "grid_auto_rows": null,
       "grid_column": null,
       "grid_gap": null,
       "grid_row": null,
       "grid_template_areas": null,
       "grid_template_columns": null,
       "grid_template_rows": null,
       "height": null,
       "justify_content": null,
       "justify_items": null,
       "left": null,
       "margin": null,
       "max_height": null,
       "max_width": null,
       "min_height": null,
       "min_width": null,
       "object_fit": null,
       "object_position": null,
       "order": null,
       "overflow": null,
       "overflow_x": null,
       "overflow_y": null,
       "padding": null,
       "right": null,
       "top": null,
       "visibility": null,
       "width": null
      }
     },
     "b698c0bd967946b1a33ff9e7b81a85af": {
      "model_module": "@jupyter-widgets/controls",
      "model_module_version": "1.5.0",
      "model_name": "DescriptionStyleModel",
      "state": {
       "_model_module": "@jupyter-widgets/controls",
       "_model_module_version": "1.5.0",
       "_model_name": "DescriptionStyleModel",
       "_view_count": null,
       "_view_module": "@jupyter-widgets/base",
       "_view_module_version": "1.2.0",
       "_view_name": "StyleView",
       "description_width": ""
      }
     },
     "bee020c5fda04504a11ada5bc1dc5a4d": {
      "model_module": "@jupyter-widgets/controls",
      "model_module_version": "1.5.0",
      "model_name": "ProgressStyleModel",
      "state": {
       "_model_module": "@jupyter-widgets/controls",
       "_model_module_version": "1.5.0",
       "_model_name": "ProgressStyleModel",
       "_view_count": null,
       "_view_module": "@jupyter-widgets/base",
       "_view_module_version": "1.2.0",
       "_view_name": "StyleView",
       "bar_color": null,
       "description_width": ""
      }
     },
     "c0056c16a9ba4d679ed7a8436bc1daf9": {
      "model_module": "@jupyter-widgets/controls",
      "model_module_version": "1.5.0",
      "model_name": "FloatProgressModel",
      "state": {
       "_dom_classes": [],
       "_model_module": "@jupyter-widgets/controls",
       "_model_module_version": "1.5.0",
       "_model_name": "FloatProgressModel",
       "_view_count": null,
       "_view_module": "@jupyter-widgets/controls",
       "_view_module_version": "1.5.0",
       "_view_name": "ProgressView",
       "bar_style": "success",
       "description": "",
       "description_tooltip": null,
       "layout": "IPY_MODEL_720aec65bae64408ba9420b69b935416",
       "max": 816.0,
       "min": 0.0,
       "orientation": "horizontal",
       "style": "IPY_MODEL_db8808ee4c01420795610bdbc2a59813",
       "value": 816.0
      }
     },
     "c2da28c5d74f4e7e857839f3523c09fa": {
      "model_module": "@jupyter-widgets/controls",
      "model_module_version": "1.5.0",
      "model_name": "ProgressStyleModel",
      "state": {
       "_model_module": "@jupyter-widgets/controls",
       "_model_module_version": "1.5.0",
       "_model_name": "ProgressStyleModel",
       "_view_count": null,
       "_view_module": "@jupyter-widgets/base",
       "_view_module_version": "1.2.0",
       "_view_name": "StyleView",
       "bar_color": null,
       "description_width": ""
      }
     },
     "c35ae74cd7cd4e2e86d26699c5d45e51": {
      "model_module": "@jupyter-widgets/base",
      "model_module_version": "1.2.0",
      "model_name": "LayoutModel",
      "state": {
       "_model_module": "@jupyter-widgets/base",
       "_model_module_version": "1.2.0",
       "_model_name": "LayoutModel",
       "_view_count": null,
       "_view_module": "@jupyter-widgets/base",
       "_view_module_version": "1.2.0",
       "_view_name": "LayoutView",
       "align_content": null,
       "align_items": null,
       "align_self": null,
       "border": null,
       "bottom": null,
       "display": null,
       "flex": null,
       "flex_flow": null,
       "grid_area": null,
       "grid_auto_columns": null,
       "grid_auto_flow": null,
       "grid_auto_rows": null,
       "grid_column": null,
       "grid_gap": null,
       "grid_row": null,
       "grid_template_areas": null,
       "grid_template_columns": null,
       "grid_template_rows": null,
       "height": null,
       "justify_content": null,
       "justify_items": null,
       "left": null,
       "margin": null,
       "max_height": null,
       "max_width": null,
       "min_height": null,
       "min_width": null,
       "object_fit": null,
       "object_position": null,
       "order": null,
       "overflow": null,
       "overflow_x": null,
       "overflow_y": null,
       "padding": null,
       "right": null,
       "top": null,
       "visibility": null,
       "width": null
      }
     },
     "c39bd90c9d0b4b3cb67c60eb151fb2c6": {
      "model_module": "@jupyter-widgets/controls",
      "model_module_version": "1.5.0",
      "model_name": "HTMLModel",
      "state": {
       "_dom_classes": [],
       "_model_module": "@jupyter-widgets/controls",
       "_model_module_version": "1.5.0",
       "_model_name": "HTMLModel",
       "_view_count": null,
       "_view_module": "@jupyter-widgets/controls",
       "_view_module_version": "1.5.0",
       "_view_name": "HTMLView",
       "description": "",
       "description_tooltip": null,
       "layout": "IPY_MODEL_461e0e6b0b6e451298933de2e8324c9b",
       "placeholder": "​",
       "style": "IPY_MODEL_1bc5f26382c44246aee36e06eff17993",
       "value": " 1/1 [00:00&lt;00:00,  2.46ba/s]"
      }
     },
     "c58fb02ffbf341dcaa6ed5843588b1ab": {
      "model_module": "@jupyter-widgets/controls",
      "model_module_version": "1.5.0",
      "model_name": "DescriptionStyleModel",
      "state": {
       "_model_module": "@jupyter-widgets/controls",
       "_model_module_version": "1.5.0",
       "_model_name": "DescriptionStyleModel",
       "_view_count": null,
       "_view_module": "@jupyter-widgets/base",
       "_view_module_version": "1.2.0",
       "_view_name": "StyleView",
       "description_width": ""
      }
     },
     "ca0722dd02e04db3a2f292bdb3a9ac1d": {
      "model_module": "@jupyter-widgets/base",
      "model_module_version": "1.2.0",
      "model_name": "LayoutModel",
      "state": {
       "_model_module": "@jupyter-widgets/base",
       "_model_module_version": "1.2.0",
       "_model_name": "LayoutModel",
       "_view_count": null,
       "_view_module": "@jupyter-widgets/base",
       "_view_module_version": "1.2.0",
       "_view_name": "LayoutView",
       "align_content": null,
       "align_items": null,
       "align_self": null,
       "border": null,
       "bottom": null,
       "display": null,
       "flex": null,
       "flex_flow": null,
       "grid_area": null,
       "grid_auto_columns": null,
       "grid_auto_flow": null,
       "grid_auto_rows": null,
       "grid_column": null,
       "grid_gap": null,
       "grid_row": null,
       "grid_template_areas": null,
       "grid_template_columns": null,
       "grid_template_rows": null,
       "height": null,
       "justify_content": null,
       "justify_items": null,
       "left": null,
       "margin": null,
       "max_height": null,
       "max_width": null,
       "min_height": null,
       "min_width": null,
       "object_fit": null,
       "object_position": null,
       "order": null,
       "overflow": null,
       "overflow_x": null,
       "overflow_y": null,
       "padding": null,
       "right": null,
       "top": null,
       "visibility": null,
       "width": null
      }
     },
     "ccb631c6551c42a9a2df1910cf10207f": {
      "model_module": "@jupyter-widgets/controls",
      "model_module_version": "1.5.0",
      "model_name": "FloatProgressModel",
      "state": {
       "_dom_classes": [],
       "_model_module": "@jupyter-widgets/controls",
       "_model_module_version": "1.5.0",
       "_model_name": "FloatProgressModel",
       "_view_count": null,
       "_view_module": "@jupyter-widgets/controls",
       "_view_module_version": "1.5.0",
       "_view_name": "ProgressView",
       "bar_style": "success",
       "description": "",
       "description_tooltip": null,
       "layout": "IPY_MODEL_1c581b9184da4d398faa0ba2a67b5f06",
       "max": 67.0,
       "min": 0.0,
       "orientation": "horizontal",
       "style": "IPY_MODEL_772f291347244b6490bffb2eb0439792",
       "value": 67.0
      }
     },
     "cd6c21bdb3624397bead65ec73743b21": {
      "model_module": "@jupyter-widgets/controls",
      "model_module_version": "1.5.0",
      "model_name": "HTMLModel",
      "state": {
       "_dom_classes": [],
       "_model_module": "@jupyter-widgets/controls",
       "_model_module_version": "1.5.0",
       "_model_name": "HTMLModel",
       "_view_count": null,
       "_view_module": "@jupyter-widgets/controls",
       "_view_module_version": "1.5.0",
       "_view_name": "HTMLView",
       "description": "",
       "description_tooltip": null,
       "layout": "IPY_MODEL_a4cb74c4744443fa80c3d0026f65a506",
       "placeholder": "​",
       "style": "IPY_MODEL_020da994dc674a76bd84473a75befc82",
       "value": "100%"
      }
     },
     "d51d269de7cf4cd387c537f3593f9aad": {
      "model_module": "@jupyter-widgets/base",
      "model_module_version": "1.2.0",
      "model_name": "LayoutModel",
      "state": {
       "_model_module": "@jupyter-widgets/base",
       "_model_module_version": "1.2.0",
       "_model_name": "LayoutModel",
       "_view_count": null,
       "_view_module": "@jupyter-widgets/base",
       "_view_module_version": "1.2.0",
       "_view_name": "LayoutView",
       "align_content": null,
       "align_items": null,
       "align_self": null,
       "border": null,
       "bottom": null,
       "display": null,
       "flex": null,
       "flex_flow": null,
       "grid_area": null,
       "grid_auto_columns": null,
       "grid_auto_flow": null,
       "grid_auto_rows": null,
       "grid_column": null,
       "grid_gap": null,
       "grid_row": null,
       "grid_template_areas": null,
       "grid_template_columns": null,
       "grid_template_rows": null,
       "height": null,
       "justify_content": null,
       "justify_items": null,
       "left": null,
       "margin": null,
       "max_height": null,
       "max_width": null,
       "min_height": null,
       "min_width": null,
       "object_fit": null,
       "object_position": null,
       "order": null,
       "overflow": null,
       "overflow_x": null,
       "overflow_y": null,
       "padding": null,
       "right": null,
       "top": null,
       "visibility": null,
       "width": null
      }
     },
     "d5f32ca7aa6c4f41aeec36e48ecf5d61": {
      "model_module": "@jupyter-widgets/controls",
      "model_module_version": "1.5.0",
      "model_name": "FloatProgressModel",
      "state": {
       "_dom_classes": [],
       "_model_module": "@jupyter-widgets/controls",
       "_model_module_version": "1.5.0",
       "_model_name": "FloatProgressModel",
       "_view_count": null,
       "_view_module": "@jupyter-widgets/controls",
       "_view_module_version": "1.5.0",
       "_view_name": "ProgressView",
       "bar_style": "success",
       "description": "",
       "description_tooltip": null,
       "layout": "IPY_MODEL_4bc800d415ae4a21a3be619a09923e52",
       "max": 5.0,
       "min": 0.0,
       "orientation": "horizontal",
       "style": "IPY_MODEL_009dca461ab3495e9e22d21199d57990",
       "value": 5.0
      }
     },
     "db8808ee4c01420795610bdbc2a59813": {
      "model_module": "@jupyter-widgets/controls",
      "model_module_version": "1.5.0",
      "model_name": "ProgressStyleModel",
      "state": {
       "_model_module": "@jupyter-widgets/controls",
       "_model_module_version": "1.5.0",
       "_model_name": "ProgressStyleModel",
       "_view_count": null,
       "_view_module": "@jupyter-widgets/base",
       "_view_module_version": "1.2.0",
       "_view_name": "StyleView",
       "bar_color": null,
       "description_width": ""
      }
     },
     "dd0a7f03b95a4c35b37a183c05e965c3": {
      "model_module": "@jupyter-widgets/controls",
      "model_module_version": "1.5.0",
      "model_name": "HTMLModel",
      "state": {
       "_dom_classes": [],
       "_model_module": "@jupyter-widgets/controls",
       "_model_module_version": "1.5.0",
       "_model_name": "HTMLModel",
       "_view_count": null,
       "_view_module": "@jupyter-widgets/controls",
       "_view_module_version": "1.5.0",
       "_view_name": "HTMLView",
       "description": "",
       "description_tooltip": null,
       "layout": "IPY_MODEL_f298a67ce16b4b7cb934678767e41b37",
       "placeholder": "​",
       "style": "IPY_MODEL_b698c0bd967946b1a33ff9e7b81a85af",
       "value": "100%"
      }
     },
     "dd5376fc46384959b08a7d968df1c300": {
      "model_module": "@jupyter-widgets/controls",
      "model_module_version": "1.5.0",
      "model_name": "HBoxModel",
      "state": {
       "_dom_classes": [],
       "_model_module": "@jupyter-widgets/controls",
       "_model_module_version": "1.5.0",
       "_model_name": "HBoxModel",
       "_view_count": null,
       "_view_module": "@jupyter-widgets/controls",
       "_view_module_version": "1.5.0",
       "_view_name": "HBoxView",
       "box_style": "",
       "children": [
        "IPY_MODEL_59e3d5437e844f3285d81844e3f81594",
        "IPY_MODEL_691d6beb933c46e59137252c06e8a2be",
        "IPY_MODEL_c39bd90c9d0b4b3cb67c60eb151fb2c6"
       ],
       "layout": "IPY_MODEL_b47d013176d04cb29a3c254fcf49072d"
      }
     },
     "e1b87cede7294fa697f71bcc7110fa8e": {
      "model_module": "@jupyter-widgets/base",
      "model_module_version": "1.2.0",
      "model_name": "LayoutModel",
      "state": {
       "_model_module": "@jupyter-widgets/base",
       "_model_module_version": "1.2.0",
       "_model_name": "LayoutModel",
       "_view_count": null,
       "_view_module": "@jupyter-widgets/base",
       "_view_module_version": "1.2.0",
       "_view_name": "LayoutView",
       "align_content": null,
       "align_items": null,
       "align_self": null,
       "border": null,
       "bottom": null,
       "display": null,
       "flex": null,
       "flex_flow": null,
       "grid_area": null,
       "grid_auto_columns": null,
       "grid_auto_flow": null,
       "grid_auto_rows": null,
       "grid_column": null,
       "grid_gap": null,
       "grid_row": null,
       "grid_template_areas": null,
       "grid_template_columns": null,
       "grid_template_rows": null,
       "height": null,
       "justify_content": null,
       "justify_items": null,
       "left": null,
       "margin": null,
       "max_height": null,
       "max_width": null,
       "min_height": null,
       "min_width": null,
       "object_fit": null,
       "object_position": null,
       "order": null,
       "overflow": null,
       "overflow_x": null,
       "overflow_y": null,
       "padding": null,
       "right": null,
       "top": null,
       "visibility": null,
       "width": null
      }
     },
     "e3ab57bbe70e429194b6b2d8389646e9": {
      "model_module": "@jupyter-widgets/controls",
      "model_module_version": "1.5.0",
      "model_name": "HBoxModel",
      "state": {
       "_dom_classes": [],
       "_model_module": "@jupyter-widgets/controls",
       "_model_module_version": "1.5.0",
       "_model_name": "HBoxModel",
       "_view_count": null,
       "_view_module": "@jupyter-widgets/controls",
       "_view_module_version": "1.5.0",
       "_view_name": "HBoxView",
       "box_style": "",
       "children": [
        "IPY_MODEL_924b0bad9f5f410fa49cca183bd3a2b9",
        "IPY_MODEL_ccb631c6551c42a9a2df1910cf10207f",
        "IPY_MODEL_6d81346b90be420e9f3107652a2b16c7"
       ],
       "layout": "IPY_MODEL_8658d9be57a3470e9cefc5d4eb460f3a"
      }
     },
     "e86ff37ced6c4cfc8eb23495bc9ae80d": {
      "model_module": "@jupyter-widgets/controls",
      "model_module_version": "1.5.0",
      "model_name": "DescriptionStyleModel",
      "state": {
       "_model_module": "@jupyter-widgets/controls",
       "_model_module_version": "1.5.0",
       "_model_name": "DescriptionStyleModel",
       "_view_count": null,
       "_view_module": "@jupyter-widgets/base",
       "_view_module_version": "1.2.0",
       "_view_name": "StyleView",
       "description_width": ""
      }
     },
     "ed1c57c2873a45258d8a4e981a376312": {
      "model_module": "@jupyter-widgets/controls",
      "model_module_version": "1.5.0",
      "model_name": "DescriptionStyleModel",
      "state": {
       "_model_module": "@jupyter-widgets/controls",
       "_model_module_version": "1.5.0",
       "_model_name": "DescriptionStyleModel",
       "_view_count": null,
       "_view_module": "@jupyter-widgets/base",
       "_view_module_version": "1.2.0",
       "_view_name": "StyleView",
       "description_width": ""
      }
     },
     "eebf15f297e84388ac955a7657a05dbb": {
      "model_module": "@jupyter-widgets/base",
      "model_module_version": "1.2.0",
      "model_name": "LayoutModel",
      "state": {
       "_model_module": "@jupyter-widgets/base",
       "_model_module_version": "1.2.0",
       "_model_name": "LayoutModel",
       "_view_count": null,
       "_view_module": "@jupyter-widgets/base",
       "_view_module_version": "1.2.0",
       "_view_name": "LayoutView",
       "align_content": null,
       "align_items": null,
       "align_self": null,
       "border": null,
       "bottom": null,
       "display": null,
       "flex": null,
       "flex_flow": null,
       "grid_area": null,
       "grid_auto_columns": null,
       "grid_auto_flow": null,
       "grid_auto_rows": null,
       "grid_column": null,
       "grid_gap": null,
       "grid_row": null,
       "grid_template_areas": null,
       "grid_template_columns": null,
       "grid_template_rows": null,
       "height": null,
       "justify_content": null,
       "justify_items": null,
       "left": null,
       "margin": null,
       "max_height": null,
       "max_width": null,
       "min_height": null,
       "min_width": null,
       "object_fit": null,
       "object_position": null,
       "order": null,
       "overflow": null,
       "overflow_x": null,
       "overflow_y": null,
       "padding": null,
       "right": null,
       "top": null,
       "visibility": null,
       "width": null
      }
     },
     "f1f3119574b741e9b42669ee3e69d30c": {
      "model_module": "@jupyter-widgets/controls",
      "model_module_version": "1.5.0",
      "model_name": "ProgressStyleModel",
      "state": {
       "_model_module": "@jupyter-widgets/controls",
       "_model_module_version": "1.5.0",
       "_model_name": "ProgressStyleModel",
       "_view_count": null,
       "_view_module": "@jupyter-widgets/base",
       "_view_module_version": "1.2.0",
       "_view_name": "StyleView",
       "bar_color": null,
       "description_width": ""
      }
     },
     "f205b9f8fcde4a3a836de00bfddbbf11": {
      "model_module": "@jupyter-widgets/controls",
      "model_module_version": "1.5.0",
      "model_name": "HTMLModel",
      "state": {
       "_dom_classes": [],
       "_model_module": "@jupyter-widgets/controls",
       "_model_module_version": "1.5.0",
       "_model_name": "HTMLModel",
       "_view_count": null,
       "_view_module": "@jupyter-widgets/controls",
       "_view_module_version": "1.5.0",
       "_view_name": "HTMLView",
       "description": "",
       "description_tooltip": null,
       "layout": "IPY_MODEL_fb24626c4a2a455cb927ffdb1bc5543c",
       "placeholder": "​",
       "style": "IPY_MODEL_ed1c57c2873a45258d8a4e981a376312",
       "value": " 5/5 [00:00&lt;00:00,  8.43it/s]"
      }
     },
     "f298a67ce16b4b7cb934678767e41b37": {
      "model_module": "@jupyter-widgets/base",
      "model_module_version": "1.2.0",
      "model_name": "LayoutModel",
      "state": {
       "_model_module": "@jupyter-widgets/base",
       "_model_module_version": "1.2.0",
       "_model_name": "LayoutModel",
       "_view_count": null,
       "_view_module": "@jupyter-widgets/base",
       "_view_module_version": "1.2.0",
       "_view_name": "LayoutView",
       "align_content": null,
       "align_items": null,
       "align_self": null,
       "border": null,
       "bottom": null,
       "display": null,
       "flex": null,
       "flex_flow": null,
       "grid_area": null,
       "grid_auto_columns": null,
       "grid_auto_flow": null,
       "grid_auto_rows": null,
       "grid_column": null,
       "grid_gap": null,
       "grid_row": null,
       "grid_template_areas": null,
       "grid_template_columns": null,
       "grid_template_rows": null,
       "height": null,
       "justify_content": null,
       "justify_items": null,
       "left": null,
       "margin": null,
       "max_height": null,
       "max_width": null,
       "min_height": null,
       "min_width": null,
       "object_fit": null,
       "object_position": null,
       "order": null,
       "overflow": null,
       "overflow_x": null,
       "overflow_y": null,
       "padding": null,
       "right": null,
       "top": null,
       "visibility": null,
       "width": null
      }
     },
     "f41a36bdd64645118a6531e5c78661db": {
      "model_module": "@jupyter-widgets/controls",
      "model_module_version": "1.5.0",
      "model_name": "HTMLModel",
      "state": {
       "_dom_classes": [],
       "_model_module": "@jupyter-widgets/controls",
       "_model_module_version": "1.5.0",
       "_model_name": "HTMLModel",
       "_view_count": null,
       "_view_module": "@jupyter-widgets/controls",
       "_view_module_version": "1.5.0",
       "_view_name": "HTMLView",
       "description": "",
       "description_tooltip": null,
       "layout": "IPY_MODEL_03f01883f35e4be49386f75b43140530",
       "placeholder": "​",
       "style": "IPY_MODEL_8b51be3130ad4e738384cbe349970ed2",
       "value": " 816/816 [00:01&lt;00:00, 575.94ex/s]"
      }
     },
     "f59b77cdbbb04a98b8b3cc3921c3fa1a": {
      "model_module": "@jupyter-widgets/controls",
      "model_module_version": "1.5.0",
      "model_name": "DescriptionStyleModel",
      "state": {
       "_model_module": "@jupyter-widgets/controls",
       "_model_module_version": "1.5.0",
       "_model_name": "DescriptionStyleModel",
       "_view_count": null,
       "_view_module": "@jupyter-widgets/base",
       "_view_module_version": "1.2.0",
       "_view_name": "StyleView",
       "description_width": ""
      }
     },
     "fa874f9c97fe4e86920f5497a0b190e5": {
      "model_module": "@jupyter-widgets/controls",
      "model_module_version": "1.5.0",
      "model_name": "HBoxModel",
      "state": {
       "_dom_classes": [],
       "_model_module": "@jupyter-widgets/controls",
       "_model_module_version": "1.5.0",
       "_model_name": "HBoxModel",
       "_view_count": null,
       "_view_module": "@jupyter-widgets/controls",
       "_view_module_version": "1.5.0",
       "_view_name": "HBoxView",
       "box_style": "",
       "children": [
        "IPY_MODEL_cd6c21bdb3624397bead65ec73743b21",
        "IPY_MODEL_0c30d84f3dc046c0a186ffc4955412d4",
        "IPY_MODEL_b2350139c1624ab2bd2de449ddf9ac46"
       ],
       "layout": "IPY_MODEL_ffc45b72373b407db729cb14f3027f06"
      }
     },
     "faef2c8f76924721a3c31dbdf2e828e6": {
      "model_module": "@jupyter-widgets/controls",
      "model_module_version": "1.5.0",
      "model_name": "FloatProgressModel",
      "state": {
       "_dom_classes": [],
       "_model_module": "@jupyter-widgets/controls",
       "_model_module_version": "1.5.0",
       "_model_name": "FloatProgressModel",
       "_view_count": null,
       "_view_module": "@jupyter-widgets/controls",
       "_view_module_version": "1.5.0",
       "_view_name": "ProgressView",
       "bar_style": "success",
       "description": "",
       "description_tooltip": null,
       "layout": "IPY_MODEL_c35ae74cd7cd4e2e86d26699c5d45e51",
       "max": 64.0,
       "min": 0.0,
       "orientation": "horizontal",
       "style": "IPY_MODEL_8dbdd8247a6a44aeb787c0e8d8e490e9",
       "value": 64.0
      }
     },
     "fb0dfd71c7724dcb9a5e9eede691e339": {
      "model_module": "@jupyter-widgets/base",
      "model_module_version": "1.2.0",
      "model_name": "LayoutModel",
      "state": {
       "_model_module": "@jupyter-widgets/base",
       "_model_module_version": "1.2.0",
       "_model_name": "LayoutModel",
       "_view_count": null,
       "_view_module": "@jupyter-widgets/base",
       "_view_module_version": "1.2.0",
       "_view_name": "LayoutView",
       "align_content": null,
       "align_items": null,
       "align_self": null,
       "border": null,
       "bottom": null,
       "display": null,
       "flex": null,
       "flex_flow": null,
       "grid_area": null,
       "grid_auto_columns": null,
       "grid_auto_flow": null,
       "grid_auto_rows": null,
       "grid_column": null,
       "grid_gap": null,
       "grid_row": null,
       "grid_template_areas": null,
       "grid_template_columns": null,
       "grid_template_rows": null,
       "height": null,
       "justify_content": null,
       "justify_items": null,
       "left": null,
       "margin": null,
       "max_height": null,
       "max_width": null,
       "min_height": null,
       "min_width": null,
       "object_fit": null,
       "object_position": null,
       "order": null,
       "overflow": null,
       "overflow_x": null,
       "overflow_y": null,
       "padding": null,
       "right": null,
       "top": null,
       "visibility": null,
       "width": null
      }
     },
     "fb24626c4a2a455cb927ffdb1bc5543c": {
      "model_module": "@jupyter-widgets/base",
      "model_module_version": "1.2.0",
      "model_name": "LayoutModel",
      "state": {
       "_model_module": "@jupyter-widgets/base",
       "_model_module_version": "1.2.0",
       "_model_name": "LayoutModel",
       "_view_count": null,
       "_view_module": "@jupyter-widgets/base",
       "_view_module_version": "1.2.0",
       "_view_name": "LayoutView",
       "align_content": null,
       "align_items": null,
       "align_self": null,
       "border": null,
       "bottom": null,
       "display": null,
       "flex": null,
       "flex_flow": null,
       "grid_area": null,
       "grid_auto_columns": null,
       "grid_auto_flow": null,
       "grid_auto_rows": null,
       "grid_column": null,
       "grid_gap": null,
       "grid_row": null,
       "grid_template_areas": null,
       "grid_template_columns": null,
       "grid_template_rows": null,
       "height": null,
       "justify_content": null,
       "justify_items": null,
       "left": null,
       "margin": null,
       "max_height": null,
       "max_width": null,
       "min_height": null,
       "min_width": null,
       "object_fit": null,
       "object_position": null,
       "order": null,
       "overflow": null,
       "overflow_x": null,
       "overflow_y": null,
       "padding": null,
       "right": null,
       "top": null,
       "visibility": null,
       "width": null
      }
     },
     "ffc45b72373b407db729cb14f3027f06": {
      "model_module": "@jupyter-widgets/base",
      "model_module_version": "1.2.0",
      "model_name": "LayoutModel",
      "state": {
       "_model_module": "@jupyter-widgets/base",
       "_model_module_version": "1.2.0",
       "_model_name": "LayoutModel",
       "_view_count": null,
       "_view_module": "@jupyter-widgets/base",
       "_view_module_version": "1.2.0",
       "_view_name": "LayoutView",
       "align_content": null,
       "align_items": null,
       "align_self": null,
       "border": null,
       "bottom": null,
       "display": null,
       "flex": null,
       "flex_flow": null,
       "grid_area": null,
       "grid_auto_columns": null,
       "grid_auto_flow": null,
       "grid_auto_rows": null,
       "grid_column": null,
       "grid_gap": null,
       "grid_row": null,
       "grid_template_areas": null,
       "grid_template_columns": null,
       "grid_template_rows": null,
       "height": null,
       "justify_content": null,
       "justify_items": null,
       "left": null,
       "margin": null,
       "max_height": null,
       "max_width": null,
       "min_height": null,
       "min_width": null,
       "object_fit": null,
       "object_position": null,
       "order": null,
       "overflow": null,
       "overflow_x": null,
       "overflow_y": null,
       "padding": null,
       "right": null,
       "top": null,
       "visibility": null,
       "width": null
      }
     }
    },
    "version_major": 2,
    "version_minor": 0
   }
  }
 },
 "nbformat": 4,
 "nbformat_minor": 5
}
